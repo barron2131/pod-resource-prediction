{
 "cells": [
  {
   "cell_type": "code",
   "execution_count": 2,
   "id": "initial_id",
   "metadata": {
    "collapsed": true,
    "ExecuteTime": {
     "end_time": "2024-01-04T19:33:52.180724325Z",
     "start_time": "2024-01-04T19:33:52.008518675Z"
    }
   },
   "outputs": [],
   "source": [
    "import os\n",
    "import pandas as pd\n",
    "import numpy as np\n",
    "from tqdm import tqdm"
   ]
  },
  {
   "cell_type": "markdown",
   "source": [
    "## Join RAW files"
   ],
   "metadata": {
    "collapsed": false
   },
   "id": "c00d35ba1cb6ba74"
  },
  {
   "cell_type": "code",
   "outputs": [
    {
     "name": "stderr",
     "output_type": "stream",
     "text": [
      "100%|██████████| 11/11 [00:00<00:00, 17.52it/s]\n"
     ]
    },
    {
     "data": {
      "text/plain": "            adservice_cpu  adservice_ram  cartservice_cpu  cartservice_ram  \\\ntimestamp                                                                    \n1701825744       0.006491   4.344186e+06         0.010313     2.792473e+03   \n1701825804       0.006662   1.122781e+03         0.006516     2.317005e+06   \n1701825864       0.005444   2.501221e+02         0.009085     1.911022e+06   \n1701825924       0.005505   0.000000e+00         0.009100     4.154800e+06   \n1701825984       0.002363   6.353886e+06         0.009596     4.152257e+06   \n...                   ...            ...              ...              ...   \n1701911904       0.005540   2.687047e+02         0.010791     2.166942e+06   \n1701911964       0.005088   3.671032e+06         0.010087     2.199581e+06   \n1701912024       0.005208   3.785331e+06         0.009313     2.565518e+06   \n1701912084       0.005101   3.770873e+06         0.007017     2.753052e+06   \n1701912144       0.004423   6.898659e+06         0.009675     1.765667e+06   \n\n            checkoutservice_cpu  checkoutservice_ram  currencyservice_cpu  \\\ntimestamp                                                                   \n1701825744             0.005188         1.356858e+06             0.057166   \n1701825804             0.004203         1.181493e+02             0.047199   \n1701825864             0.003002         1.428579e+06             0.036961   \n1701825924             0.003821         1.409514e+06             0.053485   \n1701825984             0.003748         2.002629e+06             0.055062   \n...                         ...                  ...                  ...   \n1701911904             0.003826         3.199345e+06             0.059259   \n1701911964             0.004691         1.446002e+06             0.052142   \n1701912024             0.005312         2.847608e+03             0.055225   \n1701912084             0.004301         5.264105e+02             0.036146   \n1701912144             0.004960         1.504756e+06             0.055647   \n\n            currencyservice_ram  emailservice_cpu  emailservice_ram  ...  \\\ntimestamp                                                            ...   \n1701825744         4.505918e+06          0.004008      2.443887e+02  ...   \n1701825804         2.284438e+04          0.004733      0.000000e+00  ...   \n1701825864         1.115212e+04          0.004050      2.669992e+06  ...   \n1701825924         1.610893e+06          0.004510      4.283231e+06  ...   \n1701825984         1.341332e+04          0.004216      9.512971e+01  ...   \n...                         ...               ...               ...  ...   \n1701911904         1.982433e+06          0.004989      0.000000e+00  ...   \n1701911964         5.324126e+06          0.004859      7.505155e+03  ...   \n1701912024         3.495819e+06          0.004952      3.089686e+06  ...   \n1701912084         2.464451e+06          0.004621      1.986074e+06  ...   \n1701912144         3.376035e+06          0.005043      5.185820e+03  ...   \n\n            paymentservice_cpu  paymentservice_ram  productcatalogservice_cpu  \\\ntimestamp                                                                       \n1701825744            0.004668        2.030300e+06                   0.021772   \n1701825804            0.003759        1.683843e+06                   0.011461   \n1701825864            0.001572        4.198400e+03                   0.017683   \n1701825924            0.004368        1.421130e+06                   0.019390   \n1701825984            0.003510        1.601227e+06                   0.018888   \n...                        ...                 ...                        ...   \n1701911904            0.003935        1.157220e+04                   0.015134   \n1701911964            0.004306        1.243972e+04                   0.021002   \n1701912024            0.003260        9.878573e+03                   0.020117   \n1701912084            0.004107        2.673667e+06                   0.021580   \n1701912144            0.004041        1.561045e+06                   0.022216   \n\n            productcatalogservice_ram  recommendationservice_cpu  \\\ntimestamp                                                          \n1701825744               2.934991e+06                   0.011848   \n1701825804               1.618227e+06                   0.011138   \n1701825864               1.491514e+06                   0.010565   \n1701825924               1.280892e+06                   0.009156   \n1701825984               9.876798e+03                   0.011243   \n...                               ...                        ...   \n1701911904               2.147919e+06                   0.010035   \n1701911964               1.375474e+06                   0.012102   \n1701912024               1.535452e+06                   0.012409   \n1701912084               4.005902e+06                   0.012145   \n1701912144               2.682405e+06                   0.011860   \n\n            recommendationservice_ram  redis_cpu     redis_ram  \\\ntimestamp                                                        \n1701825744               5.497300e+06   0.004059  1.177182e+06   \n1701825804               1.967024e+06   0.002752  1.420288e+06   \n1701825864               1.563657e+02   0.003950  5.277394e+03   \n1701825924               2.200314e+06   0.004141  1.435541e+06   \n1701825984               4.731383e+06   0.003892  2.240093e+06   \n...                               ...        ...           ...   \n1701911904               4.496351e+06   0.004098  1.795620e+06   \n1701911964               2.249621e+06   0.004079  1.284862e+06   \n1701912024               2.310013e+02   0.004184  2.399579e+06   \n1701912084               3.999036e+06   0.004027  5.680150e+03   \n1701912144               2.737116e+06   0.004178  1.254272e+06   \n\n            shippingservice_cpu  shippingservice_ram  \ntimestamp                                             \n1701825744             0.004627         1.403310e+03  \n1701825804             0.003311         1.532223e+06  \n1701825864             0.003696         1.363703e+06  \n1701825924             0.003736         1.881729e+06  \n1701825984             0.003977         3.218463e+06  \n...                         ...                  ...  \n1701911904             0.004481         2.855173e+06  \n1701911964             0.004163         1.875621e+03  \n1701912024             0.003959         1.735775e+06  \n1701912084             0.003755         2.456472e+03  \n1701912144             0.004272         1.031759e+04  \n\n[1440 rows x 22 columns]",
      "text/html": "<div>\n<style scoped>\n    .dataframe tbody tr th:only-of-type {\n        vertical-align: middle;\n    }\n\n    .dataframe tbody tr th {\n        vertical-align: top;\n    }\n\n    .dataframe thead th {\n        text-align: right;\n    }\n</style>\n<table border=\"1\" class=\"dataframe\">\n  <thead>\n    <tr style=\"text-align: right;\">\n      <th></th>\n      <th>adservice_cpu</th>\n      <th>adservice_ram</th>\n      <th>cartservice_cpu</th>\n      <th>cartservice_ram</th>\n      <th>checkoutservice_cpu</th>\n      <th>checkoutservice_ram</th>\n      <th>currencyservice_cpu</th>\n      <th>currencyservice_ram</th>\n      <th>emailservice_cpu</th>\n      <th>emailservice_ram</th>\n      <th>...</th>\n      <th>paymentservice_cpu</th>\n      <th>paymentservice_ram</th>\n      <th>productcatalogservice_cpu</th>\n      <th>productcatalogservice_ram</th>\n      <th>recommendationservice_cpu</th>\n      <th>recommendationservice_ram</th>\n      <th>redis_cpu</th>\n      <th>redis_ram</th>\n      <th>shippingservice_cpu</th>\n      <th>shippingservice_ram</th>\n    </tr>\n    <tr>\n      <th>timestamp</th>\n      <th></th>\n      <th></th>\n      <th></th>\n      <th></th>\n      <th></th>\n      <th></th>\n      <th></th>\n      <th></th>\n      <th></th>\n      <th></th>\n      <th></th>\n      <th></th>\n      <th></th>\n      <th></th>\n      <th></th>\n      <th></th>\n      <th></th>\n      <th></th>\n      <th></th>\n      <th></th>\n      <th></th>\n    </tr>\n  </thead>\n  <tbody>\n    <tr>\n      <th>1701825744</th>\n      <td>0.006491</td>\n      <td>4.344186e+06</td>\n      <td>0.010313</td>\n      <td>2.792473e+03</td>\n      <td>0.005188</td>\n      <td>1.356858e+06</td>\n      <td>0.057166</td>\n      <td>4.505918e+06</td>\n      <td>0.004008</td>\n      <td>2.443887e+02</td>\n      <td>...</td>\n      <td>0.004668</td>\n      <td>2.030300e+06</td>\n      <td>0.021772</td>\n      <td>2.934991e+06</td>\n      <td>0.011848</td>\n      <td>5.497300e+06</td>\n      <td>0.004059</td>\n      <td>1.177182e+06</td>\n      <td>0.004627</td>\n      <td>1.403310e+03</td>\n    </tr>\n    <tr>\n      <th>1701825804</th>\n      <td>0.006662</td>\n      <td>1.122781e+03</td>\n      <td>0.006516</td>\n      <td>2.317005e+06</td>\n      <td>0.004203</td>\n      <td>1.181493e+02</td>\n      <td>0.047199</td>\n      <td>2.284438e+04</td>\n      <td>0.004733</td>\n      <td>0.000000e+00</td>\n      <td>...</td>\n      <td>0.003759</td>\n      <td>1.683843e+06</td>\n      <td>0.011461</td>\n      <td>1.618227e+06</td>\n      <td>0.011138</td>\n      <td>1.967024e+06</td>\n      <td>0.002752</td>\n      <td>1.420288e+06</td>\n      <td>0.003311</td>\n      <td>1.532223e+06</td>\n    </tr>\n    <tr>\n      <th>1701825864</th>\n      <td>0.005444</td>\n      <td>2.501221e+02</td>\n      <td>0.009085</td>\n      <td>1.911022e+06</td>\n      <td>0.003002</td>\n      <td>1.428579e+06</td>\n      <td>0.036961</td>\n      <td>1.115212e+04</td>\n      <td>0.004050</td>\n      <td>2.669992e+06</td>\n      <td>...</td>\n      <td>0.001572</td>\n      <td>4.198400e+03</td>\n      <td>0.017683</td>\n      <td>1.491514e+06</td>\n      <td>0.010565</td>\n      <td>1.563657e+02</td>\n      <td>0.003950</td>\n      <td>5.277394e+03</td>\n      <td>0.003696</td>\n      <td>1.363703e+06</td>\n    </tr>\n    <tr>\n      <th>1701825924</th>\n      <td>0.005505</td>\n      <td>0.000000e+00</td>\n      <td>0.009100</td>\n      <td>4.154800e+06</td>\n      <td>0.003821</td>\n      <td>1.409514e+06</td>\n      <td>0.053485</td>\n      <td>1.610893e+06</td>\n      <td>0.004510</td>\n      <td>4.283231e+06</td>\n      <td>...</td>\n      <td>0.004368</td>\n      <td>1.421130e+06</td>\n      <td>0.019390</td>\n      <td>1.280892e+06</td>\n      <td>0.009156</td>\n      <td>2.200314e+06</td>\n      <td>0.004141</td>\n      <td>1.435541e+06</td>\n      <td>0.003736</td>\n      <td>1.881729e+06</td>\n    </tr>\n    <tr>\n      <th>1701825984</th>\n      <td>0.002363</td>\n      <td>6.353886e+06</td>\n      <td>0.009596</td>\n      <td>4.152257e+06</td>\n      <td>0.003748</td>\n      <td>2.002629e+06</td>\n      <td>0.055062</td>\n      <td>1.341332e+04</td>\n      <td>0.004216</td>\n      <td>9.512971e+01</td>\n      <td>...</td>\n      <td>0.003510</td>\n      <td>1.601227e+06</td>\n      <td>0.018888</td>\n      <td>9.876798e+03</td>\n      <td>0.011243</td>\n      <td>4.731383e+06</td>\n      <td>0.003892</td>\n      <td>2.240093e+06</td>\n      <td>0.003977</td>\n      <td>3.218463e+06</td>\n    </tr>\n    <tr>\n      <th>...</th>\n      <td>...</td>\n      <td>...</td>\n      <td>...</td>\n      <td>...</td>\n      <td>...</td>\n      <td>...</td>\n      <td>...</td>\n      <td>...</td>\n      <td>...</td>\n      <td>...</td>\n      <td>...</td>\n      <td>...</td>\n      <td>...</td>\n      <td>...</td>\n      <td>...</td>\n      <td>...</td>\n      <td>...</td>\n      <td>...</td>\n      <td>...</td>\n      <td>...</td>\n      <td>...</td>\n    </tr>\n    <tr>\n      <th>1701911904</th>\n      <td>0.005540</td>\n      <td>2.687047e+02</td>\n      <td>0.010791</td>\n      <td>2.166942e+06</td>\n      <td>0.003826</td>\n      <td>3.199345e+06</td>\n      <td>0.059259</td>\n      <td>1.982433e+06</td>\n      <td>0.004989</td>\n      <td>0.000000e+00</td>\n      <td>...</td>\n      <td>0.003935</td>\n      <td>1.157220e+04</td>\n      <td>0.015134</td>\n      <td>2.147919e+06</td>\n      <td>0.010035</td>\n      <td>4.496351e+06</td>\n      <td>0.004098</td>\n      <td>1.795620e+06</td>\n      <td>0.004481</td>\n      <td>2.855173e+06</td>\n    </tr>\n    <tr>\n      <th>1701911964</th>\n      <td>0.005088</td>\n      <td>3.671032e+06</td>\n      <td>0.010087</td>\n      <td>2.199581e+06</td>\n      <td>0.004691</td>\n      <td>1.446002e+06</td>\n      <td>0.052142</td>\n      <td>5.324126e+06</td>\n      <td>0.004859</td>\n      <td>7.505155e+03</td>\n      <td>...</td>\n      <td>0.004306</td>\n      <td>1.243972e+04</td>\n      <td>0.021002</td>\n      <td>1.375474e+06</td>\n      <td>0.012102</td>\n      <td>2.249621e+06</td>\n      <td>0.004079</td>\n      <td>1.284862e+06</td>\n      <td>0.004163</td>\n      <td>1.875621e+03</td>\n    </tr>\n    <tr>\n      <th>1701912024</th>\n      <td>0.005208</td>\n      <td>3.785331e+06</td>\n      <td>0.009313</td>\n      <td>2.565518e+06</td>\n      <td>0.005312</td>\n      <td>2.847608e+03</td>\n      <td>0.055225</td>\n      <td>3.495819e+06</td>\n      <td>0.004952</td>\n      <td>3.089686e+06</td>\n      <td>...</td>\n      <td>0.003260</td>\n      <td>9.878573e+03</td>\n      <td>0.020117</td>\n      <td>1.535452e+06</td>\n      <td>0.012409</td>\n      <td>2.310013e+02</td>\n      <td>0.004184</td>\n      <td>2.399579e+06</td>\n      <td>0.003959</td>\n      <td>1.735775e+06</td>\n    </tr>\n    <tr>\n      <th>1701912084</th>\n      <td>0.005101</td>\n      <td>3.770873e+06</td>\n      <td>0.007017</td>\n      <td>2.753052e+06</td>\n      <td>0.004301</td>\n      <td>5.264105e+02</td>\n      <td>0.036146</td>\n      <td>2.464451e+06</td>\n      <td>0.004621</td>\n      <td>1.986074e+06</td>\n      <td>...</td>\n      <td>0.004107</td>\n      <td>2.673667e+06</td>\n      <td>0.021580</td>\n      <td>4.005902e+06</td>\n      <td>0.012145</td>\n      <td>3.999036e+06</td>\n      <td>0.004027</td>\n      <td>5.680150e+03</td>\n      <td>0.003755</td>\n      <td>2.456472e+03</td>\n    </tr>\n    <tr>\n      <th>1701912144</th>\n      <td>0.004423</td>\n      <td>6.898659e+06</td>\n      <td>0.009675</td>\n      <td>1.765667e+06</td>\n      <td>0.004960</td>\n      <td>1.504756e+06</td>\n      <td>0.055647</td>\n      <td>3.376035e+06</td>\n      <td>0.005043</td>\n      <td>5.185820e+03</td>\n      <td>...</td>\n      <td>0.004041</td>\n      <td>1.561045e+06</td>\n      <td>0.022216</td>\n      <td>2.682405e+06</td>\n      <td>0.011860</td>\n      <td>2.737116e+06</td>\n      <td>0.004178</td>\n      <td>1.254272e+06</td>\n      <td>0.004272</td>\n      <td>1.031759e+04</td>\n    </tr>\n  </tbody>\n</table>\n<p>1440 rows × 22 columns</p>\n</div>"
     },
     "execution_count": 3,
     "metadata": {},
     "output_type": "execute_result"
    }
   ],
   "source": [
    "DATA_PATH = os.path.join(\"..\", \"data\")\n",
    "pod_names = [\n",
    "    \"adservice\", \"cartservice\", \"checkoutservice\", \"currencyservice\", \"emailservice\", \"frontend\", \"paymentservice\", \"productcatalogservice\", \"recommendationservice\", \"redis\", \"shippingservice\",\n",
    "]\n",
    "\n",
    "dataframes = []\n",
    "for pod_name in tqdm(pod_names):\n",
    "    cpu_file = os.path.join(DATA_PATH, \"raw\", f\"{pod_name}_cpu.csv\")\n",
    "    dataframes.append(\n",
    "        pd.read_csv(cpu_file, index_col=\"timestamp\", names=[\"timestamp\", f\"{pod_name}_cpu\"], header=0)\n",
    "    )\n",
    "    ram_file = os.path.join(DATA_PATH, \"raw\", f\"{pod_name}_memory.csv\")\n",
    "    dataframes.append(\n",
    "        pd.read_csv(ram_file, index_col=\"timestamp\", names=[\"timestamp\", f\"{pod_name}_ram\"], header=0)\n",
    "    )\n",
    "    \n",
    "nodes_df = pd.concat(dataframes, axis=1, join=\"inner\")\n",
    "\n",
    "# nodes_df = (nodes_df - nodes_df.mean()) / nodes_df.std()\n",
    "# nodes_df = (nodes_df - nodes_df.min()) / (nodes_df.max() - nodes_df.min())\n",
    "nodes_df"
   ],
   "metadata": {
    "collapsed": false,
    "ExecuteTime": {
     "end_time": "2024-01-04T19:33:55.793017398Z",
     "start_time": "2024-01-04T19:33:55.071057784Z"
    }
   },
   "id": "877bbd856f0095b5",
   "execution_count": 3
  },
  {
   "cell_type": "code",
   "outputs": [],
   "source": [
    "nodes_df.to_csv(os.path.join(DATA_PATH, \"raw\", \"nodes.csv\"))"
   ],
   "metadata": {
    "collapsed": false,
    "ExecuteTime": {
     "end_time": "2024-01-04T19:34:30.026428885Z",
     "start_time": "2024-01-04T19:34:29.707154397Z"
    }
   },
   "id": "94efe3fdc8577f9c",
   "execution_count": 4
  },
  {
   "cell_type": "code",
   "outputs": [
    {
     "data": {
      "text/plain": "           from               to   timestamp     value\n0      frontend        adservice  1701825744  0.105048\n1      frontend        adservice  1701825804  0.090534\n2      frontend        adservice  1701825864  0.087769\n3      frontend        adservice  1701825924  0.102974\n4      frontend        adservice  1701825984  0.091916\n...         ...              ...         ...       ...\n20155  frontend  shippingservice  1701911904  0.038700\n20156  frontend  shippingservice  1701911964  0.032481\n20157  frontend  shippingservice  1701912024  0.035936\n20158  frontend  shippingservice  1701912084  0.039391\n20159  frontend  shippingservice  1701912144  0.035936\n\n[20160 rows x 4 columns]",
      "text/html": "<div>\n<style scoped>\n    .dataframe tbody tr th:only-of-type {\n        vertical-align: middle;\n    }\n\n    .dataframe tbody tr th {\n        vertical-align: top;\n    }\n\n    .dataframe thead th {\n        text-align: right;\n    }\n</style>\n<table border=\"1\" class=\"dataframe\">\n  <thead>\n    <tr style=\"text-align: right;\">\n      <th></th>\n      <th>from</th>\n      <th>to</th>\n      <th>timestamp</th>\n      <th>value</th>\n    </tr>\n  </thead>\n  <tbody>\n    <tr>\n      <th>0</th>\n      <td>frontend</td>\n      <td>adservice</td>\n      <td>1701825744</td>\n      <td>0.105048</td>\n    </tr>\n    <tr>\n      <th>1</th>\n      <td>frontend</td>\n      <td>adservice</td>\n      <td>1701825804</td>\n      <td>0.090534</td>\n    </tr>\n    <tr>\n      <th>2</th>\n      <td>frontend</td>\n      <td>adservice</td>\n      <td>1701825864</td>\n      <td>0.087769</td>\n    </tr>\n    <tr>\n      <th>3</th>\n      <td>frontend</td>\n      <td>adservice</td>\n      <td>1701825924</td>\n      <td>0.102974</td>\n    </tr>\n    <tr>\n      <th>4</th>\n      <td>frontend</td>\n      <td>adservice</td>\n      <td>1701825984</td>\n      <td>0.091916</td>\n    </tr>\n    <tr>\n      <th>...</th>\n      <td>...</td>\n      <td>...</td>\n      <td>...</td>\n      <td>...</td>\n    </tr>\n    <tr>\n      <th>20155</th>\n      <td>frontend</td>\n      <td>shippingservice</td>\n      <td>1701911904</td>\n      <td>0.038700</td>\n    </tr>\n    <tr>\n      <th>20156</th>\n      <td>frontend</td>\n      <td>shippingservice</td>\n      <td>1701911964</td>\n      <td>0.032481</td>\n    </tr>\n    <tr>\n      <th>20157</th>\n      <td>frontend</td>\n      <td>shippingservice</td>\n      <td>1701912024</td>\n      <td>0.035936</td>\n    </tr>\n    <tr>\n      <th>20158</th>\n      <td>frontend</td>\n      <td>shippingservice</td>\n      <td>1701912084</td>\n      <td>0.039391</td>\n    </tr>\n    <tr>\n      <th>20159</th>\n      <td>frontend</td>\n      <td>shippingservice</td>\n      <td>1701912144</td>\n      <td>0.035936</td>\n    </tr>\n  </tbody>\n</table>\n<p>20160 rows × 4 columns</p>\n</div>"
     },
     "execution_count": 4,
     "metadata": {},
     "output_type": "execute_result"
    }
   ],
   "source": [
    "edges_file = os.path.join(DATA_PATH, \"raw\", \"edges.csv\")\n",
    "edges_df = pd.read_csv(edges_file)\n",
    "\n",
    "edges_df[\"value\"] = (edges_df[\"value\"] - edges_df[\"value\"].mean()) / edges_df[\"value\"].std()\n",
    "edges_df[\"value\"] = (edges_df[\"value\"] - edges_df[\"value\"].min()) / (edges_df[\"value\"].max() - edges_df[\"value\"].min())\n",
    "edges_df"
   ],
   "metadata": {
    "collapsed": false,
    "ExecuteTime": {
     "end_time": "2024-01-04T01:46:43.319741593Z",
     "start_time": "2024-01-04T01:46:43.095168239Z"
    }
   },
   "id": "99b50332937546aa",
   "execution_count": 4
  },
  {
   "cell_type": "code",
   "outputs": [
    {
     "data": {
      "text/plain": "           from               to   timestamp     value\n0      frontend        adservice  1701825744  0.105048\n1      frontend        adservice  1701825804  0.090534\n2      frontend        adservice  1701825864  0.087769\n3      frontend        adservice  1701825924  0.102974\n4      frontend        adservice  1701825984  0.091916\n...         ...              ...         ...       ...\n20155  frontend  shippingservice  1701911904  0.038700\n20156  frontend  shippingservice  1701911964  0.032481\n20157  frontend  shippingservice  1701912024  0.035936\n20158  frontend  shippingservice  1701912084  0.039391\n20159  frontend  shippingservice  1701912144  0.035936\n\n[20160 rows x 4 columns]",
      "text/html": "<div>\n<style scoped>\n    .dataframe tbody tr th:only-of-type {\n        vertical-align: middle;\n    }\n\n    .dataframe tbody tr th {\n        vertical-align: top;\n    }\n\n    .dataframe thead th {\n        text-align: right;\n    }\n</style>\n<table border=\"1\" class=\"dataframe\">\n  <thead>\n    <tr style=\"text-align: right;\">\n      <th></th>\n      <th>from</th>\n      <th>to</th>\n      <th>timestamp</th>\n      <th>value</th>\n    </tr>\n  </thead>\n  <tbody>\n    <tr>\n      <th>0</th>\n      <td>frontend</td>\n      <td>adservice</td>\n      <td>1701825744</td>\n      <td>0.105048</td>\n    </tr>\n    <tr>\n      <th>1</th>\n      <td>frontend</td>\n      <td>adservice</td>\n      <td>1701825804</td>\n      <td>0.090534</td>\n    </tr>\n    <tr>\n      <th>2</th>\n      <td>frontend</td>\n      <td>adservice</td>\n      <td>1701825864</td>\n      <td>0.087769</td>\n    </tr>\n    <tr>\n      <th>3</th>\n      <td>frontend</td>\n      <td>adservice</td>\n      <td>1701825924</td>\n      <td>0.102974</td>\n    </tr>\n    <tr>\n      <th>4</th>\n      <td>frontend</td>\n      <td>adservice</td>\n      <td>1701825984</td>\n      <td>0.091916</td>\n    </tr>\n    <tr>\n      <th>...</th>\n      <td>...</td>\n      <td>...</td>\n      <td>...</td>\n      <td>...</td>\n    </tr>\n    <tr>\n      <th>20155</th>\n      <td>frontend</td>\n      <td>shippingservice</td>\n      <td>1701911904</td>\n      <td>0.038700</td>\n    </tr>\n    <tr>\n      <th>20156</th>\n      <td>frontend</td>\n      <td>shippingservice</td>\n      <td>1701911964</td>\n      <td>0.032481</td>\n    </tr>\n    <tr>\n      <th>20157</th>\n      <td>frontend</td>\n      <td>shippingservice</td>\n      <td>1701912024</td>\n      <td>0.035936</td>\n    </tr>\n    <tr>\n      <th>20158</th>\n      <td>frontend</td>\n      <td>shippingservice</td>\n      <td>1701912084</td>\n      <td>0.039391</td>\n    </tr>\n    <tr>\n      <th>20159</th>\n      <td>frontend</td>\n      <td>shippingservice</td>\n      <td>1701912144</td>\n      <td>0.035936</td>\n    </tr>\n  </tbody>\n</table>\n<p>20160 rows × 4 columns</p>\n</div>"
     },
     "execution_count": 5,
     "metadata": {},
     "output_type": "execute_result"
    }
   ],
   "source": [
    "edges_df = edges_df[edges_df[\"timestamp\"].isin(nodes_df.index)]\n",
    "edges_df"
   ],
   "metadata": {
    "collapsed": false,
    "ExecuteTime": {
     "end_time": "2024-01-04T01:46:43.518298042Z",
     "start_time": "2024-01-04T01:46:43.281818283Z"
    }
   },
   "id": "c44119b6da5bbd",
   "execution_count": 5
  },
  {
   "cell_type": "code",
   "outputs": [],
   "source": [
    "edges_df.to_csv(os.path.join(DATA_PATH, \"raw\", \"edges.csv\"), index=False)"
   ],
   "metadata": {
    "collapsed": false,
    "ExecuteTime": {
     "end_time": "2024-01-04T01:46:43.822407505Z",
     "start_time": "2024-01-04T01:46:43.364250347Z"
    }
   },
   "id": "b65e1d836b64884e",
   "execution_count": 6
  },
  {
   "cell_type": "markdown",
   "source": [
    "## RAW data to NumPy files"
   ],
   "metadata": {
    "collapsed": false
   },
   "id": "524e9633c3a5b426"
  },
  {
   "cell_type": "markdown",
   "source": [
    "### Nodes"
   ],
   "metadata": {
    "collapsed": false
   },
   "id": "c05070adf21e14b0"
  },
  {
   "cell_type": "code",
   "outputs": [],
   "source": [
    "nodes_df = nodes_df.sort_values(\"timestamp\")\n",
    "edges_df = edges_df.sort_values(\"timestamp\")"
   ],
   "metadata": {
    "collapsed": false,
    "ExecuteTime": {
     "end_time": "2024-01-04T01:46:43.932883409Z",
     "start_time": "2024-01-04T01:46:43.824148531Z"
    }
   },
   "id": "b977a695359278b5",
   "execution_count": 7
  },
  {
   "cell_type": "code",
   "outputs": [],
   "source": [
    "window = 60\n",
    "steps = 3\n",
    "train_split = 0.8"
   ],
   "metadata": {
    "collapsed": false,
    "ExecuteTime": {
     "end_time": "2024-01-04T01:46:44.007805346Z",
     "start_time": "2024-01-04T01:46:43.913892168Z"
    }
   },
   "id": "5f8a8fab7ac48917",
   "execution_count": 8
  },
  {
   "cell_type": "code",
   "outputs": [
    {
     "name": "stderr",
     "output_type": "stream",
     "text": [
      "100%|██████████| 460/460 [00:02<00:00, 218.66it/s]\n"
     ]
    }
   ],
   "source": [
    "X_nodes = []\n",
    "y_nodes = []\n",
    "\n",
    "for i in tqdm(range(0, len(nodes_df) - window, steps)):\n",
    "    node_window = nodes_df.iloc[i : i + window]\n",
    "    node_horizont = nodes_df.iloc[i + window]\n",
    "    \n",
    "    x = []\n",
    "    y = []\n",
    "    for pod in pod_names:\n",
    "        x.append(node_window[[f\"{pod}_cpu\", f\"{pod}_ram\"]].to_numpy())\n",
    "        y.append(node_horizont[[f\"{pod}_cpu\", f\"{pod}_ram\"]].to_numpy())\n",
    "    X_nodes.append(np.array(x).swapaxes(0, 1))\n",
    "    y_nodes.append(np.array(y))\n",
    "\n",
    "X_nodes = np.array(X_nodes)\n",
    "y_nodes = np.array(y_nodes)"
   ],
   "metadata": {
    "collapsed": false,
    "ExecuteTime": {
     "end_time": "2024-01-04T01:46:46.216413925Z",
     "start_time": "2024-01-04T01:46:44.011668418Z"
    }
   },
   "id": "c00b852cf9913efe",
   "execution_count": 9
  },
  {
   "cell_type": "code",
   "outputs": [],
   "source": [
    "X_nodes[:, :, :, 1] = X_nodes[:, :, :, 1] / 1e6\n",
    "y_nodes[:, :, 1] = y_nodes[:, :, 1] / 1e6"
   ],
   "metadata": {
    "collapsed": false,
    "ExecuteTime": {
     "end_time": "2024-01-04T01:46:46.263637Z",
     "start_time": "2024-01-04T01:46:46.219737352Z"
    }
   },
   "id": "d05d8f6baf571887",
   "execution_count": 10
  },
  {
   "cell_type": "code",
   "outputs": [],
   "source": [
    "split_point = int(len(X_nodes) * train_split)\n",
    "\n",
    "np.savez(\"../data/train_node_features.npz\", \n",
    "         X=X_nodes[:split_point], \n",
    "         y=y_nodes[:split_point])\n",
    "\n",
    "np.savez(\"../data/test_node_features.npz\", \n",
    "         X=X_nodes[split_point:], \n",
    "         y=y_nodes[split_point:])"
   ],
   "metadata": {
    "collapsed": false,
    "ExecuteTime": {
     "end_time": "2024-01-04T01:46:46.464455478Z",
     "start_time": "2024-01-04T01:46:46.260402465Z"
    }
   },
   "id": "5ada1cbb903906de",
   "execution_count": 11
  },
  {
   "cell_type": "markdown",
   "source": [
    "### Edges"
   ],
   "metadata": {
    "collapsed": false
   },
   "id": "c8408a42e4907141"
  },
  {
   "cell_type": "code",
   "outputs": [],
   "source": [
    "edge_timed = edges_df.groupby(\"timestamp\")"
   ],
   "metadata": {
    "collapsed": false,
    "ExecuteTime": {
     "end_time": "2024-01-04T01:46:46.662835752Z",
     "start_time": "2024-01-04T01:46:46.467192891Z"
    }
   },
   "id": "4699ff2a6a920bc4",
   "execution_count": 12
  },
  {
   "cell_type": "code",
   "outputs": [
    {
     "name": "stderr",
     "output_type": "stream",
     "text": [
      "100%|██████████| 460/460 [02:48<00:00,  2.73it/s]\n"
     ]
    }
   ],
   "source": [
    "X_edges = []\n",
    "y_edges = []\n",
    "graph = []\n",
    "\n",
    "for k in tqdm(range(0, len(nodes_df) - window, steps)):\n",
    "    nodes = nodes_df.iloc[k : k + window + 1]\n",
    "    if len(graph) == window + 1:\n",
    "        nodes = nodes.iloc[-steps:]\n",
    "        graph = graph[steps:]\n",
    "\n",
    "    for t in nodes.index:\n",
    "        edges_info = edge_timed.get_group(t)\n",
    "        A = np.zeros((len(pod_names), len(pod_names)))\n",
    "        for i in range(len(pod_names)):\n",
    "            for j in range(len(pod_names)):\n",
    "                from_pod = pod_names[i]\n",
    "                to_pod = pod_names[j]\n",
    "                \n",
    "                query = edges_info.query(\"`from` == @from_pod and `to` == @to_pod\")\n",
    "                if len(query) > 0:\n",
    "                    A[i, j] = query[\"value\"].item()\n",
    "        graph.append(A)\n",
    "    X_edges.append(graph[:window])\n",
    "    y_edges.append(graph[window])\n",
    "\n",
    "X_edges = np.array(X_edges)\n",
    "y_edges = np.array(y_edges)"
   ],
   "metadata": {
    "collapsed": false,
    "ExecuteTime": {
     "end_time": "2024-01-04T01:49:35.040444327Z",
     "start_time": "2024-01-04T01:46:46.668327927Z"
    }
   },
   "id": "352b1a23f8d9f596",
   "execution_count": 13
  },
  {
   "cell_type": "code",
   "outputs": [],
   "source": [
    "np.savez(\"../data/train_edge_features.npz\", \n",
    "         X=X_edges[:split_point], \n",
    "         y=y_edges[:split_point])\n",
    "\n",
    "np.savez(\"../data/test_edge_features.npz\", \n",
    "         X=X_edges[split_point:], \n",
    "         y=y_edges[split_point:])"
   ],
   "metadata": {
    "collapsed": false,
    "ExecuteTime": {
     "end_time": "2024-01-04T01:49:35.403600611Z",
     "start_time": "2024-01-04T01:49:35.043473217Z"
    }
   },
   "id": "5ab2fade6f7f073e",
   "execution_count": 14
  },
  {
   "cell_type": "code",
   "outputs": [],
   "source": [],
   "metadata": {
    "collapsed": false,
    "ExecuteTime": {
     "end_time": "2024-01-04T01:49:35.412334812Z",
     "start_time": "2024-01-04T01:49:35.406158249Z"
    }
   },
   "id": "e9907ed77c49d161",
   "execution_count": 14
  }
 ],
 "metadata": {
  "kernelspec": {
   "display_name": "Python 3",
   "language": "python",
   "name": "python3"
  },
  "language_info": {
   "codemirror_mode": {
    "name": "ipython",
    "version": 2
   },
   "file_extension": ".py",
   "mimetype": "text/x-python",
   "name": "python",
   "nbconvert_exporter": "python",
   "pygments_lexer": "ipython2",
   "version": "2.7.6"
  }
 },
 "nbformat": 4,
 "nbformat_minor": 5
}
