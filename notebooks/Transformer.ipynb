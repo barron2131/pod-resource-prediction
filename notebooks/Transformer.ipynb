{
 "cells": [
  {
   "cell_type": "code",
   "execution_count": 1,
   "id": "d80e27ad1d0c4553",
   "metadata": {
    "ExecuteTime": {
     "end_time": "2024-01-05T03:42:01.973511244Z",
     "start_time": "2024-01-05T03:42:01.811266638Z"
    }
   },
   "outputs": [],
   "source": [
    "import warnings\n",
    "warnings.filterwarnings(\"ignore\")"
   ]
  },
  {
   "cell_type": "code",
   "execution_count": 27,
   "id": "initial_id",
   "metadata": {
    "ExecuteTime": {
     "end_time": "2024-01-05T03:53:55.625762484Z",
     "start_time": "2024-01-05T03:53:55.545856490Z"
    },
    "collapsed": true
   },
   "outputs": [],
   "source": [
    "import torch\n",
    "import pandas as pd\n",
    "import torchmetrics\n",
    "\n",
    "from pytorch_forecasting import Baseline, TemporalFusionTransformer, TimeSeriesDataSet, RecurrentNetwork\n",
    "from pytorch_forecasting.data import GroupNormalizer, MultiNormalizer, EncoderNormalizer\n",
    "from pytorch_forecasting.metrics import MAE, SMAPE, PoissonLoss, QuantileLoss\n",
    "from pytorch_forecasting.models.temporal_fusion_transformer.tuning import optimize_hyperparameters\n",
    "\n",
    "import lightning.pytorch as pl\n",
    "from lightning.pytorch.callbacks import EarlyStopping, LearningRateMonitor\n",
    "from lightning.pytorch.loggers import TensorBoardLogger"
   ]
  },
  {
   "cell_type": "code",
   "execution_count": 3,
   "id": "dad6d7c2af20e9fb",
   "metadata": {
    "ExecuteTime": {
     "end_time": "2024-01-05T03:42:24.118950313Z",
     "start_time": "2024-01-05T03:42:23.627624433Z"
    }
   },
   "outputs": [
    {
     "data": {
      "text/html": [
       "<div>\n",
       "<style scoped>\n",
       "    .dataframe tbody tr th:only-of-type {\n",
       "        vertical-align: middle;\n",
       "    }\n",
       "\n",
       "    .dataframe tbody tr th {\n",
       "        vertical-align: top;\n",
       "    }\n",
       "\n",
       "    .dataframe thead th {\n",
       "        text-align: right;\n",
       "    }\n",
       "</style>\n",
       "<table border=\"1\" class=\"dataframe\">\n",
       "  <thead>\n",
       "    <tr style=\"text-align: right;\">\n",
       "      <th></th>\n",
       "      <th>timestamp</th>\n",
       "      <th>adservice_cpu</th>\n",
       "      <th>adservice_ram</th>\n",
       "      <th>cartservice_cpu</th>\n",
       "      <th>cartservice_ram</th>\n",
       "      <th>checkoutservice_cpu</th>\n",
       "      <th>checkoutservice_ram</th>\n",
       "      <th>currencyservice_cpu</th>\n",
       "      <th>currencyservice_ram</th>\n",
       "      <th>emailservice_cpu</th>\n",
       "      <th>...</th>\n",
       "      <th>paymentservice_cpu</th>\n",
       "      <th>paymentservice_ram</th>\n",
       "      <th>productcatalogservice_cpu</th>\n",
       "      <th>productcatalogservice_ram</th>\n",
       "      <th>recommendationservice_cpu</th>\n",
       "      <th>recommendationservice_ram</th>\n",
       "      <th>redis_cpu</th>\n",
       "      <th>redis_ram</th>\n",
       "      <th>shippingservice_cpu</th>\n",
       "      <th>shippingservice_ram</th>\n",
       "    </tr>\n",
       "  </thead>\n",
       "  <tbody>\n",
       "    <tr>\n",
       "      <th>0</th>\n",
       "      <td>1701825744</td>\n",
       "      <td>0.006491</td>\n",
       "      <td>4.344186e+06</td>\n",
       "      <td>0.010313</td>\n",
       "      <td>2.792473e+03</td>\n",
       "      <td>0.005188</td>\n",
       "      <td>1.356858e+06</td>\n",
       "      <td>0.057166</td>\n",
       "      <td>4.505918e+06</td>\n",
       "      <td>0.004008</td>\n",
       "      <td>...</td>\n",
       "      <td>0.004668</td>\n",
       "      <td>2.030300e+06</td>\n",
       "      <td>0.021772</td>\n",
       "      <td>2.934991e+06</td>\n",
       "      <td>0.011848</td>\n",
       "      <td>5.497300e+06</td>\n",
       "      <td>0.004059</td>\n",
       "      <td>1.177182e+06</td>\n",
       "      <td>0.004627</td>\n",
       "      <td>1.403310e+03</td>\n",
       "    </tr>\n",
       "    <tr>\n",
       "      <th>1</th>\n",
       "      <td>1701825804</td>\n",
       "      <td>0.006662</td>\n",
       "      <td>1.122781e+03</td>\n",
       "      <td>0.006516</td>\n",
       "      <td>2.317005e+06</td>\n",
       "      <td>0.004203</td>\n",
       "      <td>1.181493e+02</td>\n",
       "      <td>0.047199</td>\n",
       "      <td>2.284438e+04</td>\n",
       "      <td>0.004733</td>\n",
       "      <td>...</td>\n",
       "      <td>0.003759</td>\n",
       "      <td>1.683843e+06</td>\n",
       "      <td>0.011461</td>\n",
       "      <td>1.618227e+06</td>\n",
       "      <td>0.011138</td>\n",
       "      <td>1.967024e+06</td>\n",
       "      <td>0.002752</td>\n",
       "      <td>1.420288e+06</td>\n",
       "      <td>0.003311</td>\n",
       "      <td>1.532223e+06</td>\n",
       "    </tr>\n",
       "    <tr>\n",
       "      <th>2</th>\n",
       "      <td>1701825864</td>\n",
       "      <td>0.005444</td>\n",
       "      <td>2.501221e+02</td>\n",
       "      <td>0.009085</td>\n",
       "      <td>1.911022e+06</td>\n",
       "      <td>0.003002</td>\n",
       "      <td>1.428579e+06</td>\n",
       "      <td>0.036961</td>\n",
       "      <td>1.115212e+04</td>\n",
       "      <td>0.004050</td>\n",
       "      <td>...</td>\n",
       "      <td>0.001572</td>\n",
       "      <td>4.198400e+03</td>\n",
       "      <td>0.017683</td>\n",
       "      <td>1.491514e+06</td>\n",
       "      <td>0.010565</td>\n",
       "      <td>1.563657e+02</td>\n",
       "      <td>0.003950</td>\n",
       "      <td>5.277394e+03</td>\n",
       "      <td>0.003696</td>\n",
       "      <td>1.363703e+06</td>\n",
       "    </tr>\n",
       "    <tr>\n",
       "      <th>3</th>\n",
       "      <td>1701825924</td>\n",
       "      <td>0.005505</td>\n",
       "      <td>0.000000e+00</td>\n",
       "      <td>0.009100</td>\n",
       "      <td>4.154800e+06</td>\n",
       "      <td>0.003821</td>\n",
       "      <td>1.409514e+06</td>\n",
       "      <td>0.053485</td>\n",
       "      <td>1.610893e+06</td>\n",
       "      <td>0.004510</td>\n",
       "      <td>...</td>\n",
       "      <td>0.004368</td>\n",
       "      <td>1.421130e+06</td>\n",
       "      <td>0.019390</td>\n",
       "      <td>1.280892e+06</td>\n",
       "      <td>0.009156</td>\n",
       "      <td>2.200314e+06</td>\n",
       "      <td>0.004141</td>\n",
       "      <td>1.435541e+06</td>\n",
       "      <td>0.003736</td>\n",
       "      <td>1.881729e+06</td>\n",
       "    </tr>\n",
       "    <tr>\n",
       "      <th>4</th>\n",
       "      <td>1701825984</td>\n",
       "      <td>0.002363</td>\n",
       "      <td>6.353886e+06</td>\n",
       "      <td>0.009596</td>\n",
       "      <td>4.152257e+06</td>\n",
       "      <td>0.003748</td>\n",
       "      <td>2.002629e+06</td>\n",
       "      <td>0.055062</td>\n",
       "      <td>1.341332e+04</td>\n",
       "      <td>0.004216</td>\n",
       "      <td>...</td>\n",
       "      <td>0.003510</td>\n",
       "      <td>1.601227e+06</td>\n",
       "      <td>0.018888</td>\n",
       "      <td>9.876798e+03</td>\n",
       "      <td>0.011243</td>\n",
       "      <td>4.731383e+06</td>\n",
       "      <td>0.003892</td>\n",
       "      <td>2.240093e+06</td>\n",
       "      <td>0.003977</td>\n",
       "      <td>3.218463e+06</td>\n",
       "    </tr>\n",
       "    <tr>\n",
       "      <th>...</th>\n",
       "      <td>...</td>\n",
       "      <td>...</td>\n",
       "      <td>...</td>\n",
       "      <td>...</td>\n",
       "      <td>...</td>\n",
       "      <td>...</td>\n",
       "      <td>...</td>\n",
       "      <td>...</td>\n",
       "      <td>...</td>\n",
       "      <td>...</td>\n",
       "      <td>...</td>\n",
       "      <td>...</td>\n",
       "      <td>...</td>\n",
       "      <td>...</td>\n",
       "      <td>...</td>\n",
       "      <td>...</td>\n",
       "      <td>...</td>\n",
       "      <td>...</td>\n",
       "      <td>...</td>\n",
       "      <td>...</td>\n",
       "      <td>...</td>\n",
       "    </tr>\n",
       "    <tr>\n",
       "      <th>1435</th>\n",
       "      <td>1701911904</td>\n",
       "      <td>0.005540</td>\n",
       "      <td>2.687047e+02</td>\n",
       "      <td>0.010791</td>\n",
       "      <td>2.166942e+06</td>\n",
       "      <td>0.003826</td>\n",
       "      <td>3.199345e+06</td>\n",
       "      <td>0.059259</td>\n",
       "      <td>1.982433e+06</td>\n",
       "      <td>0.004989</td>\n",
       "      <td>...</td>\n",
       "      <td>0.003935</td>\n",
       "      <td>1.157220e+04</td>\n",
       "      <td>0.015134</td>\n",
       "      <td>2.147919e+06</td>\n",
       "      <td>0.010035</td>\n",
       "      <td>4.496351e+06</td>\n",
       "      <td>0.004098</td>\n",
       "      <td>1.795620e+06</td>\n",
       "      <td>0.004481</td>\n",
       "      <td>2.855173e+06</td>\n",
       "    </tr>\n",
       "    <tr>\n",
       "      <th>1436</th>\n",
       "      <td>1701911964</td>\n",
       "      <td>0.005088</td>\n",
       "      <td>3.671032e+06</td>\n",
       "      <td>0.010087</td>\n",
       "      <td>2.199581e+06</td>\n",
       "      <td>0.004691</td>\n",
       "      <td>1.446002e+06</td>\n",
       "      <td>0.052142</td>\n",
       "      <td>5.324126e+06</td>\n",
       "      <td>0.004859</td>\n",
       "      <td>...</td>\n",
       "      <td>0.004306</td>\n",
       "      <td>1.243972e+04</td>\n",
       "      <td>0.021002</td>\n",
       "      <td>1.375474e+06</td>\n",
       "      <td>0.012102</td>\n",
       "      <td>2.249621e+06</td>\n",
       "      <td>0.004079</td>\n",
       "      <td>1.284862e+06</td>\n",
       "      <td>0.004163</td>\n",
       "      <td>1.875621e+03</td>\n",
       "    </tr>\n",
       "    <tr>\n",
       "      <th>1437</th>\n",
       "      <td>1701912024</td>\n",
       "      <td>0.005208</td>\n",
       "      <td>3.785331e+06</td>\n",
       "      <td>0.009313</td>\n",
       "      <td>2.565518e+06</td>\n",
       "      <td>0.005312</td>\n",
       "      <td>2.847608e+03</td>\n",
       "      <td>0.055225</td>\n",
       "      <td>3.495819e+06</td>\n",
       "      <td>0.004952</td>\n",
       "      <td>...</td>\n",
       "      <td>0.003260</td>\n",
       "      <td>9.878573e+03</td>\n",
       "      <td>0.020117</td>\n",
       "      <td>1.535452e+06</td>\n",
       "      <td>0.012409</td>\n",
       "      <td>2.310013e+02</td>\n",
       "      <td>0.004184</td>\n",
       "      <td>2.399579e+06</td>\n",
       "      <td>0.003959</td>\n",
       "      <td>1.735775e+06</td>\n",
       "    </tr>\n",
       "    <tr>\n",
       "      <th>1438</th>\n",
       "      <td>1701912084</td>\n",
       "      <td>0.005101</td>\n",
       "      <td>3.770873e+06</td>\n",
       "      <td>0.007017</td>\n",
       "      <td>2.753052e+06</td>\n",
       "      <td>0.004301</td>\n",
       "      <td>5.264105e+02</td>\n",
       "      <td>0.036146</td>\n",
       "      <td>2.464451e+06</td>\n",
       "      <td>0.004621</td>\n",
       "      <td>...</td>\n",
       "      <td>0.004107</td>\n",
       "      <td>2.673667e+06</td>\n",
       "      <td>0.021580</td>\n",
       "      <td>4.005902e+06</td>\n",
       "      <td>0.012145</td>\n",
       "      <td>3.999036e+06</td>\n",
       "      <td>0.004027</td>\n",
       "      <td>5.680150e+03</td>\n",
       "      <td>0.003755</td>\n",
       "      <td>2.456472e+03</td>\n",
       "    </tr>\n",
       "    <tr>\n",
       "      <th>1439</th>\n",
       "      <td>1701912144</td>\n",
       "      <td>0.004423</td>\n",
       "      <td>6.898659e+06</td>\n",
       "      <td>0.009675</td>\n",
       "      <td>1.765667e+06</td>\n",
       "      <td>0.004960</td>\n",
       "      <td>1.504756e+06</td>\n",
       "      <td>0.055647</td>\n",
       "      <td>3.376035e+06</td>\n",
       "      <td>0.005043</td>\n",
       "      <td>...</td>\n",
       "      <td>0.004041</td>\n",
       "      <td>1.561045e+06</td>\n",
       "      <td>0.022216</td>\n",
       "      <td>2.682405e+06</td>\n",
       "      <td>0.011860</td>\n",
       "      <td>2.737116e+06</td>\n",
       "      <td>0.004178</td>\n",
       "      <td>1.254272e+06</td>\n",
       "      <td>0.004272</td>\n",
       "      <td>1.031759e+04</td>\n",
       "    </tr>\n",
       "  </tbody>\n",
       "</table>\n",
       "<p>1440 rows × 23 columns</p>\n",
       "</div>"
      ],
      "text/plain": [
       "       timestamp  adservice_cpu  adservice_ram  cartservice_cpu  \\\n",
       "0     1701825744       0.006491   4.344186e+06         0.010313   \n",
       "1     1701825804       0.006662   1.122781e+03         0.006516   \n",
       "2     1701825864       0.005444   2.501221e+02         0.009085   \n",
       "3     1701825924       0.005505   0.000000e+00         0.009100   \n",
       "4     1701825984       0.002363   6.353886e+06         0.009596   \n",
       "...          ...            ...            ...              ...   \n",
       "1435  1701911904       0.005540   2.687047e+02         0.010791   \n",
       "1436  1701911964       0.005088   3.671032e+06         0.010087   \n",
       "1437  1701912024       0.005208   3.785331e+06         0.009313   \n",
       "1438  1701912084       0.005101   3.770873e+06         0.007017   \n",
       "1439  1701912144       0.004423   6.898659e+06         0.009675   \n",
       "\n",
       "      cartservice_ram  checkoutservice_cpu  checkoutservice_ram  \\\n",
       "0        2.792473e+03             0.005188         1.356858e+06   \n",
       "1        2.317005e+06             0.004203         1.181493e+02   \n",
       "2        1.911022e+06             0.003002         1.428579e+06   \n",
       "3        4.154800e+06             0.003821         1.409514e+06   \n",
       "4        4.152257e+06             0.003748         2.002629e+06   \n",
       "...               ...                  ...                  ...   \n",
       "1435     2.166942e+06             0.003826         3.199345e+06   \n",
       "1436     2.199581e+06             0.004691         1.446002e+06   \n",
       "1437     2.565518e+06             0.005312         2.847608e+03   \n",
       "1438     2.753052e+06             0.004301         5.264105e+02   \n",
       "1439     1.765667e+06             0.004960         1.504756e+06   \n",
       "\n",
       "      currencyservice_cpu  currencyservice_ram  emailservice_cpu  ...  \\\n",
       "0                0.057166         4.505918e+06          0.004008  ...   \n",
       "1                0.047199         2.284438e+04          0.004733  ...   \n",
       "2                0.036961         1.115212e+04          0.004050  ...   \n",
       "3                0.053485         1.610893e+06          0.004510  ...   \n",
       "4                0.055062         1.341332e+04          0.004216  ...   \n",
       "...                   ...                  ...               ...  ...   \n",
       "1435             0.059259         1.982433e+06          0.004989  ...   \n",
       "1436             0.052142         5.324126e+06          0.004859  ...   \n",
       "1437             0.055225         3.495819e+06          0.004952  ...   \n",
       "1438             0.036146         2.464451e+06          0.004621  ...   \n",
       "1439             0.055647         3.376035e+06          0.005043  ...   \n",
       "\n",
       "      paymentservice_cpu  paymentservice_ram  productcatalogservice_cpu  \\\n",
       "0               0.004668        2.030300e+06                   0.021772   \n",
       "1               0.003759        1.683843e+06                   0.011461   \n",
       "2               0.001572        4.198400e+03                   0.017683   \n",
       "3               0.004368        1.421130e+06                   0.019390   \n",
       "4               0.003510        1.601227e+06                   0.018888   \n",
       "...                  ...                 ...                        ...   \n",
       "1435            0.003935        1.157220e+04                   0.015134   \n",
       "1436            0.004306        1.243972e+04                   0.021002   \n",
       "1437            0.003260        9.878573e+03                   0.020117   \n",
       "1438            0.004107        2.673667e+06                   0.021580   \n",
       "1439            0.004041        1.561045e+06                   0.022216   \n",
       "\n",
       "      productcatalogservice_ram  recommendationservice_cpu  \\\n",
       "0                  2.934991e+06                   0.011848   \n",
       "1                  1.618227e+06                   0.011138   \n",
       "2                  1.491514e+06                   0.010565   \n",
       "3                  1.280892e+06                   0.009156   \n",
       "4                  9.876798e+03                   0.011243   \n",
       "...                         ...                        ...   \n",
       "1435               2.147919e+06                   0.010035   \n",
       "1436               1.375474e+06                   0.012102   \n",
       "1437               1.535452e+06                   0.012409   \n",
       "1438               4.005902e+06                   0.012145   \n",
       "1439               2.682405e+06                   0.011860   \n",
       "\n",
       "      recommendationservice_ram  redis_cpu     redis_ram  shippingservice_cpu  \\\n",
       "0                  5.497300e+06   0.004059  1.177182e+06             0.004627   \n",
       "1                  1.967024e+06   0.002752  1.420288e+06             0.003311   \n",
       "2                  1.563657e+02   0.003950  5.277394e+03             0.003696   \n",
       "3                  2.200314e+06   0.004141  1.435541e+06             0.003736   \n",
       "4                  4.731383e+06   0.003892  2.240093e+06             0.003977   \n",
       "...                         ...        ...           ...                  ...   \n",
       "1435               4.496351e+06   0.004098  1.795620e+06             0.004481   \n",
       "1436               2.249621e+06   0.004079  1.284862e+06             0.004163   \n",
       "1437               2.310013e+02   0.004184  2.399579e+06             0.003959   \n",
       "1438               3.999036e+06   0.004027  5.680150e+03             0.003755   \n",
       "1439               2.737116e+06   0.004178  1.254272e+06             0.004272   \n",
       "\n",
       "      shippingservice_ram  \n",
       "0            1.403310e+03  \n",
       "1            1.532223e+06  \n",
       "2            1.363703e+06  \n",
       "3            1.881729e+06  \n",
       "4            3.218463e+06  \n",
       "...                   ...  \n",
       "1435         2.855173e+06  \n",
       "1436         1.875621e+03  \n",
       "1437         1.735775e+06  \n",
       "1438         2.456472e+03  \n",
       "1439         1.031759e+04  \n",
       "\n",
       "[1440 rows x 23 columns]"
      ]
     },
     "execution_count": 3,
     "metadata": {},
     "output_type": "execute_result"
    }
   ],
   "source": [
    "data = pd.read_csv(\"../data/raw/nodes.csv\")\n",
    "data"
   ]
  },
  {
   "cell_type": "code",
   "execution_count": 4,
   "id": "2a5788ba251d8235",
   "metadata": {
    "ExecuteTime": {
     "end_time": "2024-01-05T03:42:25.542862494Z",
     "start_time": "2024-01-05T03:42:25.491669007Z"
    }
   },
   "outputs": [
    {
     "data": {
      "text/html": [
       "<div>\n",
       "<style scoped>\n",
       "    .dataframe tbody tr th:only-of-type {\n",
       "        vertical-align: middle;\n",
       "    }\n",
       "\n",
       "    .dataframe tbody tr th {\n",
       "        vertical-align: top;\n",
       "    }\n",
       "\n",
       "    .dataframe thead th {\n",
       "        text-align: right;\n",
       "    }\n",
       "</style>\n",
       "<table border=\"1\" class=\"dataframe\">\n",
       "  <thead>\n",
       "    <tr style=\"text-align: right;\">\n",
       "      <th></th>\n",
       "      <th>timestamp</th>\n",
       "      <th>adservice_cpu</th>\n",
       "      <th>adservice_ram</th>\n",
       "      <th>cartservice_cpu</th>\n",
       "      <th>cartservice_ram</th>\n",
       "      <th>checkoutservice_cpu</th>\n",
       "      <th>checkoutservice_ram</th>\n",
       "      <th>currencyservice_cpu</th>\n",
       "      <th>currencyservice_ram</th>\n",
       "      <th>emailservice_cpu</th>\n",
       "      <th>...</th>\n",
       "      <th>productcatalogservice_cpu</th>\n",
       "      <th>productcatalogservice_ram</th>\n",
       "      <th>recommendationservice_cpu</th>\n",
       "      <th>recommendationservice_ram</th>\n",
       "      <th>redis_cpu</th>\n",
       "      <th>redis_ram</th>\n",
       "      <th>shippingservice_cpu</th>\n",
       "      <th>shippingservice_ram</th>\n",
       "      <th>group</th>\n",
       "      <th>time_idx</th>\n",
       "    </tr>\n",
       "  </thead>\n",
       "  <tbody>\n",
       "    <tr>\n",
       "      <th>count</th>\n",
       "      <td>1.440000e+03</td>\n",
       "      <td>1440.000000</td>\n",
       "      <td>1.440000e+03</td>\n",
       "      <td>1440.000000</td>\n",
       "      <td>1.440000e+03</td>\n",
       "      <td>1440.000000</td>\n",
       "      <td>1.440000e+03</td>\n",
       "      <td>1440.000000</td>\n",
       "      <td>1.440000e+03</td>\n",
       "      <td>1440.000000</td>\n",
       "      <td>...</td>\n",
       "      <td>1440.000000</td>\n",
       "      <td>1.440000e+03</td>\n",
       "      <td>1440.000000</td>\n",
       "      <td>1.440000e+03</td>\n",
       "      <td>1440.000000</td>\n",
       "      <td>1.440000e+03</td>\n",
       "      <td>1440.000000</td>\n",
       "      <td>1.440000e+03</td>\n",
       "      <td>1440.0</td>\n",
       "      <td>1440.000000</td>\n",
       "    </tr>\n",
       "    <tr>\n",
       "      <th>mean</th>\n",
       "      <td>1.701869e+09</td>\n",
       "      <td>0.005023</td>\n",
       "      <td>2.839818e+06</td>\n",
       "      <td>0.009493</td>\n",
       "      <td>2.539790e+06</td>\n",
       "      <td>0.004245</td>\n",
       "      <td>1.520532e+06</td>\n",
       "      <td>0.053026</td>\n",
       "      <td>2.147623e+06</td>\n",
       "      <td>0.004575</td>\n",
       "      <td>...</td>\n",
       "      <td>0.019514</td>\n",
       "      <td>1.957105e+06</td>\n",
       "      <td>0.011152</td>\n",
       "      <td>2.143491e+06</td>\n",
       "      <td>0.003962</td>\n",
       "      <td>1.220154e+06</td>\n",
       "      <td>0.004045</td>\n",
       "      <td>1.408181e+06</td>\n",
       "      <td>0.0</td>\n",
       "      <td>719.500000</td>\n",
       "    </tr>\n",
       "    <tr>\n",
       "      <th>std</th>\n",
       "      <td>2.496812e+04</td>\n",
       "      <td>0.000868</td>\n",
       "      <td>2.369915e+06</td>\n",
       "      <td>0.001301</td>\n",
       "      <td>1.697441e+06</td>\n",
       "      <td>0.000908</td>\n",
       "      <td>1.333184e+06</td>\n",
       "      <td>0.006749</td>\n",
       "      <td>1.415164e+06</td>\n",
       "      <td>0.000558</td>\n",
       "      <td>...</td>\n",
       "      <td>0.002438</td>\n",
       "      <td>1.137286e+06</td>\n",
       "      <td>0.001243</td>\n",
       "      <td>1.599418e+06</td>\n",
       "      <td>0.000441</td>\n",
       "      <td>8.704687e+05</td>\n",
       "      <td>0.000555</td>\n",
       "      <td>1.140044e+06</td>\n",
       "      <td>0.0</td>\n",
       "      <td>415.836506</td>\n",
       "    </tr>\n",
       "    <tr>\n",
       "      <th>min</th>\n",
       "      <td>1.701826e+09</td>\n",
       "      <td>0.002105</td>\n",
       "      <td>0.000000e+00</td>\n",
       "      <td>0.003849</td>\n",
       "      <td>0.000000e+00</td>\n",
       "      <td>0.001294</td>\n",
       "      <td>0.000000e+00</td>\n",
       "      <td>0.021259</td>\n",
       "      <td>0.000000e+00</td>\n",
       "      <td>0.001862</td>\n",
       "      <td>...</td>\n",
       "      <td>0.008112</td>\n",
       "      <td>0.000000e+00</td>\n",
       "      <td>0.005055</td>\n",
       "      <td>0.000000e+00</td>\n",
       "      <td>0.001684</td>\n",
       "      <td>0.000000e+00</td>\n",
       "      <td>0.001517</td>\n",
       "      <td>0.000000e+00</td>\n",
       "      <td>0.0</td>\n",
       "      <td>0.000000</td>\n",
       "    </tr>\n",
       "    <tr>\n",
       "      <th>25%</th>\n",
       "      <td>1.701847e+09</td>\n",
       "      <td>0.004860</td>\n",
       "      <td>2.403828e+02</td>\n",
       "      <td>0.009000</td>\n",
       "      <td>1.834103e+06</td>\n",
       "      <td>0.003631</td>\n",
       "      <td>3.690373e+03</td>\n",
       "      <td>0.050514</td>\n",
       "      <td>1.687784e+06</td>\n",
       "      <td>0.004495</td>\n",
       "      <td>...</td>\n",
       "      <td>0.018366</td>\n",
       "      <td>1.436528e+06</td>\n",
       "      <td>0.010704</td>\n",
       "      <td>6.673095e+03</td>\n",
       "      <td>0.003915</td>\n",
       "      <td>1.488095e+04</td>\n",
       "      <td>0.003820</td>\n",
       "      <td>6.205573e+03</td>\n",
       "      <td>0.0</td>\n",
       "      <td>359.750000</td>\n",
       "    </tr>\n",
       "    <tr>\n",
       "      <th>50%</th>\n",
       "      <td>1.701869e+09</td>\n",
       "      <td>0.005114</td>\n",
       "      <td>3.325431e+06</td>\n",
       "      <td>0.009699</td>\n",
       "      <td>2.295489e+06</td>\n",
       "      <td>0.004212</td>\n",
       "      <td>1.620129e+06</td>\n",
       "      <td>0.054169</td>\n",
       "      <td>2.053376e+06</td>\n",
       "      <td>0.004706</td>\n",
       "      <td>...</td>\n",
       "      <td>0.019870</td>\n",
       "      <td>1.767855e+06</td>\n",
       "      <td>0.011413</td>\n",
       "      <td>2.271910e+06</td>\n",
       "      <td>0.004055</td>\n",
       "      <td>1.253053e+06</td>\n",
       "      <td>0.004141</td>\n",
       "      <td>1.475048e+06</td>\n",
       "      <td>0.0</td>\n",
       "      <td>719.500000</td>\n",
       "    </tr>\n",
       "    <tr>\n",
       "      <th>75%</th>\n",
       "      <td>1.701891e+09</td>\n",
       "      <td>0.005308</td>\n",
       "      <td>4.121142e+06</td>\n",
       "      <td>0.010302</td>\n",
       "      <td>3.854424e+06</td>\n",
       "      <td>0.004848</td>\n",
       "      <td>2.280925e+06</td>\n",
       "      <td>0.057393</td>\n",
       "      <td>3.191778e+06</td>\n",
       "      <td>0.004882</td>\n",
       "      <td>...</td>\n",
       "      <td>0.021157</td>\n",
       "      <td>2.816662e+06</td>\n",
       "      <td>0.011970</td>\n",
       "      <td>2.855917e+06</td>\n",
       "      <td>0.004184</td>\n",
       "      <td>1.650502e+06</td>\n",
       "      <td>0.004388</td>\n",
       "      <td>2.004900e+06</td>\n",
       "      <td>0.0</td>\n",
       "      <td>1079.250000</td>\n",
       "    </tr>\n",
       "    <tr>\n",
       "      <th>max</th>\n",
       "      <td>1.701912e+09</td>\n",
       "      <td>0.022239</td>\n",
       "      <td>9.073732e+06</td>\n",
       "      <td>0.013248</td>\n",
       "      <td>7.943712e+06</td>\n",
       "      <td>0.008076</td>\n",
       "      <td>5.503465e+06</td>\n",
       "      <td>0.068982</td>\n",
       "      <td>7.097003e+06</td>\n",
       "      <td>0.007155</td>\n",
       "      <td>...</td>\n",
       "      <td>0.026502</td>\n",
       "      <td>5.516000e+06</td>\n",
       "      <td>0.017012</td>\n",
       "      <td>7.073663e+06</td>\n",
       "      <td>0.006030</td>\n",
       "      <td>4.172296e+06</td>\n",
       "      <td>0.007419</td>\n",
       "      <td>5.309284e+06</td>\n",
       "      <td>0.0</td>\n",
       "      <td>1439.000000</td>\n",
       "    </tr>\n",
       "  </tbody>\n",
       "</table>\n",
       "<p>8 rows × 25 columns</p>\n",
       "</div>"
      ],
      "text/plain": [
       "          timestamp  adservice_cpu  adservice_ram  cartservice_cpu  \\\n",
       "count  1.440000e+03    1440.000000   1.440000e+03      1440.000000   \n",
       "mean   1.701869e+09       0.005023   2.839818e+06         0.009493   \n",
       "std    2.496812e+04       0.000868   2.369915e+06         0.001301   \n",
       "min    1.701826e+09       0.002105   0.000000e+00         0.003849   \n",
       "25%    1.701847e+09       0.004860   2.403828e+02         0.009000   \n",
       "50%    1.701869e+09       0.005114   3.325431e+06         0.009699   \n",
       "75%    1.701891e+09       0.005308   4.121142e+06         0.010302   \n",
       "max    1.701912e+09       0.022239   9.073732e+06         0.013248   \n",
       "\n",
       "       cartservice_ram  checkoutservice_cpu  checkoutservice_ram  \\\n",
       "count     1.440000e+03          1440.000000         1.440000e+03   \n",
       "mean      2.539790e+06             0.004245         1.520532e+06   \n",
       "std       1.697441e+06             0.000908         1.333184e+06   \n",
       "min       0.000000e+00             0.001294         0.000000e+00   \n",
       "25%       1.834103e+06             0.003631         3.690373e+03   \n",
       "50%       2.295489e+06             0.004212         1.620129e+06   \n",
       "75%       3.854424e+06             0.004848         2.280925e+06   \n",
       "max       7.943712e+06             0.008076         5.503465e+06   \n",
       "\n",
       "       currencyservice_cpu  currencyservice_ram  emailservice_cpu  ...  \\\n",
       "count          1440.000000         1.440000e+03       1440.000000  ...   \n",
       "mean              0.053026         2.147623e+06          0.004575  ...   \n",
       "std               0.006749         1.415164e+06          0.000558  ...   \n",
       "min               0.021259         0.000000e+00          0.001862  ...   \n",
       "25%               0.050514         1.687784e+06          0.004495  ...   \n",
       "50%               0.054169         2.053376e+06          0.004706  ...   \n",
       "75%               0.057393         3.191778e+06          0.004882  ...   \n",
       "max               0.068982         7.097003e+06          0.007155  ...   \n",
       "\n",
       "       productcatalogservice_cpu  productcatalogservice_ram  \\\n",
       "count                1440.000000               1.440000e+03   \n",
       "mean                    0.019514               1.957105e+06   \n",
       "std                     0.002438               1.137286e+06   \n",
       "min                     0.008112               0.000000e+00   \n",
       "25%                     0.018366               1.436528e+06   \n",
       "50%                     0.019870               1.767855e+06   \n",
       "75%                     0.021157               2.816662e+06   \n",
       "max                     0.026502               5.516000e+06   \n",
       "\n",
       "       recommendationservice_cpu  recommendationservice_ram    redis_cpu  \\\n",
       "count                1440.000000               1.440000e+03  1440.000000   \n",
       "mean                    0.011152               2.143491e+06     0.003962   \n",
       "std                     0.001243               1.599418e+06     0.000441   \n",
       "min                     0.005055               0.000000e+00     0.001684   \n",
       "25%                     0.010704               6.673095e+03     0.003915   \n",
       "50%                     0.011413               2.271910e+06     0.004055   \n",
       "75%                     0.011970               2.855917e+06     0.004184   \n",
       "max                     0.017012               7.073663e+06     0.006030   \n",
       "\n",
       "          redis_ram  shippingservice_cpu  shippingservice_ram   group  \\\n",
       "count  1.440000e+03          1440.000000         1.440000e+03  1440.0   \n",
       "mean   1.220154e+06             0.004045         1.408181e+06     0.0   \n",
       "std    8.704687e+05             0.000555         1.140044e+06     0.0   \n",
       "min    0.000000e+00             0.001517         0.000000e+00     0.0   \n",
       "25%    1.488095e+04             0.003820         6.205573e+03     0.0   \n",
       "50%    1.253053e+06             0.004141         1.475048e+06     0.0   \n",
       "75%    1.650502e+06             0.004388         2.004900e+06     0.0   \n",
       "max    4.172296e+06             0.007419         5.309284e+06     0.0   \n",
       "\n",
       "          time_idx  \n",
       "count  1440.000000  \n",
       "mean    719.500000  \n",
       "std     415.836506  \n",
       "min       0.000000  \n",
       "25%     359.750000  \n",
       "50%     719.500000  \n",
       "75%    1079.250000  \n",
       "max    1439.000000  \n",
       "\n",
       "[8 rows x 25 columns]"
      ]
     },
     "execution_count": 4,
     "metadata": {},
     "output_type": "execute_result"
    }
   ],
   "source": [
    "data[\"group\"] = 0\n",
    "data[\"time_idx\"] = data[\"timestamp\"].argsort()\n",
    "data.describe()"
   ]
  },
  {
   "cell_type": "code",
   "execution_count": 5,
   "id": "729a11ed5c1943cc",
   "metadata": {
    "ExecuteTime": {
     "end_time": "2024-01-05T03:42:27.762995502Z",
     "start_time": "2024-01-05T03:42:27.210577218Z"
    }
   },
   "outputs": [],
   "source": [
    "cutting_point = int(len(data) * 0.8)\n",
    "max_encoder_length = 24\n",
    "targets = list(data.columns.values)\n",
    "targets.remove(\"timestamp\")\n",
    "targets.remove(\"group\")\n",
    "targets.remove(\"time_idx\")\n",
    "\n",
    "training = TimeSeriesDataSet(\n",
    "    data.iloc[:cutting_point],\n",
    "    time_idx=\"time_idx\",\n",
    "    target=targets,\n",
    "    group_ids=[\"group\"],\n",
    "    max_encoder_length=60,\n",
    "    min_prediction_length=1,\n",
    "    max_prediction_length=6,\n",
    "    static_reals=[\"group\"],\n",
    "    time_varying_known_reals=[\"timestamp\", \"time_idx\"],\n",
    "    time_varying_unknown_reals=targets,\n",
    "    target_normalizer=MultiNormalizer(\n",
    "        [EncoderNormalizer(\n",
    "            method='standard',\n",
    "            center=True,\n",
    "            max_length=None,\n",
    "            transformation=None,\n",
    "            method_kwargs={})\n",
    "        ] * len(targets)\n",
    "    ),\n",
    "    add_relative_time_idx=True,\n",
    "    add_target_scales=True,\n",
    "    add_encoder_length=True\n",
    ")\n",
    "\n",
    "validation = TimeSeriesDataSet.from_dataset(training, data, predict=True, stop_randomization=True)\n",
    "batch_size = 128\n",
    "train_dataloader = training.to_dataloader(train=True, batch_size=batch_size)\n",
    "val_dataloader = validation.to_dataloader(train=False, batch_size=batch_size)"
   ]
  },
  {
   "cell_type": "markdown",
   "id": "5eb5e2db105d8949",
   "metadata": {},
   "source": [
    "## Baseline model"
   ]
  },
  {
   "cell_type": "code",
   "execution_count": 6,
   "id": "bf51141ee5698d47",
   "metadata": {
    "ExecuteTime": {
     "end_time": "2024-01-05T03:42:46.375899017Z",
     "start_time": "2024-01-05T03:42:29.751066233Z"
    }
   },
   "outputs": [
    {
     "name": "stderr",
     "output_type": "stream",
     "text": [
      "2024-01-04 21:42:37.575943: E external/local_xla/xla/stream_executor/cuda/cuda_dnn.cc:9261] Unable to register cuDNN factory: Attempting to register factory for plugin cuDNN when one has already been registered\n",
      "2024-01-04 21:42:37.576127: E external/local_xla/xla/stream_executor/cuda/cuda_fft.cc:607] Unable to register cuFFT factory: Attempting to register factory for plugin cuFFT when one has already been registered\n",
      "2024-01-04 21:42:37.956404: E external/local_xla/xla/stream_executor/cuda/cuda_blas.cc:1515] Unable to register cuBLAS factory: Attempting to register factory for plugin cuBLAS when one has already been registered\n",
      "2024-01-04 21:42:38.686648: I tensorflow/core/platform/cpu_feature_guard.cc:182] This TensorFlow binary is optimized to use available CPU instructions in performance-critical operations.\n",
      "To enable the following instructions: AVX2 FMA, in other operations, rebuild TensorFlow with the appropriate compiler flags.\n",
      "2024-01-04 21:42:43.168184: W tensorflow/compiler/tf2tensorrt/utils/py_utils.cc:38] TF-TRT Warning: Could not find TensorRT\n",
      "LOCAL_RANK: 0 - CUDA_VISIBLE_DEVICES: [0]\n"
     ]
    }
   ],
   "source": [
    "baseline_predictions = Baseline().predict(val_dataloader, return_y=True)\n",
    "# MAE()(baseline_predictions.output, baseline_predictions.y)"
   ]
  },
  {
   "cell_type": "code",
   "execution_count": 10,
   "id": "50352cab48a6a147",
   "metadata": {
    "ExecuteTime": {
     "end_time": "2024-01-05T03:43:56.032834484Z",
     "start_time": "2024-01-05T03:43:55.878973038Z"
    }
   },
   "outputs": [],
   "source": [
    "mae = torchmetrics.regression.MeanAbsoluteError().to(\"cuda\")\n",
    "mape = torchmetrics.regression.MeanAbsolutePercentageError().to(\"cuda\")\n",
    "mse = torchmetrics.regression.MeanSquaredError().to(\"cuda\")"
   ]
  },
  {
   "cell_type": "code",
   "execution_count": 12,
   "id": "7a949058e509d8b3",
   "metadata": {
    "ExecuteTime": {
     "end_time": "2024-01-05T03:44:44.677059901Z",
     "start_time": "2024-01-05T03:44:44.421652148Z"
    }
   },
   "outputs": [],
   "source": [
    "baseline_mae = mae(torch.cat(baseline_predictions.output), torch.cat(baseline_predictions.y[0]))\n",
    "baseline_mape = mape(torch.cat(baseline_predictions.output), torch.cat(baseline_predictions.y[0]))\n",
    "baseline_mse = mse(torch.cat(baseline_predictions.output), torch.cat(baseline_predictions.y[0]))"
   ]
  },
  {
   "cell_type": "markdown",
   "id": "f9fd01924a122066",
   "metadata": {},
   "source": [
    "## Temporal Fusion Transformer"
   ]
  },
  {
   "cell_type": "code",
   "execution_count": 8,
   "id": "3c6485fbd0355803",
   "metadata": {
    "ExecuteTime": {
     "end_time": "2024-01-04T21:38:55.409350982Z",
     "start_time": "2024-01-04T21:38:55.154746542Z"
    }
   },
   "outputs": [
    {
     "name": "stderr",
     "output_type": "stream",
     "text": [
      "Seed set to 42\n",
      "GPU available: True (cuda), used: True\n",
      "TPU available: False, using: 0 TPU cores\n",
      "IPU available: False, using: 0 IPUs\n",
      "HPU available: False, using: 0 HPUs\n"
     ]
    },
    {
     "name": "stdout",
     "output_type": "stream",
     "text": [
      "Number of parameters in network: 35.4k\n"
     ]
    }
   ],
   "source": [
    "# configure network and trainer\n",
    "pl.seed_everything(42)\n",
    "trainer = pl.Trainer(\n",
    "    accelerator=\"cuda\",\n",
    "    gradient_clip_val=0.1,\n",
    ")\n",
    "\n",
    "\n",
    "tft = TemporalFusionTransformer.from_dataset(\n",
    "    training,\n",
    "    learning_rate=0.03,\n",
    "    hidden_size=8,\n",
    "    attention_head_size=1,\n",
    "    dropout=0.1,\n",
    "    hidden_continuous_size=8,\n",
    "    loss=QuantileLoss(),\n",
    "    optimizer=\"Ranger\"\n",
    ")\n",
    "print(f\"Number of parameters in network: {tft.size()/1e3:.1f}k\")"
   ]
  },
  {
   "cell_type": "code",
   "execution_count": 9,
   "id": "ba1a57148a88e99",
   "metadata": {
    "ExecuteTime": {
     "end_time": "2024-01-04T21:42:24.013099997Z",
     "start_time": "2024-01-04T21:39:09.109303859Z"
    }
   },
   "outputs": [
    {
     "name": "stderr",
     "output_type": "stream",
     "text": [
      "LOCAL_RANK: 0 - CUDA_VISIBLE_DEVICES: [0]\n"
     ]
    },
    {
     "data": {
      "application/vnd.jupyter.widget-view+json": {
       "model_id": "428eb3aef62d4b1b9b237f07a8128cf3",
       "version_major": 2,
       "version_minor": 0
      },
      "text/plain": [
       "Finding best initial lr:   0%|          | 0/100 [00:00<?, ?it/s]"
      ]
     },
     "metadata": {},
     "output_type": "display_data"
    },
    {
     "name": "stderr",
     "output_type": "stream",
     "text": [
      "`Trainer.fit` stopped: `max_steps=100` reached.\n",
      "Learning rate set to 0.2454708915685031\n",
      "Restoring states from the checkpoint path at /home/jlcg/projects/pod-resource-prediction/notebooks/.lr_find_3f98b2d1-ec6e-4712-9ffb-6b104edf998a.ckpt\n",
      "Restored all states from the checkpoint at /home/jlcg/projects/pod-resource-prediction/notebooks/.lr_find_3f98b2d1-ec6e-4712-9ffb-6b104edf998a.ckpt\n"
     ]
    },
    {
     "name": "stdout",
     "output_type": "stream",
     "text": [
      "suggested learning rate: 0.2454708915685031\n"
     ]
    },
    {
     "data": {
      "image/png": "[encoded data removed]",
      "text/plain": [
       "<Figure size 640x480 with 1 Axes>"
      ]
     },
     "metadata": {},
     "output_type": "display_data"
    }
   ],
   "source": [
    "from lightning.pytorch.tuner import Tuner\n",
    "\n",
    "res = Tuner(trainer).lr_find(\n",
    "    tft,\n",
    "    train_dataloaders=train_dataloader,\n",
    "    val_dataloaders=val_dataloader,\n",
    "    max_lr=10.0,\n",
    "    min_lr=1e-6,\n",
    ")\n",
    "\n",
    "print(f\"suggested learning rate: {res.suggestion()}\")\n",
    "fig = res.plot(show=True, suggest=True)\n",
    "fig.show()"
   ]
  },
  {
   "cell_type": "code",
   "execution_count": 10,
   "id": "4bc6ff19fdfade25",
   "metadata": {
    "ExecuteTime": {
     "end_time": "2024-01-04T21:42:28.338177443Z",
     "start_time": "2024-01-04T21:42:28.328820323Z"
    }
   },
   "outputs": [],
   "source": [
    "import tensorflow as tf\n",
    "import tensorboard as tb\n",
    "\n",
    "tf.io.gfile = tb.compat.tensorflow_stub.io.gfile"
   ]
  },
  {
   "cell_type": "code",
   "execution_count": 11,
   "id": "c7ac770979e0f4a9",
   "metadata": {
    "ExecuteTime": {
     "end_time": "2024-01-04T21:42:35.925673666Z",
     "start_time": "2024-01-04T21:42:35.757653241Z"
    }
   },
   "outputs": [
    {
     "name": "stderr",
     "output_type": "stream",
     "text": [
      "GPU available: True (cuda), used: True\n",
      "TPU available: False, using: 0 TPU cores\n",
      "IPU available: False, using: 0 IPUs\n",
      "HPU available: False, using: 0 HPUs\n"
     ]
    },
    {
     "name": "stdout",
     "output_type": "stream",
     "text": [
      "Number of parameters in network: 68.4k\n"
     ]
    }
   ],
   "source": [
    "early_stop_callback = EarlyStopping(monitor=\"val_loss\", min_delta=1e-4, patience=10, verbose=False, mode=\"min\")\n",
    "lr_logger = LearningRateMonitor()  # log the learning rate\n",
    "logger = TensorBoardLogger(\"lightning_logs\")  # logging results to a tensorboard\n",
    "\n",
    "trainer = pl.Trainer(\n",
    "    max_epochs=50,\n",
    "    accelerator=\"cuda\",\n",
    "    enable_model_summary=True,\n",
    "    gradient_clip_val=0.1,\n",
    "    limit_train_batches=50,\n",
    "    callbacks=[lr_logger, early_stop_callback],\n",
    "    logger=logger,\n",
    ")\n",
    "\n",
    "tft = TemporalFusionTransformer.from_dataset(\n",
    "    training,\n",
    "    learning_rate=0.2,\n",
    "    hidden_size=16,\n",
    "    attention_head_size=2,\n",
    "    dropout=0.1,\n",
    "    hidden_continuous_size=8,\n",
    "    loss=QuantileLoss(),\n",
    "    log_interval=10,\n",
    "    optimizer=\"Ranger\",\n",
    "    reduce_on_plateau_patience=4,\n",
    ")\n",
    "print(f\"Number of parameters in network: {tft.size()/1e3:.1f}k\")"
   ]
  },
  {
   "cell_type": "code",
   "execution_count": 12,
   "id": "42d5a760449a267a",
   "metadata": {
    "ExecuteTime": {
     "end_time": "2024-01-04T22:00:50.337317331Z",
     "start_time": "2024-01-04T21:44:06.118750509Z"
    }
   },
   "outputs": [
    {
     "name": "stderr",
     "output_type": "stream",
     "text": [
      "Missing logger folder: lightning_logs/lightning_logs\n",
      "LOCAL_RANK: 0 - CUDA_VISIBLE_DEVICES: [0]\n",
      "\n",
      "   | Name                               | Type                            | Params\n",
      "----------------------------------------------------------------------------------------\n",
      "0  | loss                               | MultiLoss                       | 0     \n",
      "1  | logging_metrics                    | ModuleList                      | 0     \n",
      "2  | input_embeddings                   | MultiEmbedding                  | 0     \n",
      "3  | prescalers                         | ModuleDict                      | 1.1 K \n",
      "4  | static_variable_selection          | VariableSelectionNetwork        | 32.3 K\n",
      "5  | encoder_variable_selection         | VariableSelectionNetwork        | 17.9 K\n",
      "6  | decoder_variable_selection         | VariableSelectionNetwork        | 1.8 K \n",
      "7  | static_context_variable_selection  | GatedResidualNetwork            | 1.1 K \n",
      "8  | static_context_initial_hidden_lstm | GatedResidualNetwork            | 1.1 K \n",
      "9  | static_context_initial_cell_lstm   | GatedResidualNetwork            | 1.1 K \n",
      "10 | static_context_enrichment          | GatedResidualNetwork            | 1.1 K \n",
      "11 | lstm_encoder                       | LSTM                            | 2.2 K \n",
      "12 | lstm_decoder                       | LSTM                            | 2.2 K \n",
      "13 | post_lstm_gate_encoder             | GatedLinearUnit                 | 544   \n",
      "14 | post_lstm_add_norm_encoder         | AddNorm                         | 32    \n",
      "15 | static_enrichment                  | GatedResidualNetwork            | 1.4 K \n",
      "16 | multihead_attn                     | InterpretableMultiHeadAttention | 808   \n",
      "17 | post_attn_gate_norm                | GateAddNorm                     | 576   \n",
      "18 | pos_wise_ff                        | GatedResidualNetwork            | 1.1 K \n",
      "19 | pre_output_gate_norm               | GateAddNorm                     | 576   \n",
      "20 | output_layer                       | ModuleList                      | 2.6 K \n",
      "----------------------------------------------------------------------------------------\n",
      "68.4 K    Trainable params\n",
      "0         Non-trainable params\n",
      "68.4 K    Total params\n",
      "0.273     Total estimated model params size (MB)\n"
     ]
    },
    {
     "data": {
      "application/vnd.jupyter.widget-view+json": {
       "model_id": "1164bb6ddd0846b388c2973f190b3383",
       "version_major": 2,
       "version_minor": 0
      },
      "text/plain": [
       "Sanity Checking: |          | 0/? [00:00<?, ?it/s]"
      ]
     },
     "metadata": {},
     "output_type": "display_data"
    },
    {
     "data": {
      "application/vnd.jupyter.widget-view+json": {
       "model_id": "53972db551eb47cea5d56cfc0882c4bc",
       "version_major": 2,
       "version_minor": 0
      },
      "text/plain": [
       "Training: |          | 0/? [00:00<?, ?it/s]"
      ]
     },
     "metadata": {},
     "output_type": "display_data"
    },
    {
     "data": {
      "application/vnd.jupyter.widget-view+json": {
       "model_id": "5ed26aec218f481caff70dbb66581227",
       "version_major": 2,
       "version_minor": 0
      },
      "text/plain": [
       "Validation: |          | 0/? [00:00<?, ?it/s]"
      ]
     },
     "metadata": {},
     "output_type": "display_data"
    },
    {
     "data": {
      "application/vnd.jupyter.widget-view+json": {
       "model_id": "d3065821be37488dbbdf14ce3d076133",
       "version_major": 2,
       "version_minor": 0
      },
      "text/plain": [
       "Validation: |          | 0/? [00:00<?, ?it/s]"
      ]
     },
     "metadata": {},
     "output_type": "display_data"
    },
    {
     "data": {
      "application/vnd.jupyter.widget-view+json": {
       "model_id": "1e1bd758c9e846c98de32400c2e1e5e2",
       "version_major": 2,
       "version_minor": 0
      },
      "text/plain": [
       "Validation: |          | 0/? [00:00<?, ?it/s]"
      ]
     },
     "metadata": {},
     "output_type": "display_data"
    },
    {
     "data": {
      "application/vnd.jupyter.widget-view+json": {
       "model_id": "48846b280126451db8afb2a38590ef26",
       "version_major": 2,
       "version_minor": 0
      },
      "text/plain": [
       "Validation: |          | 0/? [00:00<?, ?it/s]"
      ]
     },
     "metadata": {},
     "output_type": "display_data"
    },
    {
     "data": {
      "application/vnd.jupyter.widget-view+json": {
       "model_id": "b6ed73119f5c4c269153696c41713660",
       "version_major": 2,
       "version_minor": 0
      },
      "text/plain": [
       "Validation: |          | 0/? [00:00<?, ?it/s]"
      ]
     },
     "metadata": {},
     "output_type": "display_data"
    },
    {
     "data": {
      "application/vnd.jupyter.widget-view+json": {
       "model_id": "15fd1dbf97c6484b98c4c00ba5fcf69d",
       "version_major": 2,
       "version_minor": 0
      },
      "text/plain": [
       "Validation: |          | 0/? [00:00<?, ?it/s]"
      ]
     },
     "metadata": {},
     "output_type": "display_data"
    },
    {
     "data": {
      "application/vnd.jupyter.widget-view+json": {
       "model_id": "ca3538fa86ef4017badeaa54bca312b5",
       "version_major": 2,
       "version_minor": 0
      },
      "text/plain": [
       "Validation: |          | 0/? [00:00<?, ?it/s]"
      ]
     },
     "metadata": {},
     "output_type": "display_data"
    },
    {
     "data": {
      "application/vnd.jupyter.widget-view+json": {
       "model_id": "85f6361bb42742179a3e64a891080cad",
       "version_major": 2,
       "version_minor": 0
      },
      "text/plain": [
       "Validation: |          | 0/? [00:00<?, ?it/s]"
      ]
     },
     "metadata": {},
     "output_type": "display_data"
    },
    {
     "data": {
      "application/vnd.jupyter.widget-view+json": {
       "model_id": "06ca600b70ce4f65881a8337e70c5867",
       "version_major": 2,
       "version_minor": 0
      },
      "text/plain": [
       "Validation: |          | 0/? [00:00<?, ?it/s]"
      ]
     },
     "metadata": {},
     "output_type": "display_data"
    },
    {
     "data": {
      "application/vnd.jupyter.widget-view+json": {
       "model_id": "de27e03fcf96462980da728b8b1733e2",
       "version_major": 2,
       "version_minor": 0
      },
      "text/plain": [
       "Validation: |          | 0/? [00:00<?, ?it/s]"
      ]
     },
     "metadata": {},
     "output_type": "display_data"
    },
    {
     "data": {
      "application/vnd.jupyter.widget-view+json": {
       "model_id": "1ca1001b3034494e8fae8ea48a762fdb",
       "version_major": 2,
       "version_minor": 0
      },
      "text/plain": [
       "Validation: |          | 0/? [00:00<?, ?it/s]"
      ]
     },
     "metadata": {},
     "output_type": "display_data"
    },
    {
     "data": {
      "application/vnd.jupyter.widget-view+json": {
       "model_id": "5cc757c8ce8c437f95e91dc48ce11b27",
       "version_major": 2,
       "version_minor": 0
      },
      "text/plain": [
       "Validation: |          | 0/? [00:00<?, ?it/s]"
      ]
     },
     "metadata": {},
     "output_type": "display_data"
    },
    {
     "data": {
      "application/vnd.jupyter.widget-view+json": {
       "model_id": "55efb4556b7d453f93b58c5a8004aefd",
       "version_major": 2,
       "version_minor": 0
      },
      "text/plain": [
       "Validation: |          | 0/? [00:00<?, ?it/s]"
      ]
     },
     "metadata": {},
     "output_type": "display_data"
    },
    {
     "data": {
      "application/vnd.jupyter.widget-view+json": {
       "model_id": "6c2bd77818a54608b905f97ca4f2bbb5",
       "version_major": 2,
       "version_minor": 0
      },
      "text/plain": [
       "Validation: |          | 0/? [00:00<?, ?it/s]"
      ]
     },
     "metadata": {},
     "output_type": "display_data"
    },
    {
     "data": {
      "application/vnd.jupyter.widget-view+json": {
       "model_id": "afec9aa1692540b4a81d6b43fffe7a85",
       "version_major": 2,
       "version_minor": 0
      },
      "text/plain": [
       "Validation: |          | 0/? [00:00<?, ?it/s]"
      ]
     },
     "metadata": {},
     "output_type": "display_data"
    },
    {
     "data": {
      "application/vnd.jupyter.widget-view+json": {
       "model_id": "d357922c527946eb8146e28f086b1988",
       "version_major": 2,
       "version_minor": 0
      },
      "text/plain": [
       "Validation: |          | 0/? [00:00<?, ?it/s]"
      ]
     },
     "metadata": {},
     "output_type": "display_data"
    },
    {
     "data": {
      "application/vnd.jupyter.widget-view+json": {
       "model_id": "e3538c3f900943b6997ba53ee226b27e",
       "version_major": 2,
       "version_minor": 0
      },
      "text/plain": [
       "Validation: |          | 0/? [00:00<?, ?it/s]"
      ]
     },
     "metadata": {},
     "output_type": "display_data"
    },
    {
     "data": {
      "application/vnd.jupyter.widget-view+json": {
       "model_id": "57dba687e4fd4566961208d7a067d347",
       "version_major": 2,
       "version_minor": 0
      },
      "text/plain": [
       "Validation: |          | 0/? [00:00<?, ?it/s]"
      ]
     },
     "metadata": {},
     "output_type": "display_data"
    },
    {
     "data": {
      "application/vnd.jupyter.widget-view+json": {
       "model_id": "b5ec5ad93b2547baa56daecf2c4c3d7d",
       "version_major": 2,
       "version_minor": 0
      },
      "text/plain": [
       "Validation: |          | 0/? [00:00<?, ?it/s]"
      ]
     },
     "metadata": {},
     "output_type": "display_data"
    }
   ],
   "source": [
    "trainer.fit(\n",
    "    tft,\n",
    "    train_dataloaders=train_dataloader,\n",
    "    val_dataloaders=val_dataloader,\n",
    ")"
   ]
  },
  {
   "cell_type": "code",
   "execution_count": 62,
   "id": "b0d08bb09b8153a0",
   "metadata": {
    "ExecuteTime": {
     "end_time": "2024-01-04T22:56:44.482069812Z",
     "start_time": "2024-01-04T22:56:44.341316560Z"
    }
   },
   "outputs": [
    {
     "ename": "RuntimeError",
     "evalue": "CUDA error: unspecified launch failure\nCUDA kernel errors might be asynchronously reported at some other API call, so the stacktrace below might be incorrect.\nFor debugging consider passing CUDA_LAUNCH_BLOCKING=1.\nCompile with `TORCH_USE_CUDA_DSA` to enable device-side assertions.\n",
     "output_type": "error",
     "traceback": [
      "\u001b[0;31m---------------------------------------------------------------------------\u001b[0m",
      "\u001b[0;31mRuntimeError\u001b[0m                              Traceback (most recent call last)",
      "Cell \u001b[0;32mIn[62], line 2\u001b[0m\n\u001b[1;32m      1\u001b[0m best_model_path \u001b[38;5;241m=\u001b[39m trainer\u001b[38;5;241m.\u001b[39mcheckpoint_callback\u001b[38;5;241m.\u001b[39mbest_model_path\n\u001b[0;32m----> 2\u001b[0m best_tft \u001b[38;5;241m=\u001b[39m \u001b[43mTemporalFusionTransformer\u001b[49m\u001b[38;5;241;43m.\u001b[39;49m\u001b[43mload_from_checkpoint\u001b[49m\u001b[43m(\u001b[49m\u001b[43mbest_model_path\u001b[49m\u001b[43m)\u001b[49m\n\u001b[1;32m      3\u001b[0m torch\u001b[38;5;241m.\u001b[39msave(best_tft\u001b[38;5;241m.\u001b[39mstate_dict(), \u001b[38;5;124m\"\u001b[39m\u001b[38;5;124m../models/transformer.pt\u001b[39m\u001b[38;5;124m\"\u001b[39m)\n",
      "File \u001b[0;32m~/anaconda3/envs/pod/lib/python3.10/site-packages/lightning/pytorch/core/module.py:1561\u001b[0m, in \u001b[0;36mLightningModule.load_from_checkpoint\u001b[0;34m(cls, checkpoint_path, map_location, hparams_file, strict, **kwargs)\u001b[0m\n\u001b[1;32m   1480\u001b[0m \u001b[38;5;129m@_restricted_classmethod\u001b[39m\n\u001b[1;32m   1481\u001b[0m \u001b[38;5;28;01mdef\u001b[39;00m \u001b[38;5;21mload_from_checkpoint\u001b[39m(\n\u001b[1;32m   1482\u001b[0m     \u001b[38;5;28mcls\u001b[39m,\n\u001b[0;32m   (...)\u001b[0m\n\u001b[1;32m   1487\u001b[0m     \u001b[38;5;241m*\u001b[39m\u001b[38;5;241m*\u001b[39mkwargs: Any,\n\u001b[1;32m   1488\u001b[0m ) \u001b[38;5;241m-\u001b[39m\u001b[38;5;241m>\u001b[39m Self:\n\u001b[1;32m   1489\u001b[0m \u001b[38;5;250m    \u001b[39m\u001b[38;5;124mr\u001b[39m\u001b[38;5;124;03m\"\"\"Primary way of loading a model from a checkpoint. When Lightning saves a checkpoint it stores the arguments\u001b[39;00m\n\u001b[1;32m   1490\u001b[0m \u001b[38;5;124;03m    passed to ``__init__``  in the checkpoint under ``\"hyper_parameters\"``.\u001b[39;00m\n\u001b[1;32m   1491\u001b[0m \n\u001b[0;32m   (...)\u001b[0m\n\u001b[1;32m   1559\u001b[0m \n\u001b[1;32m   1560\u001b[0m \u001b[38;5;124;03m    \"\"\"\u001b[39;00m\n\u001b[0;32m-> 1561\u001b[0m     loaded \u001b[38;5;241m=\u001b[39m \u001b[43m_load_from_checkpoint\u001b[49m\u001b[43m(\u001b[49m\n\u001b[1;32m   1562\u001b[0m \u001b[43m        \u001b[49m\u001b[38;5;28;43mcls\u001b[39;49m\u001b[43m,\u001b[49m\u001b[43m  \u001b[49m\u001b[38;5;66;43;03m# type: ignore[arg-type]\u001b[39;49;00m\n\u001b[1;32m   1563\u001b[0m \u001b[43m        \u001b[49m\u001b[43mcheckpoint_path\u001b[49m\u001b[43m,\u001b[49m\n\u001b[1;32m   1564\u001b[0m \u001b[43m        \u001b[49m\u001b[43mmap_location\u001b[49m\u001b[43m,\u001b[49m\n\u001b[1;32m   1565\u001b[0m \u001b[43m        \u001b[49m\u001b[43mhparams_file\u001b[49m\u001b[43m,\u001b[49m\n\u001b[1;32m   1566\u001b[0m \u001b[43m        \u001b[49m\u001b[43mstrict\u001b[49m\u001b[43m,\u001b[49m\n\u001b[1;32m   1567\u001b[0m \u001b[43m        \u001b[49m\u001b[38;5;241;43m*\u001b[39;49m\u001b[38;5;241;43m*\u001b[39;49m\u001b[43mkwargs\u001b[49m\u001b[43m,\u001b[49m\n\u001b[1;32m   1568\u001b[0m \u001b[43m    \u001b[49m\u001b[43m)\u001b[49m\n\u001b[1;32m   1569\u001b[0m     \u001b[38;5;28;01mreturn\u001b[39;00m cast(Self, loaded)\n",
      "File \u001b[0;32m~/anaconda3/envs/pod/lib/python3.10/site-packages/lightning/pytorch/core/saving.py:61\u001b[0m, in \u001b[0;36m_load_from_checkpoint\u001b[0;34m(cls, checkpoint_path, map_location, hparams_file, strict, **kwargs)\u001b[0m\n\u001b[1;32m     59\u001b[0m map_location \u001b[38;5;241m=\u001b[39m map_location \u001b[38;5;129;01mor\u001b[39;00m _default_map_location\n\u001b[1;32m     60\u001b[0m \u001b[38;5;28;01mwith\u001b[39;00m pl_legacy_patch():\n\u001b[0;32m---> 61\u001b[0m     checkpoint \u001b[38;5;241m=\u001b[39m \u001b[43mpl_load\u001b[49m\u001b[43m(\u001b[49m\u001b[43mcheckpoint_path\u001b[49m\u001b[43m,\u001b[49m\u001b[43m \u001b[49m\u001b[43mmap_location\u001b[49m\u001b[38;5;241;43m=\u001b[39;49m\u001b[43mmap_location\u001b[49m\u001b[43m)\u001b[49m\n\u001b[1;32m     63\u001b[0m \u001b[38;5;66;03m# convert legacy checkpoints to the new format\u001b[39;00m\n\u001b[1;32m     64\u001b[0m checkpoint \u001b[38;5;241m=\u001b[39m _pl_migrate_checkpoint(\n\u001b[1;32m     65\u001b[0m     checkpoint, checkpoint_path\u001b[38;5;241m=\u001b[39m(checkpoint_path \u001b[38;5;28;01mif\u001b[39;00m \u001b[38;5;28misinstance\u001b[39m(checkpoint_path, (\u001b[38;5;28mstr\u001b[39m, Path)) \u001b[38;5;28;01melse\u001b[39;00m \u001b[38;5;28;01mNone\u001b[39;00m)\n\u001b[1;32m     66\u001b[0m )\n",
      "File \u001b[0;32m~/anaconda3/envs/pod/lib/python3.10/site-packages/lightning/fabric/utilities/cloud_io.py:56\u001b[0m, in \u001b[0;36m_load\u001b[0;34m(path_or_url, map_location)\u001b[0m\n\u001b[1;32m     54\u001b[0m fs \u001b[38;5;241m=\u001b[39m get_filesystem(path_or_url)\n\u001b[1;32m     55\u001b[0m \u001b[38;5;28;01mwith\u001b[39;00m fs\u001b[38;5;241m.\u001b[39mopen(path_or_url, \u001b[38;5;124m\"\u001b[39m\u001b[38;5;124mrb\u001b[39m\u001b[38;5;124m\"\u001b[39m) \u001b[38;5;28;01mas\u001b[39;00m f:\n\u001b[0;32m---> 56\u001b[0m     \u001b[38;5;28;01mreturn\u001b[39;00m \u001b[43mtorch\u001b[49m\u001b[38;5;241;43m.\u001b[39;49m\u001b[43mload\u001b[49m\u001b[43m(\u001b[49m\u001b[43mf\u001b[49m\u001b[43m,\u001b[49m\u001b[43m \u001b[49m\u001b[43mmap_location\u001b[49m\u001b[38;5;241;43m=\u001b[39;49m\u001b[43mmap_location\u001b[49m\u001b[43m)\u001b[49m\n",
      "File \u001b[0;32m~/anaconda3/envs/pod/lib/python3.10/site-packages/torch/serialization.py:809\u001b[0m, in \u001b[0;36mload\u001b[0;34m(f, map_location, pickle_module, weights_only, **pickle_load_args)\u001b[0m\n\u001b[1;32m    807\u001b[0m             \u001b[38;5;28;01mexcept\u001b[39;00m \u001b[38;5;167;01mRuntimeError\u001b[39;00m \u001b[38;5;28;01mas\u001b[39;00m e:\n\u001b[1;32m    808\u001b[0m                 \u001b[38;5;28;01mraise\u001b[39;00m pickle\u001b[38;5;241m.\u001b[39mUnpicklingError(UNSAFE_MESSAGE \u001b[38;5;241m+\u001b[39m \u001b[38;5;28mstr\u001b[39m(e)) \u001b[38;5;28;01mfrom\u001b[39;00m \u001b[38;5;28;01mNone\u001b[39;00m\n\u001b[0;32m--> 809\u001b[0m         \u001b[38;5;28;01mreturn\u001b[39;00m \u001b[43m_load\u001b[49m\u001b[43m(\u001b[49m\u001b[43mopened_zipfile\u001b[49m\u001b[43m,\u001b[49m\u001b[43m \u001b[49m\u001b[43mmap_location\u001b[49m\u001b[43m,\u001b[49m\u001b[43m \u001b[49m\u001b[43mpickle_module\u001b[49m\u001b[43m,\u001b[49m\u001b[43m \u001b[49m\u001b[38;5;241;43m*\u001b[39;49m\u001b[38;5;241;43m*\u001b[39;49m\u001b[43mpickle_load_args\u001b[49m\u001b[43m)\u001b[49m\n\u001b[1;32m    810\u001b[0m \u001b[38;5;28;01mif\u001b[39;00m weights_only:\n\u001b[1;32m    811\u001b[0m     \u001b[38;5;28;01mtry\u001b[39;00m:\n",
      "File \u001b[0;32m~/anaconda3/envs/pod/lib/python3.10/site-packages/torch/serialization.py:1172\u001b[0m, in \u001b[0;36m_load\u001b[0;34m(zip_file, map_location, pickle_module, pickle_file, **pickle_load_args)\u001b[0m\n\u001b[1;32m   1170\u001b[0m unpickler \u001b[38;5;241m=\u001b[39m UnpicklerWrapper(data_file, \u001b[38;5;241m*\u001b[39m\u001b[38;5;241m*\u001b[39mpickle_load_args)\n\u001b[1;32m   1171\u001b[0m unpickler\u001b[38;5;241m.\u001b[39mpersistent_load \u001b[38;5;241m=\u001b[39m persistent_load\n\u001b[0;32m-> 1172\u001b[0m result \u001b[38;5;241m=\u001b[39m \u001b[43munpickler\u001b[49m\u001b[38;5;241;43m.\u001b[39;49m\u001b[43mload\u001b[49m\u001b[43m(\u001b[49m\u001b[43m)\u001b[49m\n\u001b[1;32m   1174\u001b[0m torch\u001b[38;5;241m.\u001b[39m_utils\u001b[38;5;241m.\u001b[39m_validate_loaded_sparse_tensors()\n\u001b[1;32m   1176\u001b[0m \u001b[38;5;28;01mreturn\u001b[39;00m result\n",
      "File \u001b[0;32m~/anaconda3/envs/pod/lib/python3.10/pickle.py:1213\u001b[0m, in \u001b[0;36m_Unpickler.load\u001b[0;34m(self)\u001b[0m\n\u001b[1;32m   1211\u001b[0m             \u001b[38;5;28;01mraise\u001b[39;00m \u001b[38;5;167;01mEOFError\u001b[39;00m\n\u001b[1;32m   1212\u001b[0m         \u001b[38;5;28;01massert\u001b[39;00m \u001b[38;5;28misinstance\u001b[39m(key, bytes_types)\n\u001b[0;32m-> 1213\u001b[0m         \u001b[43mdispatch\u001b[49m\u001b[43m[\u001b[49m\u001b[43mkey\u001b[49m\u001b[43m[\u001b[49m\u001b[38;5;241;43m0\u001b[39;49m\u001b[43m]\u001b[49m\u001b[43m]\u001b[49m\u001b[43m(\u001b[49m\u001b[38;5;28;43mself\u001b[39;49m\u001b[43m)\u001b[49m\n\u001b[1;32m   1214\u001b[0m \u001b[38;5;28;01mexcept\u001b[39;00m _Stop \u001b[38;5;28;01mas\u001b[39;00m stopinst:\n\u001b[1;32m   1215\u001b[0m     \u001b[38;5;28;01mreturn\u001b[39;00m stopinst\u001b[38;5;241m.\u001b[39mvalue\n",
      "File \u001b[0;32m~/anaconda3/envs/pod/lib/python3.10/pickle.py:1254\u001b[0m, in \u001b[0;36m_Unpickler.load_binpersid\u001b[0;34m(self)\u001b[0m\n\u001b[1;32m   1252\u001b[0m \u001b[38;5;28;01mdef\u001b[39;00m \u001b[38;5;21mload_binpersid\u001b[39m(\u001b[38;5;28mself\u001b[39m):\n\u001b[1;32m   1253\u001b[0m     pid \u001b[38;5;241m=\u001b[39m \u001b[38;5;28mself\u001b[39m\u001b[38;5;241m.\u001b[39mstack\u001b[38;5;241m.\u001b[39mpop()\n\u001b[0;32m-> 1254\u001b[0m     \u001b[38;5;28mself\u001b[39m\u001b[38;5;241m.\u001b[39mappend(\u001b[38;5;28;43mself\u001b[39;49m\u001b[38;5;241;43m.\u001b[39;49m\u001b[43mpersistent_load\u001b[49m\u001b[43m(\u001b[49m\u001b[43mpid\u001b[49m\u001b[43m)\u001b[49m)\n",
      "File \u001b[0;32m~/anaconda3/envs/pod/lib/python3.10/site-packages/torch/serialization.py:1142\u001b[0m, in \u001b[0;36m_load.<locals>.persistent_load\u001b[0;34m(saved_id)\u001b[0m\n\u001b[1;32m   1140\u001b[0m \u001b[38;5;28;01melse\u001b[39;00m:\n\u001b[1;32m   1141\u001b[0m     nbytes \u001b[38;5;241m=\u001b[39m numel \u001b[38;5;241m*\u001b[39m torch\u001b[38;5;241m.\u001b[39m_utils\u001b[38;5;241m.\u001b[39m_element_size(dtype)\n\u001b[0;32m-> 1142\u001b[0m     typed_storage \u001b[38;5;241m=\u001b[39m \u001b[43mload_tensor\u001b[49m\u001b[43m(\u001b[49m\u001b[43mdtype\u001b[49m\u001b[43m,\u001b[49m\u001b[43m \u001b[49m\u001b[43mnbytes\u001b[49m\u001b[43m,\u001b[49m\u001b[43m \u001b[49m\u001b[43mkey\u001b[49m\u001b[43m,\u001b[49m\u001b[43m \u001b[49m\u001b[43m_maybe_decode_ascii\u001b[49m\u001b[43m(\u001b[49m\u001b[43mlocation\u001b[49m\u001b[43m)\u001b[49m\u001b[43m)\u001b[49m\n\u001b[1;32m   1144\u001b[0m \u001b[38;5;28;01mreturn\u001b[39;00m typed_storage\n",
      "File \u001b[0;32m~/anaconda3/envs/pod/lib/python3.10/site-packages/torch/serialization.py:1116\u001b[0m, in \u001b[0;36m_load.<locals>.load_tensor\u001b[0;34m(dtype, numel, key, location)\u001b[0m\n\u001b[1;32m   1112\u001b[0m storage \u001b[38;5;241m=\u001b[39m zip_file\u001b[38;5;241m.\u001b[39mget_storage_from_record(name, numel, torch\u001b[38;5;241m.\u001b[39mUntypedStorage)\u001b[38;5;241m.\u001b[39m_typed_storage()\u001b[38;5;241m.\u001b[39m_untyped_storage\n\u001b[1;32m   1113\u001b[0m \u001b[38;5;66;03m# TODO: Once we decide to break serialization FC, we can\u001b[39;00m\n\u001b[1;32m   1114\u001b[0m \u001b[38;5;66;03m# stop wrapping with TypedStorage\u001b[39;00m\n\u001b[1;32m   1115\u001b[0m typed_storage \u001b[38;5;241m=\u001b[39m torch\u001b[38;5;241m.\u001b[39mstorage\u001b[38;5;241m.\u001b[39mTypedStorage(\n\u001b[0;32m-> 1116\u001b[0m     wrap_storage\u001b[38;5;241m=\u001b[39m\u001b[43mrestore_location\u001b[49m\u001b[43m(\u001b[49m\u001b[43mstorage\u001b[49m\u001b[43m,\u001b[49m\u001b[43m \u001b[49m\u001b[43mlocation\u001b[49m\u001b[43m)\u001b[49m,\n\u001b[1;32m   1117\u001b[0m     dtype\u001b[38;5;241m=\u001b[39mdtype,\n\u001b[1;32m   1118\u001b[0m     _internal\u001b[38;5;241m=\u001b[39m\u001b[38;5;28;01mTrue\u001b[39;00m)\n\u001b[1;32m   1120\u001b[0m \u001b[38;5;28;01mif\u001b[39;00m typed_storage\u001b[38;5;241m.\u001b[39m_data_ptr() \u001b[38;5;241m!=\u001b[39m \u001b[38;5;241m0\u001b[39m:\n\u001b[1;32m   1121\u001b[0m     loaded_storages[key] \u001b[38;5;241m=\u001b[39m typed_storage\n",
      "File \u001b[0;32m~/anaconda3/envs/pod/lib/python3.10/site-packages/torch/serialization.py:1091\u001b[0m, in \u001b[0;36m_get_restore_location.<locals>.restore_location\u001b[0;34m(storage, location)\u001b[0m\n\u001b[1;32m   1089\u001b[0m result \u001b[38;5;241m=\u001b[39m map_location(storage, location)\n\u001b[1;32m   1090\u001b[0m \u001b[38;5;28;01mif\u001b[39;00m result \u001b[38;5;129;01mis\u001b[39;00m \u001b[38;5;28;01mNone\u001b[39;00m:\n\u001b[0;32m-> 1091\u001b[0m     result \u001b[38;5;241m=\u001b[39m \u001b[43mdefault_restore_location\u001b[49m\u001b[43m(\u001b[49m\u001b[43mstorage\u001b[49m\u001b[43m,\u001b[49m\u001b[43m \u001b[49m\u001b[43mlocation\u001b[49m\u001b[43m)\u001b[49m\n\u001b[1;32m   1092\u001b[0m \u001b[38;5;28;01mreturn\u001b[39;00m result\n",
      "File \u001b[0;32m~/anaconda3/envs/pod/lib/python3.10/site-packages/torch/serialization.py:217\u001b[0m, in \u001b[0;36mdefault_restore_location\u001b[0;34m(storage, location)\u001b[0m\n\u001b[1;32m    215\u001b[0m \u001b[38;5;28;01mdef\u001b[39;00m \u001b[38;5;21mdefault_restore_location\u001b[39m(storage, location):\n\u001b[1;32m    216\u001b[0m     \u001b[38;5;28;01mfor\u001b[39;00m _, _, fn \u001b[38;5;129;01min\u001b[39;00m _package_registry:\n\u001b[0;32m--> 217\u001b[0m         result \u001b[38;5;241m=\u001b[39m \u001b[43mfn\u001b[49m\u001b[43m(\u001b[49m\u001b[43mstorage\u001b[49m\u001b[43m,\u001b[49m\u001b[43m \u001b[49m\u001b[43mlocation\u001b[49m\u001b[43m)\u001b[49m\n\u001b[1;32m    218\u001b[0m         \u001b[38;5;28;01mif\u001b[39;00m result \u001b[38;5;129;01mis\u001b[39;00m \u001b[38;5;129;01mnot\u001b[39;00m \u001b[38;5;28;01mNone\u001b[39;00m:\n\u001b[1;32m    219\u001b[0m             \u001b[38;5;28;01mreturn\u001b[39;00m result\n",
      "File \u001b[0;32m~/anaconda3/envs/pod/lib/python3.10/site-packages/torch/serialization.py:187\u001b[0m, in \u001b[0;36m_cuda_deserialize\u001b[0;34m(obj, location)\u001b[0m\n\u001b[1;32m    185\u001b[0m         \u001b[38;5;28;01mreturn\u001b[39;00m torch\u001b[38;5;241m.\u001b[39mUntypedStorage(obj\u001b[38;5;241m.\u001b[39mnbytes(), device\u001b[38;5;241m=\u001b[39mtorch\u001b[38;5;241m.\u001b[39mdevice(location))\n\u001b[1;32m    186\u001b[0m \u001b[38;5;28;01melse\u001b[39;00m:\n\u001b[0;32m--> 187\u001b[0m     \u001b[38;5;28;01mreturn\u001b[39;00m \u001b[43mobj\u001b[49m\u001b[38;5;241;43m.\u001b[39;49m\u001b[43mcuda\u001b[49m\u001b[43m(\u001b[49m\u001b[43mdevice\u001b[49m\u001b[43m)\u001b[49m\n",
      "File \u001b[0;32m~/anaconda3/envs/pod/lib/python3.10/site-packages/torch/_utils.py:84\u001b[0m, in \u001b[0;36m_cuda\u001b[0;34m(self, device, non_blocking, **kwargs)\u001b[0m\n\u001b[1;32m     80\u001b[0m \u001b[38;5;28;01melse\u001b[39;00m:\n\u001b[1;32m     81\u001b[0m     untyped_storage \u001b[38;5;241m=\u001b[39m torch\u001b[38;5;241m.\u001b[39mUntypedStorage(\n\u001b[1;32m     82\u001b[0m         \u001b[38;5;28mself\u001b[39m\u001b[38;5;241m.\u001b[39msize(), device\u001b[38;5;241m=\u001b[39mtorch\u001b[38;5;241m.\u001b[39mdevice(\u001b[38;5;124m\"\u001b[39m\u001b[38;5;124mcuda\u001b[39m\u001b[38;5;124m\"\u001b[39m)\n\u001b[1;32m     83\u001b[0m     )\n\u001b[0;32m---> 84\u001b[0m     \u001b[43muntyped_storage\u001b[49m\u001b[38;5;241;43m.\u001b[39;49m\u001b[43mcopy_\u001b[49m\u001b[43m(\u001b[49m\u001b[38;5;28;43mself\u001b[39;49m\u001b[43m,\u001b[49m\u001b[43m \u001b[49m\u001b[43mnon_blocking\u001b[49m\u001b[43m)\u001b[49m\n\u001b[1;32m     85\u001b[0m     \u001b[38;5;28;01mreturn\u001b[39;00m untyped_storage\n",
      "\u001b[0;31mRuntimeError\u001b[0m: CUDA error: unspecified launch failure\nCUDA kernel errors might be asynchronously reported at some other API call, so the stacktrace below might be incorrect.\nFor debugging consider passing CUDA_LAUNCH_BLOCKING=1.\nCompile with `TORCH_USE_CUDA_DSA` to enable device-side assertions.\n"
     ]
    }
   ],
   "source": [
    "best_model_path = trainer.checkpoint_callback.best_model_path\n",
    "best_tft = TemporalFusionTransformer.load_from_checkpoint(best_model_path)\n",
    "torch.save(best_tft.state_dict(), \"../models/transformer.pt\")"
   ]
  },
  {
   "cell_type": "code",
   "execution_count": 19,
   "id": "167233b27773b5c7",
   "metadata": {
    "ExecuteTime": {
     "end_time": "2024-01-05T03:46:24.343016013Z",
     "start_time": "2024-01-05T03:46:17.378327568Z"
    }
   },
   "outputs": [
    {
     "data": {
      "text/plain": [
       "TemporalFusionTransformer(\n",
       "  \t\"attention_head_size\":               2\n",
       "  \t\"categorical_groups\":                {}\n",
       "  \t\"causal_attention\":                  True\n",
       "  \t\"dropout\":                           0.1\n",
       "  \t\"embedding_labels\":                  {}\n",
       "  \t\"embedding_paddings\":                []\n",
       "  \t\"embedding_sizes\":                   {}\n",
       "  \t\"hidden_continuous_size\":            8\n",
       "  \t\"hidden_continuous_sizes\":           {}\n",
       "  \t\"hidden_size\":                       16\n",
       "  \t\"learning_rate\":                     0.2\n",
       "  \t\"log_gradient_flow\":                 False\n",
       "  \t\"log_interval\":                      10\n",
       "  \t\"log_val_interval\":                  10\n",
       "  \t\"logging_metrics\":                   ModuleList(\n",
       "  \t  (0): SMAPE()\n",
       "  \t  (1): MAE()\n",
       "  \t  (2): RMSE()\n",
       "  \t  (3): MAPE()\n",
       "  \t)\n",
       "  \t\"loss\":                              MultiLoss(QuantileLoss(quantiles=[0.02, 0.1, 0.25, 0.5, 0.75, 0.9, 0.98]), QuantileLoss(quantiles=[0.02, 0.1, 0.25, 0.5, 0.75, 0.9, 0.98]), QuantileLoss(quantiles=[0.02, 0.1, 0.25, 0.5, 0.75, 0.9, 0.98]), QuantileLoss(quantiles=[0.02, 0.1, 0.25, 0.5, 0.75, 0.9, 0.98]), QuantileLoss(quantiles=[0.02, 0.1, 0.25, 0.5, 0.75, 0.9, 0.98]), QuantileLoss(quantiles=[0.02, 0.1, 0.25, 0.5, 0.75, 0.9, 0.98]), QuantileLoss(quantiles=[0.02, 0.1, 0.25, 0.5, 0.75, 0.9, 0.98]), QuantileLoss(quantiles=[0.02, 0.1, 0.25, 0.5, 0.75, 0.9, 0.98]), QuantileLoss(quantiles=[0.02, 0.1, 0.25, 0.5, 0.75, 0.9, 0.98]), QuantileLoss(quantiles=[0.02, 0.1, 0.25, 0.5, 0.75, 0.9, 0.98]), QuantileLoss(quantiles=[0.02, 0.1, 0.25, 0.5, 0.75, 0.9, 0.98]), QuantileLoss(quantiles=[0.02, 0.1, 0.25, 0.5, 0.75, 0.9, 0.98]), QuantileLoss(quantiles=[0.02, 0.1, 0.25, 0.5, 0.75, 0.9, 0.98]), QuantileLoss(quantiles=[0.02, 0.1, 0.25, 0.5, 0.75, 0.9, 0.98]), QuantileLoss(quantiles=[0.02, 0.1, 0.25, 0.5, 0.75, 0.9, 0.98]), QuantileLoss(quantiles=[0.02, 0.1, 0.25, 0.5, 0.75, 0.9, 0.98]), QuantileLoss(quantiles=[0.02, 0.1, 0.25, 0.5, 0.75, 0.9, 0.98]), QuantileLoss(quantiles=[0.02, 0.1, 0.25, 0.5, 0.75, 0.9, 0.98]), QuantileLoss(quantiles=[0.02, 0.1, 0.25, 0.5, 0.75, 0.9, 0.98]), QuantileLoss(quantiles=[0.02, 0.1, 0.25, 0.5, 0.75, 0.9, 0.98]), QuantileLoss(quantiles=[0.02, 0.1, 0.25, 0.5, 0.75, 0.9, 0.98]), QuantileLoss(quantiles=[0.02, 0.1, 0.25, 0.5, 0.75, 0.9, 0.98]))\n",
       "  \t\"lstm_layers\":                       1\n",
       "  \t\"max_encoder_length\":                60\n",
       "  \t\"monotone_constaints\":               {}\n",
       "  \t\"optimizer\":                         Ranger\n",
       "  \t\"optimizer_params\":                  None\n",
       "  \t\"output_size\":                       [7, 7, 7, 7, 7, 7, 7, 7, 7, 7, 7, 7, 7, 7, 7, 7, 7, 7, 7, 7, 7, 7]\n",
       "  \t\"output_transformer\":                MultiNormalizer(\n",
       "  \t\tnormalizers=[EncoderNormalizer(\n",
       "  \t\tmethod='standard',\n",
       "  \t\tcenter=True,\n",
       "  \t\tmax_length=None,\n",
       "  \t\ttransformation=None,\n",
       "  \t\tmethod_kwargs={}\n",
       "  \t), EncoderNormalizer(\n",
       "  \t\tmethod='standard',\n",
       "  \t\tcenter=True,\n",
       "  \t\tmax_length=None,\n",
       "  \t\ttransformation=None,\n",
       "  \t\tmethod_kwargs={}\n",
       "  \t), EncoderNormalizer(\n",
       "  \t\tmethod='standard',\n",
       "  \t\tcenter=True,\n",
       "  \t\tmax_length=None,\n",
       "  \t\ttransformation=None,\n",
       "  \t\tmethod_kwargs={}\n",
       "  \t), EncoderNormalizer(\n",
       "  \t\tmethod='standard',\n",
       "  \t\tcenter=True,\n",
       "  \t\tmax_length=None,\n",
       "  \t\ttransformation=None,\n",
       "  \t\tmethod_kwargs={}\n",
       "  \t), EncoderNormalizer(\n",
       "  \t\tmethod='standard',\n",
       "  \t\tcenter=True,\n",
       "  \t\tmax_length=None,\n",
       "  \t\ttransformation=None,\n",
       "  \t\tmethod_kwargs={}\n",
       "  \t), EncoderNormalizer(\n",
       "  \t\tmethod='standard',\n",
       "  \t\tcenter=True,\n",
       "  \t\tmax_length=None,\n",
       "  \t\ttransformation=None,\n",
       "  \t\tmethod_kwargs={}\n",
       "  \t), EncoderNormalizer(\n",
       "  \t\tmethod='standard',\n",
       "  \t\tcenter=True,\n",
       "  \t\tmax_length=None,\n",
       "  \t\ttransformation=None,\n",
       "  \t\tmethod_kwargs={}\n",
       "  \t), EncoderNormalizer(\n",
       "  \t\tmethod='standard',\n",
       "  \t\tcenter=True,\n",
       "  \t\tmax_length=None,\n",
       "  \t\ttransformation=None,\n",
       "  \t\tmethod_kwargs={}\n",
       "  \t), EncoderNormalizer(\n",
       "  \t\tmethod='standard',\n",
       "  \t\tcenter=True,\n",
       "  \t\tmax_length=None,\n",
       "  \t\ttransformation=None,\n",
       "  \t\tmethod_kwargs={}\n",
       "  \t), EncoderNormalizer(\n",
       "  \t\tmethod='standard',\n",
       "  \t\tcenter=True,\n",
       "  \t\tmax_length=None,\n",
       "  \t\ttransformation=None,\n",
       "  \t\tmethod_kwargs={}\n",
       "  \t), EncoderNormalizer(\n",
       "  \t\tmethod='standard',\n",
       "  \t\tcenter=True,\n",
       "  \t\tmax_length=None,\n",
       "  \t\ttransformation=None,\n",
       "  \t\tmethod_kwargs={}\n",
       "  \t), EncoderNormalizer(\n",
       "  \t\tmethod='standard',\n",
       "  \t\tcenter=True,\n",
       "  \t\tmax_length=None,\n",
       "  \t\ttransformation=None,\n",
       "  \t\tmethod_kwargs={}\n",
       "  \t), EncoderNormalizer(\n",
       "  \t\tmethod='standard',\n",
       "  \t\tcenter=True,\n",
       "  \t\tmax_length=None,\n",
       "  \t\ttransformation=None,\n",
       "  \t\tmethod_kwargs={}\n",
       "  \t), EncoderNormalizer(\n",
       "  \t\tmethod='standard',\n",
       "  \t\tcenter=True,\n",
       "  \t\tmax_length=None,\n",
       "  \t\ttransformation=None,\n",
       "  \t\tmethod_kwargs={}\n",
       "  \t), EncoderNormalizer(\n",
       "  \t\tmethod='standard',\n",
       "  \t\tcenter=True,\n",
       "  \t\tmax_length=None,\n",
       "  \t\ttransformation=None,\n",
       "  \t\tmethod_kwargs={}\n",
       "  \t), EncoderNormalizer(\n",
       "  \t\tmethod='standard',\n",
       "  \t\tcenter=True,\n",
       "  \t\tmax_length=None,\n",
       "  \t\ttransformation=None,\n",
       "  \t\tmethod_kwargs={}\n",
       "  \t), EncoderNormalizer(\n",
       "  \t\tmethod='standard',\n",
       "  \t\tcenter=True,\n",
       "  \t\tmax_length=None,\n",
       "  \t\ttransformation=None,\n",
       "  \t\tmethod_kwargs={}\n",
       "  \t), EncoderNormalizer(\n",
       "  \t\tmethod='standard',\n",
       "  \t\tcenter=True,\n",
       "  \t\tmax_length=None,\n",
       "  \t\ttransformation=None,\n",
       "  \t\tmethod_kwargs={}\n",
       "  \t), EncoderNormalizer(\n",
       "  \t\tmethod='standard',\n",
       "  \t\tcenter=True,\n",
       "  \t\tmax_length=None,\n",
       "  \t\ttransformation=None,\n",
       "  \t\tmethod_kwargs={}\n",
       "  \t), EncoderNormalizer(\n",
       "  \t\tmethod='standard',\n",
       "  \t\tcenter=True,\n",
       "  \t\tmax_length=None,\n",
       "  \t\ttransformation=None,\n",
       "  \t\tmethod_kwargs={}\n",
       "  \t), EncoderNormalizer(\n",
       "  \t\tmethod='standard',\n",
       "  \t\tcenter=True,\n",
       "  \t\tmax_length=None,\n",
       "  \t\ttransformation=None,\n",
       "  \t\tmethod_kwargs={}\n",
       "  \t), EncoderNormalizer(\n",
       "  \t\tmethod='standard',\n",
       "  \t\tcenter=True,\n",
       "  \t\tmax_length=None,\n",
       "  \t\ttransformation=None,\n",
       "  \t\tmethod_kwargs={}\n",
       "  \t)]\n",
       "  \t)\n",
       "  \t\"reduce_on_plateau_min_lr\":          1e-05\n",
       "  \t\"reduce_on_plateau_patience\":        4\n",
       "  \t\"reduce_on_plateau_reduction\":       2.0\n",
       "  \t\"share_single_variable_networks\":    False\n",
       "  \t\"static_categoricals\":               []\n",
       "  \t\"static_reals\":                      ['group', 'encoder_length', 'adservice_cpu_center', 'adservice_cpu_scale', 'adservice_ram_center', 'adservice_ram_scale', 'cartservice_cpu_center', 'cartservice_cpu_scale', 'cartservice_ram_center', 'cartservice_ram_scale', 'checkoutservice_cpu_center', 'checkoutservice_cpu_scale', 'checkoutservice_ram_center', 'checkoutservice_ram_scale', 'currencyservice_cpu_center', 'currencyservice_cpu_scale', 'currencyservice_ram_center', 'currencyservice_ram_scale', 'emailservice_cpu_center', 'emailservice_cpu_scale', 'emailservice_ram_center', 'emailservice_ram_scale', 'frontend_cpu_center', 'frontend_cpu_scale', 'frontend_ram_center', 'frontend_ram_scale', 'paymentservice_cpu_center', 'paymentservice_cpu_scale', 'paymentservice_ram_center', 'paymentservice_ram_scale', 'productcatalogservice_cpu_center', 'productcatalogservice_cpu_scale', 'productcatalogservice_ram_center', 'productcatalogservice_ram_scale', 'recommendationservice_cpu_center', 'recommendationservice_cpu_scale', 'recommendationservice_ram_center', 'recommendationservice_ram_scale', 'redis_cpu_center', 'redis_cpu_scale', 'redis_ram_center', 'redis_ram_scale', 'shippingservice_cpu_center', 'shippingservice_cpu_scale', 'shippingservice_ram_center', 'shippingservice_ram_scale']\n",
       "  \t\"time_varying_categoricals_decoder\": []\n",
       "  \t\"time_varying_categoricals_encoder\": []\n",
       "  \t\"time_varying_reals_decoder\":        ['timestamp', 'time_idx', 'relative_time_idx']\n",
       "  \t\"time_varying_reals_encoder\":        ['timestamp', 'time_idx', 'relative_time_idx', 'adservice_cpu', 'adservice_ram', 'cartservice_cpu', 'cartservice_ram', 'checkoutservice_cpu', 'checkoutservice_ram', 'currencyservice_cpu', 'currencyservice_ram', 'emailservice_cpu', 'emailservice_ram', 'frontend_cpu', 'frontend_ram', 'paymentservice_cpu', 'paymentservice_ram', 'productcatalogservice_cpu', 'productcatalogservice_ram', 'recommendationservice_cpu', 'recommendationservice_ram', 'redis_cpu', 'redis_ram', 'shippingservice_cpu', 'shippingservice_ram']\n",
       "  \t\"weight_decay\":                      0.0\n",
       "  \t\"x_categoricals\":                    []\n",
       "  \t\"x_reals\":                           ['group', 'encoder_length', 'adservice_cpu_center', 'adservice_cpu_scale', 'adservice_ram_center', 'adservice_ram_scale', 'cartservice_cpu_center', 'cartservice_cpu_scale', 'cartservice_ram_center', 'cartservice_ram_scale', 'checkoutservice_cpu_center', 'checkoutservice_cpu_scale', 'checkoutservice_ram_center', 'checkoutservice_ram_scale', 'currencyservice_cpu_center', 'currencyservice_cpu_scale', 'currencyservice_ram_center', 'currencyservice_ram_scale', 'emailservice_cpu_center', 'emailservice_cpu_scale', 'emailservice_ram_center', 'emailservice_ram_scale', 'frontend_cpu_center', 'frontend_cpu_scale', 'frontend_ram_center', 'frontend_ram_scale', 'paymentservice_cpu_center', 'paymentservice_cpu_scale', 'paymentservice_ram_center', 'paymentservice_ram_scale', 'productcatalogservice_cpu_center', 'productcatalogservice_cpu_scale', 'productcatalogservice_ram_center', 'productcatalogservice_ram_scale', 'recommendationservice_cpu_center', 'recommendationservice_cpu_scale', 'recommendationservice_ram_center', 'recommendationservice_ram_scale', 'redis_cpu_center', 'redis_cpu_scale', 'redis_ram_center', 'redis_ram_scale', 'shippingservice_cpu_center', 'shippingservice_cpu_scale', 'shippingservice_ram_center', 'shippingservice_ram_scale', 'timestamp', 'time_idx', 'relative_time_idx', 'adservice_cpu', 'adservice_ram', 'cartservice_cpu', 'cartservice_ram', 'checkoutservice_cpu', 'checkoutservice_ram', 'currencyservice_cpu', 'currencyservice_ram', 'emailservice_cpu', 'emailservice_ram', 'frontend_cpu', 'frontend_ram', 'paymentservice_cpu', 'paymentservice_ram', 'productcatalogservice_cpu', 'productcatalogservice_ram', 'recommendationservice_cpu', 'recommendationservice_ram', 'redis_cpu', 'redis_ram', 'shippingservice_cpu', 'shippingservice_ram']\n",
       "  (loss): MultiLoss(QuantileLoss(quantiles=[0.02, 0.1, 0.25, 0.5, 0.75, 0.9, 0.98]), QuantileLoss(quantiles=[0.02, 0.1, 0.25, 0.5, 0.75, 0.9, 0.98]), QuantileLoss(quantiles=[0.02, 0.1, 0.25, 0.5, 0.75, 0.9, 0.98]), QuantileLoss(quantiles=[0.02, 0.1, 0.25, 0.5, 0.75, 0.9, 0.98]), QuantileLoss(quantiles=[0.02, 0.1, 0.25, 0.5, 0.75, 0.9, 0.98]), QuantileLoss(quantiles=[0.02, 0.1, 0.25, 0.5, 0.75, 0.9, 0.98]), QuantileLoss(quantiles=[0.02, 0.1, 0.25, 0.5, 0.75, 0.9, 0.98]), QuantileLoss(quantiles=[0.02, 0.1, 0.25, 0.5, 0.75, 0.9, 0.98]), QuantileLoss(quantiles=[0.02, 0.1, 0.25, 0.5, 0.75, 0.9, 0.98]), QuantileLoss(quantiles=[0.02, 0.1, 0.25, 0.5, 0.75, 0.9, 0.98]), QuantileLoss(quantiles=[0.02, 0.1, 0.25, 0.5, 0.75, 0.9, 0.98]), QuantileLoss(quantiles=[0.02, 0.1, 0.25, 0.5, 0.75, 0.9, 0.98]), QuantileLoss(quantiles=[0.02, 0.1, 0.25, 0.5, 0.75, 0.9, 0.98]), QuantileLoss(quantiles=[0.02, 0.1, 0.25, 0.5, 0.75, 0.9, 0.98]), QuantileLoss(quantiles=[0.02, 0.1, 0.25, 0.5, 0.75, 0.9, 0.98]), QuantileLoss(quantiles=[0.02, 0.1, 0.25, 0.5, 0.75, 0.9, 0.98]), QuantileLoss(quantiles=[0.02, 0.1, 0.25, 0.5, 0.75, 0.9, 0.98]), QuantileLoss(quantiles=[0.02, 0.1, 0.25, 0.5, 0.75, 0.9, 0.98]), QuantileLoss(quantiles=[0.02, 0.1, 0.25, 0.5, 0.75, 0.9, 0.98]), QuantileLoss(quantiles=[0.02, 0.1, 0.25, 0.5, 0.75, 0.9, 0.98]), QuantileLoss(quantiles=[0.02, 0.1, 0.25, 0.5, 0.75, 0.9, 0.98]), QuantileLoss(quantiles=[0.02, 0.1, 0.25, 0.5, 0.75, 0.9, 0.98]))\n",
       "  (logging_metrics): ModuleList(\n",
       "    (0): SMAPE()\n",
       "    (1): MAE()\n",
       "    (2): RMSE()\n",
       "    (3): MAPE()\n",
       "  )\n",
       "  (input_embeddings): MultiEmbedding(\n",
       "    (embeddings): ModuleDict()\n",
       "  )\n",
       "  (prescalers): ModuleDict(\n",
       "    (group): Linear(in_features=1, out_features=8, bias=True)\n",
       "    (encoder_length): Linear(in_features=1, out_features=8, bias=True)\n",
       "    (adservice_cpu_center): Linear(in_features=1, out_features=8, bias=True)\n",
       "    (adservice_cpu_scale): Linear(in_features=1, out_features=8, bias=True)\n",
       "    (adservice_ram_center): Linear(in_features=1, out_features=8, bias=True)\n",
       "    (adservice_ram_scale): Linear(in_features=1, out_features=8, bias=True)\n",
       "    (cartservice_cpu_center): Linear(in_features=1, out_features=8, bias=True)\n",
       "    (cartservice_cpu_scale): Linear(in_features=1, out_features=8, bias=True)\n",
       "    (cartservice_ram_center): Linear(in_features=1, out_features=8, bias=True)\n",
       "    (cartservice_ram_scale): Linear(in_features=1, out_features=8, bias=True)\n",
       "    (checkoutservice_cpu_center): Linear(in_features=1, out_features=8, bias=True)\n",
       "    (checkoutservice_cpu_scale): Linear(in_features=1, out_features=8, bias=True)\n",
       "    (checkoutservice_ram_center): Linear(in_features=1, out_features=8, bias=True)\n",
       "    (checkoutservice_ram_scale): Linear(in_features=1, out_features=8, bias=True)\n",
       "    (currencyservice_cpu_center): Linear(in_features=1, out_features=8, bias=True)\n",
       "    (currencyservice_cpu_scale): Linear(in_features=1, out_features=8, bias=True)\n",
       "    (currencyservice_ram_center): Linear(in_features=1, out_features=8, bias=True)\n",
       "    (currencyservice_ram_scale): Linear(in_features=1, out_features=8, bias=True)\n",
       "    (emailservice_cpu_center): Linear(in_features=1, out_features=8, bias=True)\n",
       "    (emailservice_cpu_scale): Linear(in_features=1, out_features=8, bias=True)\n",
       "    (emailservice_ram_center): Linear(in_features=1, out_features=8, bias=True)\n",
       "    (emailservice_ram_scale): Linear(in_features=1, out_features=8, bias=True)\n",
       "    (frontend_cpu_center): Linear(in_features=1, out_features=8, bias=True)\n",
       "    (frontend_cpu_scale): Linear(in_features=1, out_features=8, bias=True)\n",
       "    (frontend_ram_center): Linear(in_features=1, out_features=8, bias=True)\n",
       "    (frontend_ram_scale): Linear(in_features=1, out_features=8, bias=True)\n",
       "    (paymentservice_cpu_center): Linear(in_features=1, out_features=8, bias=True)\n",
       "    (paymentservice_cpu_scale): Linear(in_features=1, out_features=8, bias=True)\n",
       "    (paymentservice_ram_center): Linear(in_features=1, out_features=8, bias=True)\n",
       "    (paymentservice_ram_scale): Linear(in_features=1, out_features=8, bias=True)\n",
       "    (productcatalogservice_cpu_center): Linear(in_features=1, out_features=8, bias=True)\n",
       "    (productcatalogservice_cpu_scale): Linear(in_features=1, out_features=8, bias=True)\n",
       "    (productcatalogservice_ram_center): Linear(in_features=1, out_features=8, bias=True)\n",
       "    (productcatalogservice_ram_scale): Linear(in_features=1, out_features=8, bias=True)\n",
       "    (recommendationservice_cpu_center): Linear(in_features=1, out_features=8, bias=True)\n",
       "    (recommendationservice_cpu_scale): Linear(in_features=1, out_features=8, bias=True)\n",
       "    (recommendationservice_ram_center): Linear(in_features=1, out_features=8, bias=True)\n",
       "    (recommendationservice_ram_scale): Linear(in_features=1, out_features=8, bias=True)\n",
       "    (redis_cpu_center): Linear(in_features=1, out_features=8, bias=True)\n",
       "    (redis_cpu_scale): Linear(in_features=1, out_features=8, bias=True)\n",
       "    (redis_ram_center): Linear(in_features=1, out_features=8, bias=True)\n",
       "    (redis_ram_scale): Linear(in_features=1, out_features=8, bias=True)\n",
       "    (shippingservice_cpu_center): Linear(in_features=1, out_features=8, bias=True)\n",
       "    (shippingservice_cpu_scale): Linear(in_features=1, out_features=8, bias=True)\n",
       "    (shippingservice_ram_center): Linear(in_features=1, out_features=8, bias=True)\n",
       "    (shippingservice_ram_scale): Linear(in_features=1, out_features=8, bias=True)\n",
       "    (timestamp): Linear(in_features=1, out_features=8, bias=True)\n",
       "    (time_idx): Linear(in_features=1, out_features=8, bias=True)\n",
       "    (relative_time_idx): Linear(in_features=1, out_features=8, bias=True)\n",
       "    (adservice_cpu): Linear(in_features=1, out_features=8, bias=True)\n",
       "    (adservice_ram): Linear(in_features=1, out_features=8, bias=True)\n",
       "    (cartservice_cpu): Linear(in_features=1, out_features=8, bias=True)\n",
       "    (cartservice_ram): Linear(in_features=1, out_features=8, bias=True)\n",
       "    (checkoutservice_cpu): Linear(in_features=1, out_features=8, bias=True)\n",
       "    (checkoutservice_ram): Linear(in_features=1, out_features=8, bias=True)\n",
       "    (currencyservice_cpu): Linear(in_features=1, out_features=8, bias=True)\n",
       "    (currencyservice_ram): Linear(in_features=1, out_features=8, bias=True)\n",
       "    (emailservice_cpu): Linear(in_features=1, out_features=8, bias=True)\n",
       "    (emailservice_ram): Linear(in_features=1, out_features=8, bias=True)\n",
       "    (frontend_cpu): Linear(in_features=1, out_features=8, bias=True)\n",
       "    (frontend_ram): Linear(in_features=1, out_features=8, bias=True)\n",
       "    (paymentservice_cpu): Linear(in_features=1, out_features=8, bias=True)\n",
       "    (paymentservice_ram): Linear(in_features=1, out_features=8, bias=True)\n",
       "    (productcatalogservice_cpu): Linear(in_features=1, out_features=8, bias=True)\n",
       "    (productcatalogservice_ram): Linear(in_features=1, out_features=8, bias=True)\n",
       "    (recommendationservice_cpu): Linear(in_features=1, out_features=8, bias=True)\n",
       "    (recommendationservice_ram): Linear(in_features=1, out_features=8, bias=True)\n",
       "    (redis_cpu): Linear(in_features=1, out_features=8, bias=True)\n",
       "    (redis_ram): Linear(in_features=1, out_features=8, bias=True)\n",
       "    (shippingservice_cpu): Linear(in_features=1, out_features=8, bias=True)\n",
       "    (shippingservice_ram): Linear(in_features=1, out_features=8, bias=True)\n",
       "  )\n",
       "  (static_variable_selection): VariableSelectionNetwork(\n",
       "    (flattened_grn): GatedResidualNetwork(\n",
       "      (resample_norm): ResampleNorm(\n",
       "        (resample): TimeDistributedInterpolation()\n",
       "        (gate): Sigmoid()\n",
       "        (norm): LayerNorm((46,), eps=1e-05, elementwise_affine=True)\n",
       "      )\n",
       "      (fc1): Linear(in_features=368, out_features=16, bias=True)\n",
       "      (elu): ELU(alpha=1.0)\n",
       "      (fc2): Linear(in_features=16, out_features=16, bias=True)\n",
       "      (gate_norm): GateAddNorm(\n",
       "        (glu): GatedLinearUnit(\n",
       "          (dropout): Dropout(p=0.1, inplace=False)\n",
       "          (fc): Linear(in_features=16, out_features=92, bias=True)\n",
       "        )\n",
       "        (add_norm): AddNorm(\n",
       "          (norm): LayerNorm((46,), eps=1e-05, elementwise_affine=True)\n",
       "        )\n",
       "      )\n",
       "    )\n",
       "    (single_variable_grns): ModuleDict(\n",
       "      (group): GatedResidualNetwork(\n",
       "        (resample_norm): ResampleNorm(\n",
       "          (resample): TimeDistributedInterpolation()\n",
       "          (gate): Sigmoid()\n",
       "          (norm): LayerNorm((16,), eps=1e-05, elementwise_affine=True)\n",
       "        )\n",
       "        (fc1): Linear(in_features=8, out_features=8, bias=True)\n",
       "        (elu): ELU(alpha=1.0)\n",
       "        (fc2): Linear(in_features=8, out_features=8, bias=True)\n",
       "        (gate_norm): GateAddNorm(\n",
       "          (glu): GatedLinearUnit(\n",
       "            (dropout): Dropout(p=0.1, inplace=False)\n",
       "            (fc): Linear(in_features=8, out_features=32, bias=True)\n",
       "          )\n",
       "          (add_norm): AddNorm(\n",
       "            (norm): LayerNorm((16,), eps=1e-05, elementwise_affine=True)\n",
       "          )\n",
       "        )\n",
       "      )\n",
       "      (encoder_length): GatedResidualNetwork(\n",
       "        (resample_norm): ResampleNorm(\n",
       "          (resample): TimeDistributedInterpolation()\n",
       "          (gate): Sigmoid()\n",
       "          (norm): LayerNorm((16,), eps=1e-05, elementwise_affine=True)\n",
       "        )\n",
       "        (fc1): Linear(in_features=8, out_features=8, bias=True)\n",
       "        (elu): ELU(alpha=1.0)\n",
       "        (fc2): Linear(in_features=8, out_features=8, bias=True)\n",
       "        (gate_norm): GateAddNorm(\n",
       "          (glu): GatedLinearUnit(\n",
       "            (dropout): Dropout(p=0.1, inplace=False)\n",
       "            (fc): Linear(in_features=8, out_features=32, bias=True)\n",
       "          )\n",
       "          (add_norm): AddNorm(\n",
       "            (norm): LayerNorm((16,), eps=1e-05, elementwise_affine=True)\n",
       "          )\n",
       "        )\n",
       "      )\n",
       "      (adservice_cpu_center): GatedResidualNetwork(\n",
       "        (resample_norm): ResampleNorm(\n",
       "          (resample): TimeDistributedInterpolation()\n",
       "          (gate): Sigmoid()\n",
       "          (norm): LayerNorm((16,), eps=1e-05, elementwise_affine=True)\n",
       "        )\n",
       "        (fc1): Linear(in_features=8, out_features=8, bias=True)\n",
       "        (elu): ELU(alpha=1.0)\n",
       "        (fc2): Linear(in_features=8, out_features=8, bias=True)\n",
       "        (gate_norm): GateAddNorm(\n",
       "          (glu): GatedLinearUnit(\n",
       "            (dropout): Dropout(p=0.1, inplace=False)\n",
       "            (fc): Linear(in_features=8, out_features=32, bias=True)\n",
       "          )\n",
       "          (add_norm): AddNorm(\n",
       "            (norm): LayerNorm((16,), eps=1e-05, elementwise_affine=True)\n",
       "          )\n",
       "        )\n",
       "      )\n",
       "      (adservice_cpu_scale): GatedResidualNetwork(\n",
       "        (resample_norm): ResampleNorm(\n",
       "          (resample): TimeDistributedInterpolation()\n",
       "          (gate): Sigmoid()\n",
       "          (norm): LayerNorm((16,), eps=1e-05, elementwise_affine=True)\n",
       "        )\n",
       "        (fc1): Linear(in_features=8, out_features=8, bias=True)\n",
       "        (elu): ELU(alpha=1.0)\n",
       "        (fc2): Linear(in_features=8, out_features=8, bias=True)\n",
       "        (gate_norm): GateAddNorm(\n",
       "          (glu): GatedLinearUnit(\n",
       "            (dropout): Dropout(p=0.1, inplace=False)\n",
       "            (fc): Linear(in_features=8, out_features=32, bias=True)\n",
       "          )\n",
       "          (add_norm): AddNorm(\n",
       "            (norm): LayerNorm((16,), eps=1e-05, elementwise_affine=True)\n",
       "          )\n",
       "        )\n",
       "      )\n",
       "      (adservice_ram_center): GatedResidualNetwork(\n",
       "        (resample_norm): ResampleNorm(\n",
       "          (resample): TimeDistributedInterpolation()\n",
       "          (gate): Sigmoid()\n",
       "          (norm): LayerNorm((16,), eps=1e-05, elementwise_affine=True)\n",
       "        )\n",
       "        (fc1): Linear(in_features=8, out_features=8, bias=True)\n",
       "        (elu): ELU(alpha=1.0)\n",
       "        (fc2): Linear(in_features=8, out_features=8, bias=True)\n",
       "        (gate_norm): GateAddNorm(\n",
       "          (glu): GatedLinearUnit(\n",
       "            (dropout): Dropout(p=0.1, inplace=False)\n",
       "            (fc): Linear(in_features=8, out_features=32, bias=True)\n",
       "          )\n",
       "          (add_norm): AddNorm(\n",
       "            (norm): LayerNorm((16,), eps=1e-05, elementwise_affine=True)\n",
       "          )\n",
       "        )\n",
       "      )\n",
       "      (adservice_ram_scale): GatedResidualNetwork(\n",
       "        (resample_norm): ResampleNorm(\n",
       "          (resample): TimeDistributedInterpolation()\n",
       "          (gate): Sigmoid()\n",
       "          (norm): LayerNorm((16,), eps=1e-05, elementwise_affine=True)\n",
       "        )\n",
       "        (fc1): Linear(in_features=8, out_features=8, bias=True)\n",
       "        (elu): ELU(alpha=1.0)\n",
       "        (fc2): Linear(in_features=8, out_features=8, bias=True)\n",
       "        (gate_norm): GateAddNorm(\n",
       "          (glu): GatedLinearUnit(\n",
       "            (dropout): Dropout(p=0.1, inplace=False)\n",
       "            (fc): Linear(in_features=8, out_features=32, bias=True)\n",
       "          )\n",
       "          (add_norm): AddNorm(\n",
       "            (norm): LayerNorm((16,), eps=1e-05, elementwise_affine=True)\n",
       "          )\n",
       "        )\n",
       "      )\n",
       "      (cartservice_cpu_center): GatedResidualNetwork(\n",
       "        (resample_norm): ResampleNorm(\n",
       "          (resample): TimeDistributedInterpolation()\n",
       "          (gate): Sigmoid()\n",
       "          (norm): LayerNorm((16,), eps=1e-05, elementwise_affine=True)\n",
       "        )\n",
       "        (fc1): Linear(in_features=8, out_features=8, bias=True)\n",
       "        (elu): ELU(alpha=1.0)\n",
       "        (fc2): Linear(in_features=8, out_features=8, bias=True)\n",
       "        (gate_norm): GateAddNorm(\n",
       "          (glu): GatedLinearUnit(\n",
       "            (dropout): Dropout(p=0.1, inplace=False)\n",
       "            (fc): Linear(in_features=8, out_features=32, bias=True)\n",
       "          )\n",
       "          (add_norm): AddNorm(\n",
       "            (norm): LayerNorm((16,), eps=1e-05, elementwise_affine=True)\n",
       "          )\n",
       "        )\n",
       "      )\n",
       "      (cartservice_cpu_scale): GatedResidualNetwork(\n",
       "        (resample_norm): ResampleNorm(\n",
       "          (resample): TimeDistributedInterpolation()\n",
       "          (gate): Sigmoid()\n",
       "          (norm): LayerNorm((16,), eps=1e-05, elementwise_affine=True)\n",
       "        )\n",
       "        (fc1): Linear(in_features=8, out_features=8, bias=True)\n",
       "        (elu): ELU(alpha=1.0)\n",
       "        (fc2): Linear(in_features=8, out_features=8, bias=True)\n",
       "        (gate_norm): GateAddNorm(\n",
       "          (glu): GatedLinearUnit(\n",
       "            (dropout): Dropout(p=0.1, inplace=False)\n",
       "            (fc): Linear(in_features=8, out_features=32, bias=True)\n",
       "          )\n",
       "          (add_norm): AddNorm(\n",
       "            (norm): LayerNorm((16,), eps=1e-05, elementwise_affine=True)\n",
       "          )\n",
       "        )\n",
       "      )\n",
       "      (cartservice_ram_center): GatedResidualNetwork(\n",
       "        (resample_norm): ResampleNorm(\n",
       "          (resample): TimeDistributedInterpolation()\n",
       "          (gate): Sigmoid()\n",
       "          (norm): LayerNorm((16,), eps=1e-05, elementwise_affine=True)\n",
       "        )\n",
       "        (fc1): Linear(in_features=8, out_features=8, bias=True)\n",
       "        (elu): ELU(alpha=1.0)\n",
       "        (fc2): Linear(in_features=8, out_features=8, bias=True)\n",
       "        (gate_norm): GateAddNorm(\n",
       "          (glu): GatedLinearUnit(\n",
       "            (dropout): Dropout(p=0.1, inplace=False)\n",
       "            (fc): Linear(in_features=8, out_features=32, bias=True)\n",
       "          )\n",
       "          (add_norm): AddNorm(\n",
       "            (norm): LayerNorm((16,), eps=1e-05, elementwise_affine=True)\n",
       "          )\n",
       "        )\n",
       "      )\n",
       "      (cartservice_ram_scale): GatedResidualNetwork(\n",
       "        (resample_norm): ResampleNorm(\n",
       "          (resample): TimeDistributedInterpolation()\n",
       "          (gate): Sigmoid()\n",
       "          (norm): LayerNorm((16,), eps=1e-05, elementwise_affine=True)\n",
       "        )\n",
       "        (fc1): Linear(in_features=8, out_features=8, bias=True)\n",
       "        (elu): ELU(alpha=1.0)\n",
       "        (fc2): Linear(in_features=8, out_features=8, bias=True)\n",
       "        (gate_norm): GateAddNorm(\n",
       "          (glu): GatedLinearUnit(\n",
       "            (dropout): Dropout(p=0.1, inplace=False)\n",
       "            (fc): Linear(in_features=8, out_features=32, bias=True)\n",
       "          )\n",
       "          (add_norm): AddNorm(\n",
       "            (norm): LayerNorm((16,), eps=1e-05, elementwise_affine=True)\n",
       "          )\n",
       "        )\n",
       "      )\n",
       "      (checkoutservice_cpu_center): GatedResidualNetwork(\n",
       "        (resample_norm): ResampleNorm(\n",
       "          (resample): TimeDistributedInterpolation()\n",
       "          (gate): Sigmoid()\n",
       "          (norm): LayerNorm((16,), eps=1e-05, elementwise_affine=True)\n",
       "        )\n",
       "        (fc1): Linear(in_features=8, out_features=8, bias=True)\n",
       "        (elu): ELU(alpha=1.0)\n",
       "        (fc2): Linear(in_features=8, out_features=8, bias=True)\n",
       "        (gate_norm): GateAddNorm(\n",
       "          (glu): GatedLinearUnit(\n",
       "            (dropout): Dropout(p=0.1, inplace=False)\n",
       "            (fc): Linear(in_features=8, out_features=32, bias=True)\n",
       "          )\n",
       "          (add_norm): AddNorm(\n",
       "            (norm): LayerNorm((16,), eps=1e-05, elementwise_affine=True)\n",
       "          )\n",
       "        )\n",
       "      )\n",
       "      (checkoutservice_cpu_scale): GatedResidualNetwork(\n",
       "        (resample_norm): ResampleNorm(\n",
       "          (resample): TimeDistributedInterpolation()\n",
       "          (gate): Sigmoid()\n",
       "          (norm): LayerNorm((16,), eps=1e-05, elementwise_affine=True)\n",
       "        )\n",
       "        (fc1): Linear(in_features=8, out_features=8, bias=True)\n",
       "        (elu): ELU(alpha=1.0)\n",
       "        (fc2): Linear(in_features=8, out_features=8, bias=True)\n",
       "        (gate_norm): GateAddNorm(\n",
       "          (glu): GatedLinearUnit(\n",
       "            (dropout): Dropout(p=0.1, inplace=False)\n",
       "            (fc): Linear(in_features=8, out_features=32, bias=True)\n",
       "          )\n",
       "          (add_norm): AddNorm(\n",
       "            (norm): LayerNorm((16,), eps=1e-05, elementwise_affine=True)\n",
       "          )\n",
       "        )\n",
       "      )\n",
       "      (checkoutservice_ram_center): GatedResidualNetwork(\n",
       "        (resample_norm): ResampleNorm(\n",
       "          (resample): TimeDistributedInterpolation()\n",
       "          (gate): Sigmoid()\n",
       "          (norm): LayerNorm((16,), eps=1e-05, elementwise_affine=True)\n",
       "        )\n",
       "        (fc1): Linear(in_features=8, out_features=8, bias=True)\n",
       "        (elu): ELU(alpha=1.0)\n",
       "        (fc2): Linear(in_features=8, out_features=8, bias=True)\n",
       "        (gate_norm): GateAddNorm(\n",
       "          (glu): GatedLinearUnit(\n",
       "            (dropout): Dropout(p=0.1, inplace=False)\n",
       "            (fc): Linear(in_features=8, out_features=32, bias=True)\n",
       "          )\n",
       "          (add_norm): AddNorm(\n",
       "            (norm): LayerNorm((16,), eps=1e-05, elementwise_affine=True)\n",
       "          )\n",
       "        )\n",
       "      )\n",
       "      (checkoutservice_ram_scale): GatedResidualNetwork(\n",
       "        (resample_norm): ResampleNorm(\n",
       "          (resample): TimeDistributedInterpolation()\n",
       "          (gate): Sigmoid()\n",
       "          (norm): LayerNorm((16,), eps=1e-05, elementwise_affine=True)\n",
       "        )\n",
       "        (fc1): Linear(in_features=8, out_features=8, bias=True)\n",
       "        (elu): ELU(alpha=1.0)\n",
       "        (fc2): Linear(in_features=8, out_features=8, bias=True)\n",
       "        (gate_norm): GateAddNorm(\n",
       "          (glu): GatedLinearUnit(\n",
       "            (dropout): Dropout(p=0.1, inplace=False)\n",
       "            (fc): Linear(in_features=8, out_features=32, bias=True)\n",
       "          )\n",
       "          (add_norm): AddNorm(\n",
       "            (norm): LayerNorm((16,), eps=1e-05, elementwise_affine=True)\n",
       "          )\n",
       "        )\n",
       "      )\n",
       "      (currencyservice_cpu_center): GatedResidualNetwork(\n",
       "        (resample_norm): ResampleNorm(\n",
       "          (resample): TimeDistributedInterpolation()\n",
       "          (gate): Sigmoid()\n",
       "          (norm): LayerNorm((16,), eps=1e-05, elementwise_affine=True)\n",
       "        )\n",
       "        (fc1): Linear(in_features=8, out_features=8, bias=True)\n",
       "        (elu): ELU(alpha=1.0)\n",
       "        (fc2): Linear(in_features=8, out_features=8, bias=True)\n",
       "        (gate_norm): GateAddNorm(\n",
       "          (glu): GatedLinearUnit(\n",
       "            (dropout): Dropout(p=0.1, inplace=False)\n",
       "            (fc): Linear(in_features=8, out_features=32, bias=True)\n",
       "          )\n",
       "          (add_norm): AddNorm(\n",
       "            (norm): LayerNorm((16,), eps=1e-05, elementwise_affine=True)\n",
       "          )\n",
       "        )\n",
       "      )\n",
       "      (currencyservice_cpu_scale): GatedResidualNetwork(\n",
       "        (resample_norm): ResampleNorm(\n",
       "          (resample): TimeDistributedInterpolation()\n",
       "          (gate): Sigmoid()\n",
       "          (norm): LayerNorm((16,), eps=1e-05, elementwise_affine=True)\n",
       "        )\n",
       "        (fc1): Linear(in_features=8, out_features=8, bias=True)\n",
       "        (elu): ELU(alpha=1.0)\n",
       "        (fc2): Linear(in_features=8, out_features=8, bias=True)\n",
       "        (gate_norm): GateAddNorm(\n",
       "          (glu): GatedLinearUnit(\n",
       "            (dropout): Dropout(p=0.1, inplace=False)\n",
       "            (fc): Linear(in_features=8, out_features=32, bias=True)\n",
       "          )\n",
       "          (add_norm): AddNorm(\n",
       "            (norm): LayerNorm((16,), eps=1e-05, elementwise_affine=True)\n",
       "          )\n",
       "        )\n",
       "      )\n",
       "      (currencyservice_ram_center): GatedResidualNetwork(\n",
       "        (resample_norm): ResampleNorm(\n",
       "          (resample): TimeDistributedInterpolation()\n",
       "          (gate): Sigmoid()\n",
       "          (norm): LayerNorm((16,), eps=1e-05, elementwise_affine=True)\n",
       "        )\n",
       "        (fc1): Linear(in_features=8, out_features=8, bias=True)\n",
       "        (elu): ELU(alpha=1.0)\n",
       "        (fc2): Linear(in_features=8, out_features=8, bias=True)\n",
       "        (gate_norm): GateAddNorm(\n",
       "          (glu): GatedLinearUnit(\n",
       "            (dropout): Dropout(p=0.1, inplace=False)\n",
       "            (fc): Linear(in_features=8, out_features=32, bias=True)\n",
       "          )\n",
       "          (add_norm): AddNorm(\n",
       "            (norm): LayerNorm((16,), eps=1e-05, elementwise_affine=True)\n",
       "          )\n",
       "        )\n",
       "      )\n",
       "      (currencyservice_ram_scale): GatedResidualNetwork(\n",
       "        (resample_norm): ResampleNorm(\n",
       "          (resample): TimeDistributedInterpolation()\n",
       "          (gate): Sigmoid()\n",
       "          (norm): LayerNorm((16,), eps=1e-05, elementwise_affine=True)\n",
       "        )\n",
       "        (fc1): Linear(in_features=8, out_features=8, bias=True)\n",
       "        (elu): ELU(alpha=1.0)\n",
       "        (fc2): Linear(in_features=8, out_features=8, bias=True)\n",
       "        (gate_norm): GateAddNorm(\n",
       "          (glu): GatedLinearUnit(\n",
       "            (dropout): Dropout(p=0.1, inplace=False)\n",
       "            (fc): Linear(in_features=8, out_features=32, bias=True)\n",
       "          )\n",
       "          (add_norm): AddNorm(\n",
       "            (norm): LayerNorm((16,), eps=1e-05, elementwise_affine=True)\n",
       "          )\n",
       "        )\n",
       "      )\n",
       "      (emailservice_cpu_center): GatedResidualNetwork(\n",
       "        (resample_norm): ResampleNorm(\n",
       "          (resample): TimeDistributedInterpolation()\n",
       "          (gate): Sigmoid()\n",
       "          (norm): LayerNorm((16,), eps=1e-05, elementwise_affine=True)\n",
       "        )\n",
       "        (fc1): Linear(in_features=8, out_features=8, bias=True)\n",
       "        (elu): ELU(alpha=1.0)\n",
       "        (fc2): Linear(in_features=8, out_features=8, bias=True)\n",
       "        (gate_norm): GateAddNorm(\n",
       "          (glu): GatedLinearUnit(\n",
       "            (dropout): Dropout(p=0.1, inplace=False)\n",
       "            (fc): Linear(in_features=8, out_features=32, bias=True)\n",
       "          )\n",
       "          (add_norm): AddNorm(\n",
       "            (norm): LayerNorm((16,), eps=1e-05, elementwise_affine=True)\n",
       "          )\n",
       "        )\n",
       "      )\n",
       "      (emailservice_cpu_scale): GatedResidualNetwork(\n",
       "        (resample_norm): ResampleNorm(\n",
       "          (resample): TimeDistributedInterpolation()\n",
       "          (gate): Sigmoid()\n",
       "          (norm): LayerNorm((16,), eps=1e-05, elementwise_affine=True)\n",
       "        )\n",
       "        (fc1): Linear(in_features=8, out_features=8, bias=True)\n",
       "        (elu): ELU(alpha=1.0)\n",
       "        (fc2): Linear(in_features=8, out_features=8, bias=True)\n",
       "        (gate_norm): GateAddNorm(\n",
       "          (glu): GatedLinearUnit(\n",
       "            (dropout): Dropout(p=0.1, inplace=False)\n",
       "            (fc): Linear(in_features=8, out_features=32, bias=True)\n",
       "          )\n",
       "          (add_norm): AddNorm(\n",
       "            (norm): LayerNorm((16,), eps=1e-05, elementwise_affine=True)\n",
       "          )\n",
       "        )\n",
       "      )\n",
       "      (emailservice_ram_center): GatedResidualNetwork(\n",
       "        (resample_norm): ResampleNorm(\n",
       "          (resample): TimeDistributedInterpolation()\n",
       "          (gate): Sigmoid()\n",
       "          (norm): LayerNorm((16,), eps=1e-05, elementwise_affine=True)\n",
       "        )\n",
       "        (fc1): Linear(in_features=8, out_features=8, bias=True)\n",
       "        (elu): ELU(alpha=1.0)\n",
       "        (fc2): Linear(in_features=8, out_features=8, bias=True)\n",
       "        (gate_norm): GateAddNorm(\n",
       "          (glu): GatedLinearUnit(\n",
       "            (dropout): Dropout(p=0.1, inplace=False)\n",
       "            (fc): Linear(in_features=8, out_features=32, bias=True)\n",
       "          )\n",
       "          (add_norm): AddNorm(\n",
       "            (norm): LayerNorm((16,), eps=1e-05, elementwise_affine=True)\n",
       "          )\n",
       "        )\n",
       "      )\n",
       "      (emailservice_ram_scale): GatedResidualNetwork(\n",
       "        (resample_norm): ResampleNorm(\n",
       "          (resample): TimeDistributedInterpolation()\n",
       "          (gate): Sigmoid()\n",
       "          (norm): LayerNorm((16,), eps=1e-05, elementwise_affine=True)\n",
       "        )\n",
       "        (fc1): Linear(in_features=8, out_features=8, bias=True)\n",
       "        (elu): ELU(alpha=1.0)\n",
       "        (fc2): Linear(in_features=8, out_features=8, bias=True)\n",
       "        (gate_norm): GateAddNorm(\n",
       "          (glu): GatedLinearUnit(\n",
       "            (dropout): Dropout(p=0.1, inplace=False)\n",
       "            (fc): Linear(in_features=8, out_features=32, bias=True)\n",
       "          )\n",
       "          (add_norm): AddNorm(\n",
       "            (norm): LayerNorm((16,), eps=1e-05, elementwise_affine=True)\n",
       "          )\n",
       "        )\n",
       "      )\n",
       "      (frontend_cpu_center): GatedResidualNetwork(\n",
       "        (resample_norm): ResampleNorm(\n",
       "          (resample): TimeDistributedInterpolation()\n",
       "          (gate): Sigmoid()\n",
       "          (norm): LayerNorm((16,), eps=1e-05, elementwise_affine=True)\n",
       "        )\n",
       "        (fc1): Linear(in_features=8, out_features=8, bias=True)\n",
       "        (elu): ELU(alpha=1.0)\n",
       "        (fc2): Linear(in_features=8, out_features=8, bias=True)\n",
       "        (gate_norm): GateAddNorm(\n",
       "          (glu): GatedLinearUnit(\n",
       "            (dropout): Dropout(p=0.1, inplace=False)\n",
       "            (fc): Linear(in_features=8, out_features=32, bias=True)\n",
       "          )\n",
       "          (add_norm): AddNorm(\n",
       "            (norm): LayerNorm((16,), eps=1e-05, elementwise_affine=True)\n",
       "          )\n",
       "        )\n",
       "      )\n",
       "      (frontend_cpu_scale): GatedResidualNetwork(\n",
       "        (resample_norm): ResampleNorm(\n",
       "          (resample): TimeDistributedInterpolation()\n",
       "          (gate): Sigmoid()\n",
       "          (norm): LayerNorm((16,), eps=1e-05, elementwise_affine=True)\n",
       "        )\n",
       "        (fc1): Linear(in_features=8, out_features=8, bias=True)\n",
       "        (elu): ELU(alpha=1.0)\n",
       "        (fc2): Linear(in_features=8, out_features=8, bias=True)\n",
       "        (gate_norm): GateAddNorm(\n",
       "          (glu): GatedLinearUnit(\n",
       "            (dropout): Dropout(p=0.1, inplace=False)\n",
       "            (fc): Linear(in_features=8, out_features=32, bias=True)\n",
       "          )\n",
       "          (add_norm): AddNorm(\n",
       "            (norm): LayerNorm((16,), eps=1e-05, elementwise_affine=True)\n",
       "          )\n",
       "        )\n",
       "      )\n",
       "      (frontend_ram_center): GatedResidualNetwork(\n",
       "        (resample_norm): ResampleNorm(\n",
       "          (resample): TimeDistributedInterpolation()\n",
       "          (gate): Sigmoid()\n",
       "          (norm): LayerNorm((16,), eps=1e-05, elementwise_affine=True)\n",
       "        )\n",
       "        (fc1): Linear(in_features=8, out_features=8, bias=True)\n",
       "        (elu): ELU(alpha=1.0)\n",
       "        (fc2): Linear(in_features=8, out_features=8, bias=True)\n",
       "        (gate_norm): GateAddNorm(\n",
       "          (glu): GatedLinearUnit(\n",
       "            (dropout): Dropout(p=0.1, inplace=False)\n",
       "            (fc): Linear(in_features=8, out_features=32, bias=True)\n",
       "          )\n",
       "          (add_norm): AddNorm(\n",
       "            (norm): LayerNorm((16,), eps=1e-05, elementwise_affine=True)\n",
       "          )\n",
       "        )\n",
       "      )\n",
       "      (frontend_ram_scale): GatedResidualNetwork(\n",
       "        (resample_norm): ResampleNorm(\n",
       "          (resample): TimeDistributedInterpolation()\n",
       "          (gate): Sigmoid()\n",
       "          (norm): LayerNorm((16,), eps=1e-05, elementwise_affine=True)\n",
       "        )\n",
       "        (fc1): Linear(in_features=8, out_features=8, bias=True)\n",
       "        (elu): ELU(alpha=1.0)\n",
       "        (fc2): Linear(in_features=8, out_features=8, bias=True)\n",
       "        (gate_norm): GateAddNorm(\n",
       "          (glu): GatedLinearUnit(\n",
       "            (dropout): Dropout(p=0.1, inplace=False)\n",
       "            (fc): Linear(in_features=8, out_features=32, bias=True)\n",
       "          )\n",
       "          (add_norm): AddNorm(\n",
       "            (norm): LayerNorm((16,), eps=1e-05, elementwise_affine=True)\n",
       "          )\n",
       "        )\n",
       "      )\n",
       "      (paymentservice_cpu_center): GatedResidualNetwork(\n",
       "        (resample_norm): ResampleNorm(\n",
       "          (resample): TimeDistributedInterpolation()\n",
       "          (gate): Sigmoid()\n",
       "          (norm): LayerNorm((16,), eps=1e-05, elementwise_affine=True)\n",
       "        )\n",
       "        (fc1): Linear(in_features=8, out_features=8, bias=True)\n",
       "        (elu): ELU(alpha=1.0)\n",
       "        (fc2): Linear(in_features=8, out_features=8, bias=True)\n",
       "        (gate_norm): GateAddNorm(\n",
       "          (glu): GatedLinearUnit(\n",
       "            (dropout): Dropout(p=0.1, inplace=False)\n",
       "            (fc): Linear(in_features=8, out_features=32, bias=True)\n",
       "          )\n",
       "          (add_norm): AddNorm(\n",
       "            (norm): LayerNorm((16,), eps=1e-05, elementwise_affine=True)\n",
       "          )\n",
       "        )\n",
       "      )\n",
       "      (paymentservice_cpu_scale): GatedResidualNetwork(\n",
       "        (resample_norm): ResampleNorm(\n",
       "          (resample): TimeDistributedInterpolation()\n",
       "          (gate): Sigmoid()\n",
       "          (norm): LayerNorm((16,), eps=1e-05, elementwise_affine=True)\n",
       "        )\n",
       "        (fc1): Linear(in_features=8, out_features=8, bias=True)\n",
       "        (elu): ELU(alpha=1.0)\n",
       "        (fc2): Linear(in_features=8, out_features=8, bias=True)\n",
       "        (gate_norm): GateAddNorm(\n",
       "          (glu): GatedLinearUnit(\n",
       "            (dropout): Dropout(p=0.1, inplace=False)\n",
       "            (fc): Linear(in_features=8, out_features=32, bias=True)\n",
       "          )\n",
       "          (add_norm): AddNorm(\n",
       "            (norm): LayerNorm((16,), eps=1e-05, elementwise_affine=True)\n",
       "          )\n",
       "        )\n",
       "      )\n",
       "      (paymentservice_ram_center): GatedResidualNetwork(\n",
       "        (resample_norm): ResampleNorm(\n",
       "          (resample): TimeDistributedInterpolation()\n",
       "          (gate): Sigmoid()\n",
       "          (norm): LayerNorm((16,), eps=1e-05, elementwise_affine=True)\n",
       "        )\n",
       "        (fc1): Linear(in_features=8, out_features=8, bias=True)\n",
       "        (elu): ELU(alpha=1.0)\n",
       "        (fc2): Linear(in_features=8, out_features=8, bias=True)\n",
       "        (gate_norm): GateAddNorm(\n",
       "          (glu): GatedLinearUnit(\n",
       "            (dropout): Dropout(p=0.1, inplace=False)\n",
       "            (fc): Linear(in_features=8, out_features=32, bias=True)\n",
       "          )\n",
       "          (add_norm): AddNorm(\n",
       "            (norm): LayerNorm((16,), eps=1e-05, elementwise_affine=True)\n",
       "          )\n",
       "        )\n",
       "      )\n",
       "      (paymentservice_ram_scale): GatedResidualNetwork(\n",
       "        (resample_norm): ResampleNorm(\n",
       "          (resample): TimeDistributedInterpolation()\n",
       "          (gate): Sigmoid()\n",
       "          (norm): LayerNorm((16,), eps=1e-05, elementwise_affine=True)\n",
       "        )\n",
       "        (fc1): Linear(in_features=8, out_features=8, bias=True)\n",
       "        (elu): ELU(alpha=1.0)\n",
       "        (fc2): Linear(in_features=8, out_features=8, bias=True)\n",
       "        (gate_norm): GateAddNorm(\n",
       "          (glu): GatedLinearUnit(\n",
       "            (dropout): Dropout(p=0.1, inplace=False)\n",
       "            (fc): Linear(in_features=8, out_features=32, bias=True)\n",
       "          )\n",
       "          (add_norm): AddNorm(\n",
       "            (norm): LayerNorm((16,), eps=1e-05, elementwise_affine=True)\n",
       "          )\n",
       "        )\n",
       "      )\n",
       "      (productcatalogservice_cpu_center): GatedResidualNetwork(\n",
       "        (resample_norm): ResampleNorm(\n",
       "          (resample): TimeDistributedInterpolation()\n",
       "          (gate): Sigmoid()\n",
       "          (norm): LayerNorm((16,), eps=1e-05, elementwise_affine=True)\n",
       "        )\n",
       "        (fc1): Linear(in_features=8, out_features=8, bias=True)\n",
       "        (elu): ELU(alpha=1.0)\n",
       "        (fc2): Linear(in_features=8, out_features=8, bias=True)\n",
       "        (gate_norm): GateAddNorm(\n",
       "          (glu): GatedLinearUnit(\n",
       "            (dropout): Dropout(p=0.1, inplace=False)\n",
       "            (fc): Linear(in_features=8, out_features=32, bias=True)\n",
       "          )\n",
       "          (add_norm): AddNorm(\n",
       "            (norm): LayerNorm((16,), eps=1e-05, elementwise_affine=True)\n",
       "          )\n",
       "        )\n",
       "      )\n",
       "      (productcatalogservice_cpu_scale): GatedResidualNetwork(\n",
       "        (resample_norm): ResampleNorm(\n",
       "          (resample): TimeDistributedInterpolation()\n",
       "          (gate): Sigmoid()\n",
       "          (norm): LayerNorm((16,), eps=1e-05, elementwise_affine=True)\n",
       "        )\n",
       "        (fc1): Linear(in_features=8, out_features=8, bias=True)\n",
       "        (elu): ELU(alpha=1.0)\n",
       "        (fc2): Linear(in_features=8, out_features=8, bias=True)\n",
       "        (gate_norm): GateAddNorm(\n",
       "          (glu): GatedLinearUnit(\n",
       "            (dropout): Dropout(p=0.1, inplace=False)\n",
       "            (fc): Linear(in_features=8, out_features=32, bias=True)\n",
       "          )\n",
       "          (add_norm): AddNorm(\n",
       "            (norm): LayerNorm((16,), eps=1e-05, elementwise_affine=True)\n",
       "          )\n",
       "        )\n",
       "      )\n",
       "      (productcatalogservice_ram_center): GatedResidualNetwork(\n",
       "        (resample_norm): ResampleNorm(\n",
       "          (resample): TimeDistributedInterpolation()\n",
       "          (gate): Sigmoid()\n",
       "          (norm): LayerNorm((16,), eps=1e-05, elementwise_affine=True)\n",
       "        )\n",
       "        (fc1): Linear(in_features=8, out_features=8, bias=True)\n",
       "        (elu): ELU(alpha=1.0)\n",
       "        (fc2): Linear(in_features=8, out_features=8, bias=True)\n",
       "        (gate_norm): GateAddNorm(\n",
       "          (glu): GatedLinearUnit(\n",
       "            (dropout): Dropout(p=0.1, inplace=False)\n",
       "            (fc): Linear(in_features=8, out_features=32, bias=True)\n",
       "          )\n",
       "          (add_norm): AddNorm(\n",
       "            (norm): LayerNorm((16,), eps=1e-05, elementwise_affine=True)\n",
       "          )\n",
       "        )\n",
       "      )\n",
       "      (productcatalogservice_ram_scale): GatedResidualNetwork(\n",
       "        (resample_norm): ResampleNorm(\n",
       "          (resample): TimeDistributedInterpolation()\n",
       "          (gate): Sigmoid()\n",
       "          (norm): LayerNorm((16,), eps=1e-05, elementwise_affine=True)\n",
       "        )\n",
       "        (fc1): Linear(in_features=8, out_features=8, bias=True)\n",
       "        (elu): ELU(alpha=1.0)\n",
       "        (fc2): Linear(in_features=8, out_features=8, bias=True)\n",
       "        (gate_norm): GateAddNorm(\n",
       "          (glu): GatedLinearUnit(\n",
       "            (dropout): Dropout(p=0.1, inplace=False)\n",
       "            (fc): Linear(in_features=8, out_features=32, bias=True)\n",
       "          )\n",
       "          (add_norm): AddNorm(\n",
       "            (norm): LayerNorm((16,), eps=1e-05, elementwise_affine=True)\n",
       "          )\n",
       "        )\n",
       "      )\n",
       "      (recommendationservice_cpu_center): GatedResidualNetwork(\n",
       "        (resample_norm): ResampleNorm(\n",
       "          (resample): TimeDistributedInterpolation()\n",
       "          (gate): Sigmoid()\n",
       "          (norm): LayerNorm((16,), eps=1e-05, elementwise_affine=True)\n",
       "        )\n",
       "        (fc1): Linear(in_features=8, out_features=8, bias=True)\n",
       "        (elu): ELU(alpha=1.0)\n",
       "        (fc2): Linear(in_features=8, out_features=8, bias=True)\n",
       "        (gate_norm): GateAddNorm(\n",
       "          (glu): GatedLinearUnit(\n",
       "            (dropout): Dropout(p=0.1, inplace=False)\n",
       "            (fc): Linear(in_features=8, out_features=32, bias=True)\n",
       "          )\n",
       "          (add_norm): AddNorm(\n",
       "            (norm): LayerNorm((16,), eps=1e-05, elementwise_affine=True)\n",
       "          )\n",
       "        )\n",
       "      )\n",
       "      (recommendationservice_cpu_scale): GatedResidualNetwork(\n",
       "        (resample_norm): ResampleNorm(\n",
       "          (resample): TimeDistributedInterpolation()\n",
       "          (gate): Sigmoid()\n",
       "          (norm): LayerNorm((16,), eps=1e-05, elementwise_affine=True)\n",
       "        )\n",
       "        (fc1): Linear(in_features=8, out_features=8, bias=True)\n",
       "        (elu): ELU(alpha=1.0)\n",
       "        (fc2): Linear(in_features=8, out_features=8, bias=True)\n",
       "        (gate_norm): GateAddNorm(\n",
       "          (glu): GatedLinearUnit(\n",
       "            (dropout): Dropout(p=0.1, inplace=False)\n",
       "            (fc): Linear(in_features=8, out_features=32, bias=True)\n",
       "          )\n",
       "          (add_norm): AddNorm(\n",
       "            (norm): LayerNorm((16,), eps=1e-05, elementwise_affine=True)\n",
       "          )\n",
       "        )\n",
       "      )\n",
       "      (recommendationservice_ram_center): GatedResidualNetwork(\n",
       "        (resample_norm): ResampleNorm(\n",
       "          (resample): TimeDistributedInterpolation()\n",
       "          (gate): Sigmoid()\n",
       "          (norm): LayerNorm((16,), eps=1e-05, elementwise_affine=True)\n",
       "        )\n",
       "        (fc1): Linear(in_features=8, out_features=8, bias=True)\n",
       "        (elu): ELU(alpha=1.0)\n",
       "        (fc2): Linear(in_features=8, out_features=8, bias=True)\n",
       "        (gate_norm): GateAddNorm(\n",
       "          (glu): GatedLinearUnit(\n",
       "            (dropout): Dropout(p=0.1, inplace=False)\n",
       "            (fc): Linear(in_features=8, out_features=32, bias=True)\n",
       "          )\n",
       "          (add_norm): AddNorm(\n",
       "            (norm): LayerNorm((16,), eps=1e-05, elementwise_affine=True)\n",
       "          )\n",
       "        )\n",
       "      )\n",
       "      (recommendationservice_ram_scale): GatedResidualNetwork(\n",
       "        (resample_norm): ResampleNorm(\n",
       "          (resample): TimeDistributedInterpolation()\n",
       "          (gate): Sigmoid()\n",
       "          (norm): LayerNorm((16,), eps=1e-05, elementwise_affine=True)\n",
       "        )\n",
       "        (fc1): Linear(in_features=8, out_features=8, bias=True)\n",
       "        (elu): ELU(alpha=1.0)\n",
       "        (fc2): Linear(in_features=8, out_features=8, bias=True)\n",
       "        (gate_norm): GateAddNorm(\n",
       "          (glu): GatedLinearUnit(\n",
       "            (dropout): Dropout(p=0.1, inplace=False)\n",
       "            (fc): Linear(in_features=8, out_features=32, bias=True)\n",
       "          )\n",
       "          (add_norm): AddNorm(\n",
       "            (norm): LayerNorm((16,), eps=1e-05, elementwise_affine=True)\n",
       "          )\n",
       "        )\n",
       "      )\n",
       "      (redis_cpu_center): GatedResidualNetwork(\n",
       "        (resample_norm): ResampleNorm(\n",
       "          (resample): TimeDistributedInterpolation()\n",
       "          (gate): Sigmoid()\n",
       "          (norm): LayerNorm((16,), eps=1e-05, elementwise_affine=True)\n",
       "        )\n",
       "        (fc1): Linear(in_features=8, out_features=8, bias=True)\n",
       "        (elu): ELU(alpha=1.0)\n",
       "        (fc2): Linear(in_features=8, out_features=8, bias=True)\n",
       "        (gate_norm): GateAddNorm(\n",
       "          (glu): GatedLinearUnit(\n",
       "            (dropout): Dropout(p=0.1, inplace=False)\n",
       "            (fc): Linear(in_features=8, out_features=32, bias=True)\n",
       "          )\n",
       "          (add_norm): AddNorm(\n",
       "            (norm): LayerNorm((16,), eps=1e-05, elementwise_affine=True)\n",
       "          )\n",
       "        )\n",
       "      )\n",
       "      (redis_cpu_scale): GatedResidualNetwork(\n",
       "        (resample_norm): ResampleNorm(\n",
       "          (resample): TimeDistributedInterpolation()\n",
       "          (gate): Sigmoid()\n",
       "          (norm): LayerNorm((16,), eps=1e-05, elementwise_affine=True)\n",
       "        )\n",
       "        (fc1): Linear(in_features=8, out_features=8, bias=True)\n",
       "        (elu): ELU(alpha=1.0)\n",
       "        (fc2): Linear(in_features=8, out_features=8, bias=True)\n",
       "        (gate_norm): GateAddNorm(\n",
       "          (glu): GatedLinearUnit(\n",
       "            (dropout): Dropout(p=0.1, inplace=False)\n",
       "            (fc): Linear(in_features=8, out_features=32, bias=True)\n",
       "          )\n",
       "          (add_norm): AddNorm(\n",
       "            (norm): LayerNorm((16,), eps=1e-05, elementwise_affine=True)\n",
       "          )\n",
       "        )\n",
       "      )\n",
       "      (redis_ram_center): GatedResidualNetwork(\n",
       "        (resample_norm): ResampleNorm(\n",
       "          (resample): TimeDistributedInterpolation()\n",
       "          (gate): Sigmoid()\n",
       "          (norm): LayerNorm((16,), eps=1e-05, elementwise_affine=True)\n",
       "        )\n",
       "        (fc1): Linear(in_features=8, out_features=8, bias=True)\n",
       "        (elu): ELU(alpha=1.0)\n",
       "        (fc2): Linear(in_features=8, out_features=8, bias=True)\n",
       "        (gate_norm): GateAddNorm(\n",
       "          (glu): GatedLinearUnit(\n",
       "            (dropout): Dropout(p=0.1, inplace=False)\n",
       "            (fc): Linear(in_features=8, out_features=32, bias=True)\n",
       "          )\n",
       "          (add_norm): AddNorm(\n",
       "            (norm): LayerNorm((16,), eps=1e-05, elementwise_affine=True)\n",
       "          )\n",
       "        )\n",
       "      )\n",
       "      (redis_ram_scale): GatedResidualNetwork(\n",
       "        (resample_norm): ResampleNorm(\n",
       "          (resample): TimeDistributedInterpolation()\n",
       "          (gate): Sigmoid()\n",
       "          (norm): LayerNorm((16,), eps=1e-05, elementwise_affine=True)\n",
       "        )\n",
       "        (fc1): Linear(in_features=8, out_features=8, bias=True)\n",
       "        (elu): ELU(alpha=1.0)\n",
       "        (fc2): Linear(in_features=8, out_features=8, bias=True)\n",
       "        (gate_norm): GateAddNorm(\n",
       "          (glu): GatedLinearUnit(\n",
       "            (dropout): Dropout(p=0.1, inplace=False)\n",
       "            (fc): Linear(in_features=8, out_features=32, bias=True)\n",
       "          )\n",
       "          (add_norm): AddNorm(\n",
       "            (norm): LayerNorm((16,), eps=1e-05, elementwise_affine=True)\n",
       "          )\n",
       "        )\n",
       "      )\n",
       "      (shippingservice_cpu_center): GatedResidualNetwork(\n",
       "        (resample_norm): ResampleNorm(\n",
       "          (resample): TimeDistributedInterpolation()\n",
       "          (gate): Sigmoid()\n",
       "          (norm): LayerNorm((16,), eps=1e-05, elementwise_affine=True)\n",
       "        )\n",
       "        (fc1): Linear(in_features=8, out_features=8, bias=True)\n",
       "        (elu): ELU(alpha=1.0)\n",
       "        (fc2): Linear(in_features=8, out_features=8, bias=True)\n",
       "        (gate_norm): GateAddNorm(\n",
       "          (glu): GatedLinearUnit(\n",
       "            (dropout): Dropout(p=0.1, inplace=False)\n",
       "            (fc): Linear(in_features=8, out_features=32, bias=True)\n",
       "          )\n",
       "          (add_norm): AddNorm(\n",
       "            (norm): LayerNorm((16,), eps=1e-05, elementwise_affine=True)\n",
       "          )\n",
       "        )\n",
       "      )\n",
       "      (shippingservice_cpu_scale): GatedResidualNetwork(\n",
       "        (resample_norm): ResampleNorm(\n",
       "          (resample): TimeDistributedInterpolation()\n",
       "          (gate): Sigmoid()\n",
       "          (norm): LayerNorm((16,), eps=1e-05, elementwise_affine=True)\n",
       "        )\n",
       "        (fc1): Linear(in_features=8, out_features=8, bias=True)\n",
       "        (elu): ELU(alpha=1.0)\n",
       "        (fc2): Linear(in_features=8, out_features=8, bias=True)\n",
       "        (gate_norm): GateAddNorm(\n",
       "          (glu): GatedLinearUnit(\n",
       "            (dropout): Dropout(p=0.1, inplace=False)\n",
       "            (fc): Linear(in_features=8, out_features=32, bias=True)\n",
       "          )\n",
       "          (add_norm): AddNorm(\n",
       "            (norm): LayerNorm((16,), eps=1e-05, elementwise_affine=True)\n",
       "          )\n",
       "        )\n",
       "      )\n",
       "      (shippingservice_ram_center): GatedResidualNetwork(\n",
       "        (resample_norm): ResampleNorm(\n",
       "          (resample): TimeDistributedInterpolation()\n",
       "          (gate): Sigmoid()\n",
       "          (norm): LayerNorm((16,), eps=1e-05, elementwise_affine=True)\n",
       "        )\n",
       "        (fc1): Linear(in_features=8, out_features=8, bias=True)\n",
       "        (elu): ELU(alpha=1.0)\n",
       "        (fc2): Linear(in_features=8, out_features=8, bias=True)\n",
       "        (gate_norm): GateAddNorm(\n",
       "          (glu): GatedLinearUnit(\n",
       "            (dropout): Dropout(p=0.1, inplace=False)\n",
       "            (fc): Linear(in_features=8, out_features=32, bias=True)\n",
       "          )\n",
       "          (add_norm): AddNorm(\n",
       "            (norm): LayerNorm((16,), eps=1e-05, elementwise_affine=True)\n",
       "          )\n",
       "        )\n",
       "      )\n",
       "      (shippingservice_ram_scale): GatedResidualNetwork(\n",
       "        (resample_norm): ResampleNorm(\n",
       "          (resample): TimeDistributedInterpolation()\n",
       "          (gate): Sigmoid()\n",
       "          (norm): LayerNorm((16,), eps=1e-05, elementwise_affine=True)\n",
       "        )\n",
       "        (fc1): Linear(in_features=8, out_features=8, bias=True)\n",
       "        (elu): ELU(alpha=1.0)\n",
       "        (fc2): Linear(in_features=8, out_features=8, bias=True)\n",
       "        (gate_norm): GateAddNorm(\n",
       "          (glu): GatedLinearUnit(\n",
       "            (dropout): Dropout(p=0.1, inplace=False)\n",
       "            (fc): Linear(in_features=8, out_features=32, bias=True)\n",
       "          )\n",
       "          (add_norm): AddNorm(\n",
       "            (norm): LayerNorm((16,), eps=1e-05, elementwise_affine=True)\n",
       "          )\n",
       "        )\n",
       "      )\n",
       "    )\n",
       "    (prescalers): ModuleDict(\n",
       "      (group): Linear(in_features=1, out_features=8, bias=True)\n",
       "      (encoder_length): Linear(in_features=1, out_features=8, bias=True)\n",
       "      (adservice_cpu_center): Linear(in_features=1, out_features=8, bias=True)\n",
       "      (adservice_cpu_scale): Linear(in_features=1, out_features=8, bias=True)\n",
       "      (adservice_ram_center): Linear(in_features=1, out_features=8, bias=True)\n",
       "      (adservice_ram_scale): Linear(in_features=1, out_features=8, bias=True)\n",
       "      (cartservice_cpu_center): Linear(in_features=1, out_features=8, bias=True)\n",
       "      (cartservice_cpu_scale): Linear(in_features=1, out_features=8, bias=True)\n",
       "      (cartservice_ram_center): Linear(in_features=1, out_features=8, bias=True)\n",
       "      (cartservice_ram_scale): Linear(in_features=1, out_features=8, bias=True)\n",
       "      (checkoutservice_cpu_center): Linear(in_features=1, out_features=8, bias=True)\n",
       "      (checkoutservice_cpu_scale): Linear(in_features=1, out_features=8, bias=True)\n",
       "      (checkoutservice_ram_center): Linear(in_features=1, out_features=8, bias=True)\n",
       "      (checkoutservice_ram_scale): Linear(in_features=1, out_features=8, bias=True)\n",
       "      (currencyservice_cpu_center): Linear(in_features=1, out_features=8, bias=True)\n",
       "      (currencyservice_cpu_scale): Linear(in_features=1, out_features=8, bias=True)\n",
       "      (currencyservice_ram_center): Linear(in_features=1, out_features=8, bias=True)\n",
       "      (currencyservice_ram_scale): Linear(in_features=1, out_features=8, bias=True)\n",
       "      (emailservice_cpu_center): Linear(in_features=1, out_features=8, bias=True)\n",
       "      (emailservice_cpu_scale): Linear(in_features=1, out_features=8, bias=True)\n",
       "      (emailservice_ram_center): Linear(in_features=1, out_features=8, bias=True)\n",
       "      (emailservice_ram_scale): Linear(in_features=1, out_features=8, bias=True)\n",
       "      (frontend_cpu_center): Linear(in_features=1, out_features=8, bias=True)\n",
       "      (frontend_cpu_scale): Linear(in_features=1, out_features=8, bias=True)\n",
       "      (frontend_ram_center): Linear(in_features=1, out_features=8, bias=True)\n",
       "      (frontend_ram_scale): Linear(in_features=1, out_features=8, bias=True)\n",
       "      (paymentservice_cpu_center): Linear(in_features=1, out_features=8, bias=True)\n",
       "      (paymentservice_cpu_scale): Linear(in_features=1, out_features=8, bias=True)\n",
       "      (paymentservice_ram_center): Linear(in_features=1, out_features=8, bias=True)\n",
       "      (paymentservice_ram_scale): Linear(in_features=1, out_features=8, bias=True)\n",
       "      (productcatalogservice_cpu_center): Linear(in_features=1, out_features=8, bias=True)\n",
       "      (productcatalogservice_cpu_scale): Linear(in_features=1, out_features=8, bias=True)\n",
       "      (productcatalogservice_ram_center): Linear(in_features=1, out_features=8, bias=True)\n",
       "      (productcatalogservice_ram_scale): Linear(in_features=1, out_features=8, bias=True)\n",
       "      (recommendationservice_cpu_center): Linear(in_features=1, out_features=8, bias=True)\n",
       "      (recommendationservice_cpu_scale): Linear(in_features=1, out_features=8, bias=True)\n",
       "      (recommendationservice_ram_center): Linear(in_features=1, out_features=8, bias=True)\n",
       "      (recommendationservice_ram_scale): Linear(in_features=1, out_features=8, bias=True)\n",
       "      (redis_cpu_center): Linear(in_features=1, out_features=8, bias=True)\n",
       "      (redis_cpu_scale): Linear(in_features=1, out_features=8, bias=True)\n",
       "      (redis_ram_center): Linear(in_features=1, out_features=8, bias=True)\n",
       "      (redis_ram_scale): Linear(in_features=1, out_features=8, bias=True)\n",
       "      (shippingservice_cpu_center): Linear(in_features=1, out_features=8, bias=True)\n",
       "      (shippingservice_cpu_scale): Linear(in_features=1, out_features=8, bias=True)\n",
       "      (shippingservice_ram_center): Linear(in_features=1, out_features=8, bias=True)\n",
       "      (shippingservice_ram_scale): Linear(in_features=1, out_features=8, bias=True)\n",
       "    )\n",
       "    (softmax): Softmax(dim=-1)\n",
       "  )\n",
       "  (encoder_variable_selection): VariableSelectionNetwork(\n",
       "    (flattened_grn): GatedResidualNetwork(\n",
       "      (resample_norm): ResampleNorm(\n",
       "        (resample): TimeDistributedInterpolation()\n",
       "        (gate): Sigmoid()\n",
       "        (norm): LayerNorm((25,), eps=1e-05, elementwise_affine=True)\n",
       "      )\n",
       "      (fc1): Linear(in_features=200, out_features=16, bias=True)\n",
       "      (elu): ELU(alpha=1.0)\n",
       "      (context): Linear(in_features=16, out_features=16, bias=False)\n",
       "      (fc2): Linear(in_features=16, out_features=16, bias=True)\n",
       "      (gate_norm): GateAddNorm(\n",
       "        (glu): GatedLinearUnit(\n",
       "          (dropout): Dropout(p=0.1, inplace=False)\n",
       "          (fc): Linear(in_features=16, out_features=50, bias=True)\n",
       "        )\n",
       "        (add_norm): AddNorm(\n",
       "          (norm): LayerNorm((25,), eps=1e-05, elementwise_affine=True)\n",
       "        )\n",
       "      )\n",
       "    )\n",
       "    (single_variable_grns): ModuleDict(\n",
       "      (timestamp): GatedResidualNetwork(\n",
       "        (resample_norm): ResampleNorm(\n",
       "          (resample): TimeDistributedInterpolation()\n",
       "          (gate): Sigmoid()\n",
       "          (norm): LayerNorm((16,), eps=1e-05, elementwise_affine=True)\n",
       "        )\n",
       "        (fc1): Linear(in_features=8, out_features=8, bias=True)\n",
       "        (elu): ELU(alpha=1.0)\n",
       "        (fc2): Linear(in_features=8, out_features=8, bias=True)\n",
       "        (gate_norm): GateAddNorm(\n",
       "          (glu): GatedLinearUnit(\n",
       "            (dropout): Dropout(p=0.1, inplace=False)\n",
       "            (fc): Linear(in_features=8, out_features=32, bias=True)\n",
       "          )\n",
       "          (add_norm): AddNorm(\n",
       "            (norm): LayerNorm((16,), eps=1e-05, elementwise_affine=True)\n",
       "          )\n",
       "        )\n",
       "      )\n",
       "      (time_idx): GatedResidualNetwork(\n",
       "        (resample_norm): ResampleNorm(\n",
       "          (resample): TimeDistributedInterpolation()\n",
       "          (gate): Sigmoid()\n",
       "          (norm): LayerNorm((16,), eps=1e-05, elementwise_affine=True)\n",
       "        )\n",
       "        (fc1): Linear(in_features=8, out_features=8, bias=True)\n",
       "        (elu): ELU(alpha=1.0)\n",
       "        (fc2): Linear(in_features=8, out_features=8, bias=True)\n",
       "        (gate_norm): GateAddNorm(\n",
       "          (glu): GatedLinearUnit(\n",
       "            (dropout): Dropout(p=0.1, inplace=False)\n",
       "            (fc): Linear(in_features=8, out_features=32, bias=True)\n",
       "          )\n",
       "          (add_norm): AddNorm(\n",
       "            (norm): LayerNorm((16,), eps=1e-05, elementwise_affine=True)\n",
       "          )\n",
       "        )\n",
       "      )\n",
       "      (relative_time_idx): GatedResidualNetwork(\n",
       "        (resample_norm): ResampleNorm(\n",
       "          (resample): TimeDistributedInterpolation()\n",
       "          (gate): Sigmoid()\n",
       "          (norm): LayerNorm((16,), eps=1e-05, elementwise_affine=True)\n",
       "        )\n",
       "        (fc1): Linear(in_features=8, out_features=8, bias=True)\n",
       "        (elu): ELU(alpha=1.0)\n",
       "        (fc2): Linear(in_features=8, out_features=8, bias=True)\n",
       "        (gate_norm): GateAddNorm(\n",
       "          (glu): GatedLinearUnit(\n",
       "            (dropout): Dropout(p=0.1, inplace=False)\n",
       "            (fc): Linear(in_features=8, out_features=32, bias=True)\n",
       "          )\n",
       "          (add_norm): AddNorm(\n",
       "            (norm): LayerNorm((16,), eps=1e-05, elementwise_affine=True)\n",
       "          )\n",
       "        )\n",
       "      )\n",
       "      (adservice_cpu): GatedResidualNetwork(\n",
       "        (resample_norm): ResampleNorm(\n",
       "          (resample): TimeDistributedInterpolation()\n",
       "          (gate): Sigmoid()\n",
       "          (norm): LayerNorm((16,), eps=1e-05, elementwise_affine=True)\n",
       "        )\n",
       "        (fc1): Linear(in_features=8, out_features=8, bias=True)\n",
       "        (elu): ELU(alpha=1.0)\n",
       "        (fc2): Linear(in_features=8, out_features=8, bias=True)\n",
       "        (gate_norm): GateAddNorm(\n",
       "          (glu): GatedLinearUnit(\n",
       "            (dropout): Dropout(p=0.1, inplace=False)\n",
       "            (fc): Linear(in_features=8, out_features=32, bias=True)\n",
       "          )\n",
       "          (add_norm): AddNorm(\n",
       "            (norm): LayerNorm((16,), eps=1e-05, elementwise_affine=True)\n",
       "          )\n",
       "        )\n",
       "      )\n",
       "      (adservice_ram): GatedResidualNetwork(\n",
       "        (resample_norm): ResampleNorm(\n",
       "          (resample): TimeDistributedInterpolation()\n",
       "          (gate): Sigmoid()\n",
       "          (norm): LayerNorm((16,), eps=1e-05, elementwise_affine=True)\n",
       "        )\n",
       "        (fc1): Linear(in_features=8, out_features=8, bias=True)\n",
       "        (elu): ELU(alpha=1.0)\n",
       "        (fc2): Linear(in_features=8, out_features=8, bias=True)\n",
       "        (gate_norm): GateAddNorm(\n",
       "          (glu): GatedLinearUnit(\n",
       "            (dropout): Dropout(p=0.1, inplace=False)\n",
       "            (fc): Linear(in_features=8, out_features=32, bias=True)\n",
       "          )\n",
       "          (add_norm): AddNorm(\n",
       "            (norm): LayerNorm((16,), eps=1e-05, elementwise_affine=True)\n",
       "          )\n",
       "        )\n",
       "      )\n",
       "      (cartservice_cpu): GatedResidualNetwork(\n",
       "        (resample_norm): ResampleNorm(\n",
       "          (resample): TimeDistributedInterpolation()\n",
       "          (gate): Sigmoid()\n",
       "          (norm): LayerNorm((16,), eps=1e-05, elementwise_affine=True)\n",
       "        )\n",
       "        (fc1): Linear(in_features=8, out_features=8, bias=True)\n",
       "        (elu): ELU(alpha=1.0)\n",
       "        (fc2): Linear(in_features=8, out_features=8, bias=True)\n",
       "        (gate_norm): GateAddNorm(\n",
       "          (glu): GatedLinearUnit(\n",
       "            (dropout): Dropout(p=0.1, inplace=False)\n",
       "            (fc): Linear(in_features=8, out_features=32, bias=True)\n",
       "          )\n",
       "          (add_norm): AddNorm(\n",
       "            (norm): LayerNorm((16,), eps=1e-05, elementwise_affine=True)\n",
       "          )\n",
       "        )\n",
       "      )\n",
       "      (cartservice_ram): GatedResidualNetwork(\n",
       "        (resample_norm): ResampleNorm(\n",
       "          (resample): TimeDistributedInterpolation()\n",
       "          (gate): Sigmoid()\n",
       "          (norm): LayerNorm((16,), eps=1e-05, elementwise_affine=True)\n",
       "        )\n",
       "        (fc1): Linear(in_features=8, out_features=8, bias=True)\n",
       "        (elu): ELU(alpha=1.0)\n",
       "        (fc2): Linear(in_features=8, out_features=8, bias=True)\n",
       "        (gate_norm): GateAddNorm(\n",
       "          (glu): GatedLinearUnit(\n",
       "            (dropout): Dropout(p=0.1, inplace=False)\n",
       "            (fc): Linear(in_features=8, out_features=32, bias=True)\n",
       "          )\n",
       "          (add_norm): AddNorm(\n",
       "            (norm): LayerNorm((16,), eps=1e-05, elementwise_affine=True)\n",
       "          )\n",
       "        )\n",
       "      )\n",
       "      (checkoutservice_cpu): GatedResidualNetwork(\n",
       "        (resample_norm): ResampleNorm(\n",
       "          (resample): TimeDistributedInterpolation()\n",
       "          (gate): Sigmoid()\n",
       "          (norm): LayerNorm((16,), eps=1e-05, elementwise_affine=True)\n",
       "        )\n",
       "        (fc1): Linear(in_features=8, out_features=8, bias=True)\n",
       "        (elu): ELU(alpha=1.0)\n",
       "        (fc2): Linear(in_features=8, out_features=8, bias=True)\n",
       "        (gate_norm): GateAddNorm(\n",
       "          (glu): GatedLinearUnit(\n",
       "            (dropout): Dropout(p=0.1, inplace=False)\n",
       "            (fc): Linear(in_features=8, out_features=32, bias=True)\n",
       "          )\n",
       "          (add_norm): AddNorm(\n",
       "            (norm): LayerNorm((16,), eps=1e-05, elementwise_affine=True)\n",
       "          )\n",
       "        )\n",
       "      )\n",
       "      (checkoutservice_ram): GatedResidualNetwork(\n",
       "        (resample_norm): ResampleNorm(\n",
       "          (resample): TimeDistributedInterpolation()\n",
       "          (gate): Sigmoid()\n",
       "          (norm): LayerNorm((16,), eps=1e-05, elementwise_affine=True)\n",
       "        )\n",
       "        (fc1): Linear(in_features=8, out_features=8, bias=True)\n",
       "        (elu): ELU(alpha=1.0)\n",
       "        (fc2): Linear(in_features=8, out_features=8, bias=True)\n",
       "        (gate_norm): GateAddNorm(\n",
       "          (glu): GatedLinearUnit(\n",
       "            (dropout): Dropout(p=0.1, inplace=False)\n",
       "            (fc): Linear(in_features=8, out_features=32, bias=True)\n",
       "          )\n",
       "          (add_norm): AddNorm(\n",
       "            (norm): LayerNorm((16,), eps=1e-05, elementwise_affine=True)\n",
       "          )\n",
       "        )\n",
       "      )\n",
       "      (currencyservice_cpu): GatedResidualNetwork(\n",
       "        (resample_norm): ResampleNorm(\n",
       "          (resample): TimeDistributedInterpolation()\n",
       "          (gate): Sigmoid()\n",
       "          (norm): LayerNorm((16,), eps=1e-05, elementwise_affine=True)\n",
       "        )\n",
       "        (fc1): Linear(in_features=8, out_features=8, bias=True)\n",
       "        (elu): ELU(alpha=1.0)\n",
       "        (fc2): Linear(in_features=8, out_features=8, bias=True)\n",
       "        (gate_norm): GateAddNorm(\n",
       "          (glu): GatedLinearUnit(\n",
       "            (dropout): Dropout(p=0.1, inplace=False)\n",
       "            (fc): Linear(in_features=8, out_features=32, bias=True)\n",
       "          )\n",
       "          (add_norm): AddNorm(\n",
       "            (norm): LayerNorm((16,), eps=1e-05, elementwise_affine=True)\n",
       "          )\n",
       "        )\n",
       "      )\n",
       "      (currencyservice_ram): GatedResidualNetwork(\n",
       "        (resample_norm): ResampleNorm(\n",
       "          (resample): TimeDistributedInterpolation()\n",
       "          (gate): Sigmoid()\n",
       "          (norm): LayerNorm((16,), eps=1e-05, elementwise_affine=True)\n",
       "        )\n",
       "        (fc1): Linear(in_features=8, out_features=8, bias=True)\n",
       "        (elu): ELU(alpha=1.0)\n",
       "        (fc2): Linear(in_features=8, out_features=8, bias=True)\n",
       "        (gate_norm): GateAddNorm(\n",
       "          (glu): GatedLinearUnit(\n",
       "            (dropout): Dropout(p=0.1, inplace=False)\n",
       "            (fc): Linear(in_features=8, out_features=32, bias=True)\n",
       "          )\n",
       "          (add_norm): AddNorm(\n",
       "            (norm): LayerNorm((16,), eps=1e-05, elementwise_affine=True)\n",
       "          )\n",
       "        )\n",
       "      )\n",
       "      (emailservice_cpu): GatedResidualNetwork(\n",
       "        (resample_norm): ResampleNorm(\n",
       "          (resample): TimeDistributedInterpolation()\n",
       "          (gate): Sigmoid()\n",
       "          (norm): LayerNorm((16,), eps=1e-05, elementwise_affine=True)\n",
       "        )\n",
       "        (fc1): Linear(in_features=8, out_features=8, bias=True)\n",
       "        (elu): ELU(alpha=1.0)\n",
       "        (fc2): Linear(in_features=8, out_features=8, bias=True)\n",
       "        (gate_norm): GateAddNorm(\n",
       "          (glu): GatedLinearUnit(\n",
       "            (dropout): Dropout(p=0.1, inplace=False)\n",
       "            (fc): Linear(in_features=8, out_features=32, bias=True)\n",
       "          )\n",
       "          (add_norm): AddNorm(\n",
       "            (norm): LayerNorm((16,), eps=1e-05, elementwise_affine=True)\n",
       "          )\n",
       "        )\n",
       "      )\n",
       "      (emailservice_ram): GatedResidualNetwork(\n",
       "        (resample_norm): ResampleNorm(\n",
       "          (resample): TimeDistributedInterpolation()\n",
       "          (gate): Sigmoid()\n",
       "          (norm): LayerNorm((16,), eps=1e-05, elementwise_affine=True)\n",
       "        )\n",
       "        (fc1): Linear(in_features=8, out_features=8, bias=True)\n",
       "        (elu): ELU(alpha=1.0)\n",
       "        (fc2): Linear(in_features=8, out_features=8, bias=True)\n",
       "        (gate_norm): GateAddNorm(\n",
       "          (glu): GatedLinearUnit(\n",
       "            (dropout): Dropout(p=0.1, inplace=False)\n",
       "            (fc): Linear(in_features=8, out_features=32, bias=True)\n",
       "          )\n",
       "          (add_norm): AddNorm(\n",
       "            (norm): LayerNorm((16,), eps=1e-05, elementwise_affine=True)\n",
       "          )\n",
       "        )\n",
       "      )\n",
       "      (frontend_cpu): GatedResidualNetwork(\n",
       "        (resample_norm): ResampleNorm(\n",
       "          (resample): TimeDistributedInterpolation()\n",
       "          (gate): Sigmoid()\n",
       "          (norm): LayerNorm((16,), eps=1e-05, elementwise_affine=True)\n",
       "        )\n",
       "        (fc1): Linear(in_features=8, out_features=8, bias=True)\n",
       "        (elu): ELU(alpha=1.0)\n",
       "        (fc2): Linear(in_features=8, out_features=8, bias=True)\n",
       "        (gate_norm): GateAddNorm(\n",
       "          (glu): GatedLinearUnit(\n",
       "            (dropout): Dropout(p=0.1, inplace=False)\n",
       "            (fc): Linear(in_features=8, out_features=32, bias=True)\n",
       "          )\n",
       "          (add_norm): AddNorm(\n",
       "            (norm): LayerNorm((16,), eps=1e-05, elementwise_affine=True)\n",
       "          )\n",
       "        )\n",
       "      )\n",
       "      (frontend_ram): GatedResidualNetwork(\n",
       "        (resample_norm): ResampleNorm(\n",
       "          (resample): TimeDistributedInterpolation()\n",
       "          (gate): Sigmoid()\n",
       "          (norm): LayerNorm((16,), eps=1e-05, elementwise_affine=True)\n",
       "        )\n",
       "        (fc1): Linear(in_features=8, out_features=8, bias=True)\n",
       "        (elu): ELU(alpha=1.0)\n",
       "        (fc2): Linear(in_features=8, out_features=8, bias=True)\n",
       "        (gate_norm): GateAddNorm(\n",
       "          (glu): GatedLinearUnit(\n",
       "            (dropout): Dropout(p=0.1, inplace=False)\n",
       "            (fc): Linear(in_features=8, out_features=32, bias=True)\n",
       "          )\n",
       "          (add_norm): AddNorm(\n",
       "            (norm): LayerNorm((16,), eps=1e-05, elementwise_affine=True)\n",
       "          )\n",
       "        )\n",
       "      )\n",
       "      (paymentservice_cpu): GatedResidualNetwork(\n",
       "        (resample_norm): ResampleNorm(\n",
       "          (resample): TimeDistributedInterpolation()\n",
       "          (gate): Sigmoid()\n",
       "          (norm): LayerNorm((16,), eps=1e-05, elementwise_affine=True)\n",
       "        )\n",
       "        (fc1): Linear(in_features=8, out_features=8, bias=True)\n",
       "        (elu): ELU(alpha=1.0)\n",
       "        (fc2): Linear(in_features=8, out_features=8, bias=True)\n",
       "        (gate_norm): GateAddNorm(\n",
       "          (glu): GatedLinearUnit(\n",
       "            (dropout): Dropout(p=0.1, inplace=False)\n",
       "            (fc): Linear(in_features=8, out_features=32, bias=True)\n",
       "          )\n",
       "          (add_norm): AddNorm(\n",
       "            (norm): LayerNorm((16,), eps=1e-05, elementwise_affine=True)\n",
       "          )\n",
       "        )\n",
       "      )\n",
       "      (paymentservice_ram): GatedResidualNetwork(\n",
       "        (resample_norm): ResampleNorm(\n",
       "          (resample): TimeDistributedInterpolation()\n",
       "          (gate): Sigmoid()\n",
       "          (norm): LayerNorm((16,), eps=1e-05, elementwise_affine=True)\n",
       "        )\n",
       "        (fc1): Linear(in_features=8, out_features=8, bias=True)\n",
       "        (elu): ELU(alpha=1.0)\n",
       "        (fc2): Linear(in_features=8, out_features=8, bias=True)\n",
       "        (gate_norm): GateAddNorm(\n",
       "          (glu): GatedLinearUnit(\n",
       "            (dropout): Dropout(p=0.1, inplace=False)\n",
       "            (fc): Linear(in_features=8, out_features=32, bias=True)\n",
       "          )\n",
       "          (add_norm): AddNorm(\n",
       "            (norm): LayerNorm((16,), eps=1e-05, elementwise_affine=True)\n",
       "          )\n",
       "        )\n",
       "      )\n",
       "      (productcatalogservice_cpu): GatedResidualNetwork(\n",
       "        (resample_norm): ResampleNorm(\n",
       "          (resample): TimeDistributedInterpolation()\n",
       "          (gate): Sigmoid()\n",
       "          (norm): LayerNorm((16,), eps=1e-05, elementwise_affine=True)\n",
       "        )\n",
       "        (fc1): Linear(in_features=8, out_features=8, bias=True)\n",
       "        (elu): ELU(alpha=1.0)\n",
       "        (fc2): Linear(in_features=8, out_features=8, bias=True)\n",
       "        (gate_norm): GateAddNorm(\n",
       "          (glu): GatedLinearUnit(\n",
       "            (dropout): Dropout(p=0.1, inplace=False)\n",
       "            (fc): Linear(in_features=8, out_features=32, bias=True)\n",
       "          )\n",
       "          (add_norm): AddNorm(\n",
       "            (norm): LayerNorm((16,), eps=1e-05, elementwise_affine=True)\n",
       "          )\n",
       "        )\n",
       "      )\n",
       "      (productcatalogservice_ram): GatedResidualNetwork(\n",
       "        (resample_norm): ResampleNorm(\n",
       "          (resample): TimeDistributedInterpolation()\n",
       "          (gate): Sigmoid()\n",
       "          (norm): LayerNorm((16,), eps=1e-05, elementwise_affine=True)\n",
       "        )\n",
       "        (fc1): Linear(in_features=8, out_features=8, bias=True)\n",
       "        (elu): ELU(alpha=1.0)\n",
       "        (fc2): Linear(in_features=8, out_features=8, bias=True)\n",
       "        (gate_norm): GateAddNorm(\n",
       "          (glu): GatedLinearUnit(\n",
       "            (dropout): Dropout(p=0.1, inplace=False)\n",
       "            (fc): Linear(in_features=8, out_features=32, bias=True)\n",
       "          )\n",
       "          (add_norm): AddNorm(\n",
       "            (norm): LayerNorm((16,), eps=1e-05, elementwise_affine=True)\n",
       "          )\n",
       "        )\n",
       "      )\n",
       "      (recommendationservice_cpu): GatedResidualNetwork(\n",
       "        (resample_norm): ResampleNorm(\n",
       "          (resample): TimeDistributedInterpolation()\n",
       "          (gate): Sigmoid()\n",
       "          (norm): LayerNorm((16,), eps=1e-05, elementwise_affine=True)\n",
       "        )\n",
       "        (fc1): Linear(in_features=8, out_features=8, bias=True)\n",
       "        (elu): ELU(alpha=1.0)\n",
       "        (fc2): Linear(in_features=8, out_features=8, bias=True)\n",
       "        (gate_norm): GateAddNorm(\n",
       "          (glu): GatedLinearUnit(\n",
       "            (dropout): Dropout(p=0.1, inplace=False)\n",
       "            (fc): Linear(in_features=8, out_features=32, bias=True)\n",
       "          )\n",
       "          (add_norm): AddNorm(\n",
       "            (norm): LayerNorm((16,), eps=1e-05, elementwise_affine=True)\n",
       "          )\n",
       "        )\n",
       "      )\n",
       "      (recommendationservice_ram): GatedResidualNetwork(\n",
       "        (resample_norm): ResampleNorm(\n",
       "          (resample): TimeDistributedInterpolation()\n",
       "          (gate): Sigmoid()\n",
       "          (norm): LayerNorm((16,), eps=1e-05, elementwise_affine=True)\n",
       "        )\n",
       "        (fc1): Linear(in_features=8, out_features=8, bias=True)\n",
       "        (elu): ELU(alpha=1.0)\n",
       "        (fc2): Linear(in_features=8, out_features=8, bias=True)\n",
       "        (gate_norm): GateAddNorm(\n",
       "          (glu): GatedLinearUnit(\n",
       "            (dropout): Dropout(p=0.1, inplace=False)\n",
       "            (fc): Linear(in_features=8, out_features=32, bias=True)\n",
       "          )\n",
       "          (add_norm): AddNorm(\n",
       "            (norm): LayerNorm((16,), eps=1e-05, elementwise_affine=True)\n",
       "          )\n",
       "        )\n",
       "      )\n",
       "      (redis_cpu): GatedResidualNetwork(\n",
       "        (resample_norm): ResampleNorm(\n",
       "          (resample): TimeDistributedInterpolation()\n",
       "          (gate): Sigmoid()\n",
       "          (norm): LayerNorm((16,), eps=1e-05, elementwise_affine=True)\n",
       "        )\n",
       "        (fc1): Linear(in_features=8, out_features=8, bias=True)\n",
       "        (elu): ELU(alpha=1.0)\n",
       "        (fc2): Linear(in_features=8, out_features=8, bias=True)\n",
       "        (gate_norm): GateAddNorm(\n",
       "          (glu): GatedLinearUnit(\n",
       "            (dropout): Dropout(p=0.1, inplace=False)\n",
       "            (fc): Linear(in_features=8, out_features=32, bias=True)\n",
       "          )\n",
       "          (add_norm): AddNorm(\n",
       "            (norm): LayerNorm((16,), eps=1e-05, elementwise_affine=True)\n",
       "          )\n",
       "        )\n",
       "      )\n",
       "      (redis_ram): GatedResidualNetwork(\n",
       "        (resample_norm): ResampleNorm(\n",
       "          (resample): TimeDistributedInterpolation()\n",
       "          (gate): Sigmoid()\n",
       "          (norm): LayerNorm((16,), eps=1e-05, elementwise_affine=True)\n",
       "        )\n",
       "        (fc1): Linear(in_features=8, out_features=8, bias=True)\n",
       "        (elu): ELU(alpha=1.0)\n",
       "        (fc2): Linear(in_features=8, out_features=8, bias=True)\n",
       "        (gate_norm): GateAddNorm(\n",
       "          (glu): GatedLinearUnit(\n",
       "            (dropout): Dropout(p=0.1, inplace=False)\n",
       "            (fc): Linear(in_features=8, out_features=32, bias=True)\n",
       "          )\n",
       "          (add_norm): AddNorm(\n",
       "            (norm): LayerNorm((16,), eps=1e-05, elementwise_affine=True)\n",
       "          )\n",
       "        )\n",
       "      )\n",
       "      (shippingservice_cpu): GatedResidualNetwork(\n",
       "        (resample_norm): ResampleNorm(\n",
       "          (resample): TimeDistributedInterpolation()\n",
       "          (gate): Sigmoid()\n",
       "          (norm): LayerNorm((16,), eps=1e-05, elementwise_affine=True)\n",
       "        )\n",
       "        (fc1): Linear(in_features=8, out_features=8, bias=True)\n",
       "        (elu): ELU(alpha=1.0)\n",
       "        (fc2): Linear(in_features=8, out_features=8, bias=True)\n",
       "        (gate_norm): GateAddNorm(\n",
       "          (glu): GatedLinearUnit(\n",
       "            (dropout): Dropout(p=0.1, inplace=False)\n",
       "            (fc): Linear(in_features=8, out_features=32, bias=True)\n",
       "          )\n",
       "          (add_norm): AddNorm(\n",
       "            (norm): LayerNorm((16,), eps=1e-05, elementwise_affine=True)\n",
       "          )\n",
       "        )\n",
       "      )\n",
       "      (shippingservice_ram): GatedResidualNetwork(\n",
       "        (resample_norm): ResampleNorm(\n",
       "          (resample): TimeDistributedInterpolation()\n",
       "          (gate): Sigmoid()\n",
       "          (norm): LayerNorm((16,), eps=1e-05, elementwise_affine=True)\n",
       "        )\n",
       "        (fc1): Linear(in_features=8, out_features=8, bias=True)\n",
       "        (elu): ELU(alpha=1.0)\n",
       "        (fc2): Linear(in_features=8, out_features=8, bias=True)\n",
       "        (gate_norm): GateAddNorm(\n",
       "          (glu): GatedLinearUnit(\n",
       "            (dropout): Dropout(p=0.1, inplace=False)\n",
       "            (fc): Linear(in_features=8, out_features=32, bias=True)\n",
       "          )\n",
       "          (add_norm): AddNorm(\n",
       "            (norm): LayerNorm((16,), eps=1e-05, elementwise_affine=True)\n",
       "          )\n",
       "        )\n",
       "      )\n",
       "    )\n",
       "    (prescalers): ModuleDict(\n",
       "      (timestamp): Linear(in_features=1, out_features=8, bias=True)\n",
       "      (time_idx): Linear(in_features=1, out_features=8, bias=True)\n",
       "      (relative_time_idx): Linear(in_features=1, out_features=8, bias=True)\n",
       "      (adservice_cpu): Linear(in_features=1, out_features=8, bias=True)\n",
       "      (adservice_ram): Linear(in_features=1, out_features=8, bias=True)\n",
       "      (cartservice_cpu): Linear(in_features=1, out_features=8, bias=True)\n",
       "      (cartservice_ram): Linear(in_features=1, out_features=8, bias=True)\n",
       "      (checkoutservice_cpu): Linear(in_features=1, out_features=8, bias=True)\n",
       "      (checkoutservice_ram): Linear(in_features=1, out_features=8, bias=True)\n",
       "      (currencyservice_cpu): Linear(in_features=1, out_features=8, bias=True)\n",
       "      (currencyservice_ram): Linear(in_features=1, out_features=8, bias=True)\n",
       "      (emailservice_cpu): Linear(in_features=1, out_features=8, bias=True)\n",
       "      (emailservice_ram): Linear(in_features=1, out_features=8, bias=True)\n",
       "      (frontend_cpu): Linear(in_features=1, out_features=8, bias=True)\n",
       "      (frontend_ram): Linear(in_features=1, out_features=8, bias=True)\n",
       "      (paymentservice_cpu): Linear(in_features=1, out_features=8, bias=True)\n",
       "      (paymentservice_ram): Linear(in_features=1, out_features=8, bias=True)\n",
       "      (productcatalogservice_cpu): Linear(in_features=1, out_features=8, bias=True)\n",
       "      (productcatalogservice_ram): Linear(in_features=1, out_features=8, bias=True)\n",
       "      (recommendationservice_cpu): Linear(in_features=1, out_features=8, bias=True)\n",
       "      (recommendationservice_ram): Linear(in_features=1, out_features=8, bias=True)\n",
       "      (redis_cpu): Linear(in_features=1, out_features=8, bias=True)\n",
       "      (redis_ram): Linear(in_features=1, out_features=8, bias=True)\n",
       "      (shippingservice_cpu): Linear(in_features=1, out_features=8, bias=True)\n",
       "      (shippingservice_ram): Linear(in_features=1, out_features=8, bias=True)\n",
       "    )\n",
       "    (softmax): Softmax(dim=-1)\n",
       "  )\n",
       "  (decoder_variable_selection): VariableSelectionNetwork(\n",
       "    (flattened_grn): GatedResidualNetwork(\n",
       "      (resample_norm): ResampleNorm(\n",
       "        (resample): TimeDistributedInterpolation()\n",
       "        (gate): Sigmoid()\n",
       "        (norm): LayerNorm((3,), eps=1e-05, elementwise_affine=True)\n",
       "      )\n",
       "      (fc1): Linear(in_features=24, out_features=3, bias=True)\n",
       "      (elu): ELU(alpha=1.0)\n",
       "      (context): Linear(in_features=16, out_features=3, bias=False)\n",
       "      (fc2): Linear(in_features=3, out_features=3, bias=True)\n",
       "      (gate_norm): GateAddNorm(\n",
       "        (glu): GatedLinearUnit(\n",
       "          (dropout): Dropout(p=0.1, inplace=False)\n",
       "          (fc): Linear(in_features=3, out_features=6, bias=True)\n",
       "        )\n",
       "        (add_norm): AddNorm(\n",
       "          (norm): LayerNorm((3,), eps=1e-05, elementwise_affine=True)\n",
       "        )\n",
       "      )\n",
       "    )\n",
       "    (single_variable_grns): ModuleDict(\n",
       "      (timestamp): GatedResidualNetwork(\n",
       "        (resample_norm): ResampleNorm(\n",
       "          (resample): TimeDistributedInterpolation()\n",
       "          (gate): Sigmoid()\n",
       "          (norm): LayerNorm((16,), eps=1e-05, elementwise_affine=True)\n",
       "        )\n",
       "        (fc1): Linear(in_features=8, out_features=8, bias=True)\n",
       "        (elu): ELU(alpha=1.0)\n",
       "        (fc2): Linear(in_features=8, out_features=8, bias=True)\n",
       "        (gate_norm): GateAddNorm(\n",
       "          (glu): GatedLinearUnit(\n",
       "            (dropout): Dropout(p=0.1, inplace=False)\n",
       "            (fc): Linear(in_features=8, out_features=32, bias=True)\n",
       "          )\n",
       "          (add_norm): AddNorm(\n",
       "            (norm): LayerNorm((16,), eps=1e-05, elementwise_affine=True)\n",
       "          )\n",
       "        )\n",
       "      )\n",
       "      (time_idx): GatedResidualNetwork(\n",
       "        (resample_norm): ResampleNorm(\n",
       "          (resample): TimeDistributedInterpolation()\n",
       "          (gate): Sigmoid()\n",
       "          (norm): LayerNorm((16,), eps=1e-05, elementwise_affine=True)\n",
       "        )\n",
       "        (fc1): Linear(in_features=8, out_features=8, bias=True)\n",
       "        (elu): ELU(alpha=1.0)\n",
       "        (fc2): Linear(in_features=8, out_features=8, bias=True)\n",
       "        (gate_norm): GateAddNorm(\n",
       "          (glu): GatedLinearUnit(\n",
       "            (dropout): Dropout(p=0.1, inplace=False)\n",
       "            (fc): Linear(in_features=8, out_features=32, bias=True)\n",
       "          )\n",
       "          (add_norm): AddNorm(\n",
       "            (norm): LayerNorm((16,), eps=1e-05, elementwise_affine=True)\n",
       "          )\n",
       "        )\n",
       "      )\n",
       "      (relative_time_idx): GatedResidualNetwork(\n",
       "        (resample_norm): ResampleNorm(\n",
       "          (resample): TimeDistributedInterpolation()\n",
       "          (gate): Sigmoid()\n",
       "          (norm): LayerNorm((16,), eps=1e-05, elementwise_affine=True)\n",
       "        )\n",
       "        (fc1): Linear(in_features=8, out_features=8, bias=True)\n",
       "        (elu): ELU(alpha=1.0)\n",
       "        (fc2): Linear(in_features=8, out_features=8, bias=True)\n",
       "        (gate_norm): GateAddNorm(\n",
       "          (glu): GatedLinearUnit(\n",
       "            (dropout): Dropout(p=0.1, inplace=False)\n",
       "            (fc): Linear(in_features=8, out_features=32, bias=True)\n",
       "          )\n",
       "          (add_norm): AddNorm(\n",
       "            (norm): LayerNorm((16,), eps=1e-05, elementwise_affine=True)\n",
       "          )\n",
       "        )\n",
       "      )\n",
       "    )\n",
       "    (prescalers): ModuleDict(\n",
       "      (timestamp): Linear(in_features=1, out_features=8, bias=True)\n",
       "      (time_idx): Linear(in_features=1, out_features=8, bias=True)\n",
       "      (relative_time_idx): Linear(in_features=1, out_features=8, bias=True)\n",
       "    )\n",
       "    (softmax): Softmax(dim=-1)\n",
       "  )\n",
       "  (static_context_variable_selection): GatedResidualNetwork(\n",
       "    (fc1): Linear(in_features=16, out_features=16, bias=True)\n",
       "    (elu): ELU(alpha=1.0)\n",
       "    (fc2): Linear(in_features=16, out_features=16, bias=True)\n",
       "    (gate_norm): GateAddNorm(\n",
       "      (glu): GatedLinearUnit(\n",
       "        (dropout): Dropout(p=0.1, inplace=False)\n",
       "        (fc): Linear(in_features=16, out_features=32, bias=True)\n",
       "      )\n",
       "      (add_norm): AddNorm(\n",
       "        (norm): LayerNorm((16,), eps=1e-05, elementwise_affine=True)\n",
       "      )\n",
       "    )\n",
       "  )\n",
       "  (static_context_initial_hidden_lstm): GatedResidualNetwork(\n",
       "    (fc1): Linear(in_features=16, out_features=16, bias=True)\n",
       "    (elu): ELU(alpha=1.0)\n",
       "    (fc2): Linear(in_features=16, out_features=16, bias=True)\n",
       "    (gate_norm): GateAddNorm(\n",
       "      (glu): GatedLinearUnit(\n",
       "        (dropout): Dropout(p=0.1, inplace=False)\n",
       "        (fc): Linear(in_features=16, out_features=32, bias=True)\n",
       "      )\n",
       "      (add_norm): AddNorm(\n",
       "        (norm): LayerNorm((16,), eps=1e-05, elementwise_affine=True)\n",
       "      )\n",
       "    )\n",
       "  )\n",
       "  (static_context_initial_cell_lstm): GatedResidualNetwork(\n",
       "    (fc1): Linear(in_features=16, out_features=16, bias=True)\n",
       "    (elu): ELU(alpha=1.0)\n",
       "    (fc2): Linear(in_features=16, out_features=16, bias=True)\n",
       "    (gate_norm): GateAddNorm(\n",
       "      (glu): GatedLinearUnit(\n",
       "        (dropout): Dropout(p=0.1, inplace=False)\n",
       "        (fc): Linear(in_features=16, out_features=32, bias=True)\n",
       "      )\n",
       "      (add_norm): AddNorm(\n",
       "        (norm): LayerNorm((16,), eps=1e-05, elementwise_affine=True)\n",
       "      )\n",
       "    )\n",
       "  )\n",
       "  (static_context_enrichment): GatedResidualNetwork(\n",
       "    (fc1): Linear(in_features=16, out_features=16, bias=True)\n",
       "    (elu): ELU(alpha=1.0)\n",
       "    (fc2): Linear(in_features=16, out_features=16, bias=True)\n",
       "    (gate_norm): GateAddNorm(\n",
       "      (glu): GatedLinearUnit(\n",
       "        (dropout): Dropout(p=0.1, inplace=False)\n",
       "        (fc): Linear(in_features=16, out_features=32, bias=True)\n",
       "      )\n",
       "      (add_norm): AddNorm(\n",
       "        (norm): LayerNorm((16,), eps=1e-05, elementwise_affine=True)\n",
       "      )\n",
       "    )\n",
       "  )\n",
       "  (lstm_encoder): LSTM(16, 16, batch_first=True)\n",
       "  (lstm_decoder): LSTM(16, 16, batch_first=True)\n",
       "  (post_lstm_gate_encoder): GatedLinearUnit(\n",
       "    (dropout): Dropout(p=0.1, inplace=False)\n",
       "    (fc): Linear(in_features=16, out_features=32, bias=True)\n",
       "  )\n",
       "  (post_lstm_gate_decoder): GatedLinearUnit(\n",
       "    (dropout): Dropout(p=0.1, inplace=False)\n",
       "    (fc): Linear(in_features=16, out_features=32, bias=True)\n",
       "  )\n",
       "  (post_lstm_add_norm_encoder): AddNorm(\n",
       "    (norm): LayerNorm((16,), eps=1e-05, elementwise_affine=True)\n",
       "  )\n",
       "  (post_lstm_add_norm_decoder): AddNorm(\n",
       "    (norm): LayerNorm((16,), eps=1e-05, elementwise_affine=True)\n",
       "  )\n",
       "  (static_enrichment): GatedResidualNetwork(\n",
       "    (fc1): Linear(in_features=16, out_features=16, bias=True)\n",
       "    (elu): ELU(alpha=1.0)\n",
       "    (context): Linear(in_features=16, out_features=16, bias=False)\n",
       "    (fc2): Linear(in_features=16, out_features=16, bias=True)\n",
       "    (gate_norm): GateAddNorm(\n",
       "      (glu): GatedLinearUnit(\n",
       "        (dropout): Dropout(p=0.1, inplace=False)\n",
       "        (fc): Linear(in_features=16, out_features=32, bias=True)\n",
       "      )\n",
       "      (add_norm): AddNorm(\n",
       "        (norm): LayerNorm((16,), eps=1e-05, elementwise_affine=True)\n",
       "      )\n",
       "    )\n",
       "  )\n",
       "  (multihead_attn): InterpretableMultiHeadAttention(\n",
       "    (dropout): Dropout(p=0.1, inplace=False)\n",
       "    (v_layer): Linear(in_features=16, out_features=8, bias=True)\n",
       "    (q_layers): ModuleList(\n",
       "      (0-1): 2 x Linear(in_features=16, out_features=8, bias=True)\n",
       "    )\n",
       "    (k_layers): ModuleList(\n",
       "      (0-1): 2 x Linear(in_features=16, out_features=8, bias=True)\n",
       "    )\n",
       "    (attention): ScaledDotProductAttention(\n",
       "      (softmax): Softmax(dim=2)\n",
       "    )\n",
       "    (w_h): Linear(in_features=8, out_features=16, bias=False)\n",
       "  )\n",
       "  (post_attn_gate_norm): GateAddNorm(\n",
       "    (glu): GatedLinearUnit(\n",
       "      (dropout): Dropout(p=0.1, inplace=False)\n",
       "      (fc): Linear(in_features=16, out_features=32, bias=True)\n",
       "    )\n",
       "    (add_norm): AddNorm(\n",
       "      (norm): LayerNorm((16,), eps=1e-05, elementwise_affine=True)\n",
       "    )\n",
       "  )\n",
       "  (pos_wise_ff): GatedResidualNetwork(\n",
       "    (fc1): Linear(in_features=16, out_features=16, bias=True)\n",
       "    (elu): ELU(alpha=1.0)\n",
       "    (fc2): Linear(in_features=16, out_features=16, bias=True)\n",
       "    (gate_norm): GateAddNorm(\n",
       "      (glu): GatedLinearUnit(\n",
       "        (dropout): Dropout(p=0.1, inplace=False)\n",
       "        (fc): Linear(in_features=16, out_features=32, bias=True)\n",
       "      )\n",
       "      (add_norm): AddNorm(\n",
       "        (norm): LayerNorm((16,), eps=1e-05, elementwise_affine=True)\n",
       "      )\n",
       "    )\n",
       "  )\n",
       "  (pre_output_gate_norm): GateAddNorm(\n",
       "    (glu): GatedLinearUnit(\n",
       "      (fc): Linear(in_features=16, out_features=32, bias=True)\n",
       "    )\n",
       "    (add_norm): AddNorm(\n",
       "      (norm): LayerNorm((16,), eps=1e-05, elementwise_affine=True)\n",
       "    )\n",
       "  )\n",
       "  (output_layer): ModuleList(\n",
       "    (0-21): 22 x Linear(in_features=16, out_features=7, bias=True)\n",
       "  )\n",
       ")"
      ]
     },
     "execution_count": 19,
     "metadata": {},
     "output_type": "execute_result"
    }
   ],
   "source": [
    "best_tft = TemporalFusionTransformer.from_dataset(\n",
    "    training,\n",
    "    learning_rate=0.2,\n",
    "    hidden_size=16,\n",
    "    attention_head_size=2,\n",
    "    dropout=0.1,\n",
    "    hidden_continuous_size=8,\n",
    "    loss=QuantileLoss(),\n",
    "    log_interval=10,\n",
    "    optimizer=\"Ranger\",\n",
    "    reduce_on_plateau_patience=4,\n",
    ")\n",
    "best_tft.load_state_dict(torch.load(\"../models/transformer.pt\"))\n",
    "best_tft.to(\"cuda\")"
   ]
  },
  {
   "cell_type": "code",
   "execution_count": 20,
   "id": "6a4e2539e18fbc5e",
   "metadata": {
    "ExecuteTime": {
     "end_time": "2024-01-05T03:46:30.379505692Z",
     "start_time": "2024-01-05T03:46:28.483634616Z"
    }
   },
   "outputs": [
    {
     "name": "stderr",
     "output_type": "stream",
     "text": [
      "LOCAL_RANK: 0 - CUDA_VISIBLE_DEVICES: [0]\n"
     ]
    }
   ],
   "source": [
    "tft_predictions = best_tft.predict(val_dataloader, return_y=True)"
   ]
  },
  {
   "cell_type": "code",
   "execution_count": 21,
   "id": "2c5121300cfbbaa9",
   "metadata": {
    "ExecuteTime": {
     "end_time": "2024-01-05T03:46:34.063212149Z",
     "start_time": "2024-01-05T03:46:34.022414773Z"
    }
   },
   "outputs": [],
   "source": [
    "tft_mae = mae(torch.cat(tft_predictions.output), torch.cat(tft_predictions.y[0]))\n",
    "tft_mape = mape(torch.cat(tft_predictions.output), torch.cat(tft_predictions.y[0]))\n",
    "tft_mse = mse(torch.cat(tft_predictions.output), torch.cat(tft_predictions.y[0]))"
   ]
  },
  {
   "cell_type": "code",
   "execution_count": 26,
   "id": "e758d4ffa7d13219",
   "metadata": {
    "ExecuteTime": {
     "end_time": "2024-01-05T03:52:43.551723296Z",
     "start_time": "2024-01-05T03:52:43.380698460Z"
    }
   },
   "outputs": [
    {
     "data": {
      "text/plain": [
       "(tensor(0.8445, device='cuda:0'),\n",
       " tensor(0.9326, device='cuda:0'),\n",
       " tensor(0.6030, device='cuda:0'))"
      ]
     },
     "execution_count": 26,
     "metadata": {},
     "output_type": "execute_result"
    }
   ],
   "source": [
    "tft_mae / baseline_mae, tft_mape / baseline_mape, tft_mse / baseline_mse "
   ]
  },
  {
   "cell_type": "markdown",
   "id": "8058bff2bb89eb51",
   "metadata": {},
   "source": [
    "## LSTM"
   ]
  },
  {
   "cell_type": "code",
   "execution_count": 29,
   "id": "5c8ed2128e269169",
   "metadata": {
    "ExecuteTime": {
     "end_time": "2024-01-05T03:57:13.014292501Z",
     "start_time": "2024-01-05T03:57:12.861862378Z"
    }
   },
   "outputs": [
    {
     "name": "stdout",
     "output_type": "stream",
     "text": [
      "Number of parameters in network: 4.4k\n"
     ]
    }
   ],
   "source": [
    "early_stop_callback = EarlyStopping(monitor=\"val_loss\", min_delta=1e-4, patience=10, verbose=False, mode=\"min\")\n",
    "lr_logger = LearningRateMonitor()  # log the learning rate\n",
    "logger = TensorBoardLogger(\"lightning_logs\")  # logging results to a tensorboard\n",
    "\n",
    "trainer = pl.Trainer(\n",
    "    max_epochs=50,\n",
    "    accelerator=\"cuda\",\n",
    "    enable_model_summary=True,\n",
    "    gradient_clip_val=0.1,\n",
    "    limit_train_batches=50,\n",
    "    callbacks=[lr_logger, early_stop_callback],\n",
    "    logger=logger,\n",
    ")\n",
    "\n",
    "lstm = RecurrentNetwork.from_dataset(\n",
    "    training,\n",
    "    cell_type=\"LSTM\"\n",
    ")\n",
    "print(f\"Number of parameters in network: {lstm.size()/1e3:.1f}k\")"
   ]
  },
  {
   "cell_type": "code",
   "execution_count": 30,
   "id": "b8e47d47020f01bc",
   "metadata": {
    "ExecuteTime": {
     "end_time": "2024-01-05T04:09:02.839218773Z",
     "start_time": "2024-01-05T03:57:35.845654457Z"
    }
   },
   "outputs": [
    {
     "name": "stderr",
     "output_type": "stream",
     "text": [
      "LOCAL_RANK: 0 - CUDA_VISIBLE_DEVICES: [0]\n",
      "\n",
      "  | Name             | Type           | Params\n",
      "----------------------------------------------------\n",
      "0 | loss             | MultiLoss      | 0     \n",
      "1 | logging_metrics  | ModuleList     | 0     \n",
      "2 | embeddings       | MultiEmbedding | 0     \n",
      "3 | rnn              | LSTM           | 4.2 K \n",
      "4 | output_projector | ModuleList     | 242   \n",
      "----------------------------------------------------\n",
      "4.4 K     Trainable params\n",
      "0         Non-trainable params\n",
      "4.4 K     Total params\n",
      "0.018     Total estimated model params size (MB)\n"
     ]
    },
    {
     "data": {
      "application/vnd.jupyter.widget-view+json": {
       "model_id": "b93c0d9108264db3887730aff1e7396e",
       "version_major": 2,
       "version_minor": 0
      },
      "text/plain": [
       "Sanity Checking: |          | 0/? [00:00<?, ?it/s]"
      ]
     },
     "metadata": {},
     "output_type": "display_data"
    },
    {
     "data": {
      "application/vnd.jupyter.widget-view+json": {
       "model_id": "8ceb78a1aed54680b551dae619d0915e",
       "version_major": 2,
       "version_minor": 0
      },
      "text/plain": [
       "Training: |          | 0/? [00:00<?, ?it/s]"
      ]
     },
     "metadata": {},
     "output_type": "display_data"
    },
    {
     "data": {
      "application/vnd.jupyter.widget-view+json": {
       "model_id": "67563c65764f4d7e9f997dea6c5c258f",
       "version_major": 2,
       "version_minor": 0
      },
      "text/plain": [
       "Validation: |          | 0/? [00:00<?, ?it/s]"
      ]
     },
     "metadata": {},
     "output_type": "display_data"
    },
    {
     "data": {
      "application/vnd.jupyter.widget-view+json": {
       "model_id": "b33e7717f110419faa10b52d135a17cf",
       "version_major": 2,
       "version_minor": 0
      },
      "text/plain": [
       "Validation: |          | 0/? [00:00<?, ?it/s]"
      ]
     },
     "metadata": {},
     "output_type": "display_data"
    },
    {
     "data": {
      "application/vnd.jupyter.widget-view+json": {
       "model_id": "7a942e0329ac4dca94edbe45eabd5ec1",
       "version_major": 2,
       "version_minor": 0
      },
      "text/plain": [
       "Validation: |          | 0/? [00:00<?, ?it/s]"
      ]
     },
     "metadata": {},
     "output_type": "display_data"
    },
    {
     "data": {
      "application/vnd.jupyter.widget-view+json": {
       "model_id": "3b4346f466b04b499a1fe19c9e8b0d89",
       "version_major": 2,
       "version_minor": 0
      },
      "text/plain": [
       "Validation: |          | 0/? [00:00<?, ?it/s]"
      ]
     },
     "metadata": {},
     "output_type": "display_data"
    },
    {
     "data": {
      "application/vnd.jupyter.widget-view+json": {
       "model_id": "bba116ffbf03496387a62f104b9c5ce8",
       "version_major": 2,
       "version_minor": 0
      },
      "text/plain": [
       "Validation: |          | 0/? [00:00<?, ?it/s]"
      ]
     },
     "metadata": {},
     "output_type": "display_data"
    },
    {
     "data": {
      "application/vnd.jupyter.widget-view+json": {
       "model_id": "1be3ad1f7f0c4834a70fc6e98526bd15",
       "version_major": 2,
       "version_minor": 0
      },
      "text/plain": [
       "Validation: |          | 0/? [00:00<?, ?it/s]"
      ]
     },
     "metadata": {},
     "output_type": "display_data"
    },
    {
     "data": {
      "application/vnd.jupyter.widget-view+json": {
       "model_id": "c255552e81ce4ec3a86226e388760953",
       "version_major": 2,
       "version_minor": 0
      },
      "text/plain": [
       "Validation: |          | 0/? [00:00<?, ?it/s]"
      ]
     },
     "metadata": {},
     "output_type": "display_data"
    },
    {
     "data": {
      "application/vnd.jupyter.widget-view+json": {
       "model_id": "f059b6c579334aa7a630fc2c8add21d8",
       "version_major": 2,
       "version_minor": 0
      },
      "text/plain": [
       "Validation: |          | 0/? [00:00<?, ?it/s]"
      ]
     },
     "metadata": {},
     "output_type": "display_data"
    },
    {
     "data": {
      "application/vnd.jupyter.widget-view+json": {
       "model_id": "7252db6b33314d3b893731a2adf5610c",
       "version_major": 2,
       "version_minor": 0
      },
      "text/plain": [
       "Validation: |          | 0/? [00:00<?, ?it/s]"
      ]
     },
     "metadata": {},
     "output_type": "display_data"
    },
    {
     "data": {
      "application/vnd.jupyter.widget-view+json": {
       "model_id": "830c344da9914fba9a102508bab6c120",
       "version_major": 2,
       "version_minor": 0
      },
      "text/plain": [
       "Validation: |          | 0/? [00:00<?, ?it/s]"
      ]
     },
     "metadata": {},
     "output_type": "display_data"
    },
    {
     "data": {
      "application/vnd.jupyter.widget-view+json": {
       "model_id": "a64f853fa90d40b8a3fd8d1c5010d479",
       "version_major": 2,
       "version_minor": 0
      },
      "text/plain": [
       "Validation: |          | 0/? [00:00<?, ?it/s]"
      ]
     },
     "metadata": {},
     "output_type": "display_data"
    },
    {
     "data": {
      "application/vnd.jupyter.widget-view+json": {
       "model_id": "e898a76880814202a494f0eab9aac2c1",
       "version_major": 2,
       "version_minor": 0
      },
      "text/plain": [
       "Validation: |          | 0/? [00:00<?, ?it/s]"
      ]
     },
     "metadata": {},
     "output_type": "display_data"
    },
    {
     "data": {
      "application/vnd.jupyter.widget-view+json": {
       "model_id": "2613d59c8f0544f59fc429f50c7571d3",
       "version_major": 2,
       "version_minor": 0
      },
      "text/plain": [
       "Validation: |          | 0/? [00:00<?, ?it/s]"
      ]
     },
     "metadata": {},
     "output_type": "display_data"
    },
    {
     "data": {
      "application/vnd.jupyter.widget-view+json": {
       "model_id": "807021d9920446a188d5e19264e6488d",
       "version_major": 2,
       "version_minor": 0
      },
      "text/plain": [
       "Validation: |          | 0/? [00:00<?, ?it/s]"
      ]
     },
     "metadata": {},
     "output_type": "display_data"
    },
    {
     "data": {
      "application/vnd.jupyter.widget-view+json": {
       "model_id": "b2f119b0669b409e94470497afec836c",
       "version_major": 2,
       "version_minor": 0
      },
      "text/plain": [
       "Validation: |          | 0/? [00:00<?, ?it/s]"
      ]
     },
     "metadata": {},
     "output_type": "display_data"
    },
    {
     "data": {
      "application/vnd.jupyter.widget-view+json": {
       "model_id": "70fb992787684f5a8640c45cc762000e",
       "version_major": 2,
       "version_minor": 0
      },
      "text/plain": [
       "Validation: |          | 0/? [00:00<?, ?it/s]"
      ]
     },
     "metadata": {},
     "output_type": "display_data"
    },
    {
     "data": {
      "application/vnd.jupyter.widget-view+json": {
       "model_id": "4af3945c24bc4ae1bbc1998158386064",
       "version_major": 2,
       "version_minor": 0
      },
      "text/plain": [
       "Validation: |          | 0/? [00:00<?, ?it/s]"
      ]
     },
     "metadata": {},
     "output_type": "display_data"
    },
    {
     "data": {
      "application/vnd.jupyter.widget-view+json": {
       "model_id": "c9ddc5b494cf447d95ddfc447540e5d6",
       "version_major": 2,
       "version_minor": 0
      },
      "text/plain": [
       "Validation: |          | 0/? [00:00<?, ?it/s]"
      ]
     },
     "metadata": {},
     "output_type": "display_data"
    },
    {
     "data": {
      "application/vnd.jupyter.widget-view+json": {
       "model_id": "807b5ea33e84435eb82d240450778219",
       "version_major": 2,
       "version_minor": 0
      },
      "text/plain": [
       "Validation: |          | 0/? [00:00<?, ?it/s]"
      ]
     },
     "metadata": {},
     "output_type": "display_data"
    },
    {
     "data": {
      "application/vnd.jupyter.widget-view+json": {
       "model_id": "b69af90b2a954926bcabfdbdab9c07c9",
       "version_major": 2,
       "version_minor": 0
      },
      "text/plain": [
       "Validation: |          | 0/? [00:00<?, ?it/s]"
      ]
     },
     "metadata": {},
     "output_type": "display_data"
    },
    {
     "data": {
      "application/vnd.jupyter.widget-view+json": {
       "model_id": "33fac8adc257429aacf4656c126a2b4a",
       "version_major": 2,
       "version_minor": 0
      },
      "text/plain": [
       "Validation: |          | 0/? [00:00<?, ?it/s]"
      ]
     },
     "metadata": {},
     "output_type": "display_data"
    },
    {
     "data": {
      "application/vnd.jupyter.widget-view+json": {
       "model_id": "999bf83880bd4fca8af338a028cedac9",
       "version_major": 2,
       "version_minor": 0
      },
      "text/plain": [
       "Validation: |          | 0/? [00:00<?, ?it/s]"
      ]
     },
     "metadata": {},
     "output_type": "display_data"
    },
    {
     "data": {
      "application/vnd.jupyter.widget-view+json": {
       "model_id": "629494375be947eb847645e32fee7ae8",
       "version_major": 2,
       "version_minor": 0
      },
      "text/plain": [
       "Validation: |          | 0/? [00:00<?, ?it/s]"
      ]
     },
     "metadata": {},
     "output_type": "display_data"
    },
    {
     "data": {
      "application/vnd.jupyter.widget-view+json": {
       "model_id": "e9f808ba8a864bf9aa9e823e9fc6779b",
       "version_major": 2,
       "version_minor": 0
      },
      "text/plain": [
       "Validation: |          | 0/? [00:00<?, ?it/s]"
      ]
     },
     "metadata": {},
     "output_type": "display_data"
    },
    {
     "data": {
      "application/vnd.jupyter.widget-view+json": {
       "model_id": "a06d5f8ff77640f5a3b1e4b465a69a83",
       "version_major": 2,
       "version_minor": 0
      },
      "text/plain": [
       "Validation: |          | 0/? [00:00<?, ?it/s]"
      ]
     },
     "metadata": {},
     "output_type": "display_data"
    },
    {
     "data": {
      "application/vnd.jupyter.widget-view+json": {
       "model_id": "0dcde98af9cc4f7bb6cbbeae9c83a960",
       "version_major": 2,
       "version_minor": 0
      },
      "text/plain": [
       "Validation: |          | 0/? [00:00<?, ?it/s]"
      ]
     },
     "metadata": {},
     "output_type": "display_data"
    },
    {
     "data": {
      "application/vnd.jupyter.widget-view+json": {
       "model_id": "88e222eb86874e439a7ec3c23bd14408",
       "version_major": 2,
       "version_minor": 0
      },
      "text/plain": [
       "Validation: |          | 0/? [00:00<?, ?it/s]"
      ]
     },
     "metadata": {},
     "output_type": "display_data"
    },
    {
     "data": {
      "application/vnd.jupyter.widget-view+json": {
       "model_id": "3fc8e8c5dcb2499a9f00698f465351be",
       "version_major": 2,
       "version_minor": 0
      },
      "text/plain": [
       "Validation: |          | 0/? [00:00<?, ?it/s]"
      ]
     },
     "metadata": {},
     "output_type": "display_data"
    },
    {
     "data": {
      "application/vnd.jupyter.widget-view+json": {
       "model_id": "f654712027e24ac58dca2dce491b7545",
       "version_major": 2,
       "version_minor": 0
      },
      "text/plain": [
       "Validation: |          | 0/? [00:00<?, ?it/s]"
      ]
     },
     "metadata": {},
     "output_type": "display_data"
    },
    {
     "data": {
      "application/vnd.jupyter.widget-view+json": {
       "model_id": "714947cfd5794692acd9d3312d45d513",
       "version_major": 2,
       "version_minor": 0
      },
      "text/plain": [
       "Validation: |          | 0/? [00:00<?, ?it/s]"
      ]
     },
     "metadata": {},
     "output_type": "display_data"
    },
    {
     "data": {
      "application/vnd.jupyter.widget-view+json": {
       "model_id": "d3a88ed33d8c46d5ac5cbf493e269da7",
       "version_major": 2,
       "version_minor": 0
      },
      "text/plain": [
       "Validation: |          | 0/? [00:00<?, ?it/s]"
      ]
     },
     "metadata": {},
     "output_type": "display_data"
    },
    {
     "data": {
      "application/vnd.jupyter.widget-view+json": {
       "model_id": "5c1ecc27c84e4ba6b7a67c25cfce831a",
       "version_major": 2,
       "version_minor": 0
      },
      "text/plain": [
       "Validation: |          | 0/? [00:00<?, ?it/s]"
      ]
     },
     "metadata": {},
     "output_type": "display_data"
    },
    {
     "data": {
      "application/vnd.jupyter.widget-view+json": {
       "model_id": "f0ce3cda18304ac49fc62ad982ec5d6c",
       "version_major": 2,
       "version_minor": 0
      },
      "text/plain": [
       "Validation: |          | 0/? [00:00<?, ?it/s]"
      ]
     },
     "metadata": {},
     "output_type": "display_data"
    },
    {
     "data": {
      "application/vnd.jupyter.widget-view+json": {
       "model_id": "62a766c7ab3f4f9292424db2051ba334",
       "version_major": 2,
       "version_minor": 0
      },
      "text/plain": [
       "Validation: |          | 0/? [00:00<?, ?it/s]"
      ]
     },
     "metadata": {},
     "output_type": "display_data"
    },
    {
     "data": {
      "application/vnd.jupyter.widget-view+json": {
       "model_id": "831935c2fe24496e9f361825b98008c8",
       "version_major": 2,
       "version_minor": 0
      },
      "text/plain": [
       "Validation: |          | 0/? [00:00<?, ?it/s]"
      ]
     },
     "metadata": {},
     "output_type": "display_data"
    },
    {
     "data": {
      "application/vnd.jupyter.widget-view+json": {
       "model_id": "2787b80080d44442b2d0a2f39ac821e9",
       "version_major": 2,
       "version_minor": 0
      },
      "text/plain": [
       "Validation: |          | 0/? [00:00<?, ?it/s]"
      ]
     },
     "metadata": {},
     "output_type": "display_data"
    },
    {
     "data": {
      "application/vnd.jupyter.widget-view+json": {
       "model_id": "279a026b1b91480691d007ed1a5c2e82",
       "version_major": 2,
       "version_minor": 0
      },
      "text/plain": [
       "Validation: |          | 0/? [00:00<?, ?it/s]"
      ]
     },
     "metadata": {},
     "output_type": "display_data"
    },
    {
     "data": {
      "application/vnd.jupyter.widget-view+json": {
       "model_id": "ea29731262f84afe84c9a510a529c2eb",
       "version_major": 2,
       "version_minor": 0
      },
      "text/plain": [
       "Validation: |          | 0/? [00:00<?, ?it/s]"
      ]
     },
     "metadata": {},
     "output_type": "display_data"
    },
    {
     "data": {
      "application/vnd.jupyter.widget-view+json": {
       "model_id": "77cbd698287e416880ef1030c782abff",
       "version_major": 2,
       "version_minor": 0
      },
      "text/plain": [
       "Validation: |          | 0/? [00:00<?, ?it/s]"
      ]
     },
     "metadata": {},
     "output_type": "display_data"
    },
    {
     "data": {
      "application/vnd.jupyter.widget-view+json": {
       "model_id": "49b6c8b2881d4eb1b3378aaa1e85e989",
       "version_major": 2,
       "version_minor": 0
      },
      "text/plain": [
       "Validation: |          | 0/? [00:00<?, ?it/s]"
      ]
     },
     "metadata": {},
     "output_type": "display_data"
    },
    {
     "data": {
      "application/vnd.jupyter.widget-view+json": {
       "model_id": "179b392661c64510b4354c486a131805",
       "version_major": 2,
       "version_minor": 0
      },
      "text/plain": [
       "Validation: |          | 0/? [00:00<?, ?it/s]"
      ]
     },
     "metadata": {},
     "output_type": "display_data"
    },
    {
     "data": {
      "application/vnd.jupyter.widget-view+json": {
       "model_id": "57ad3408c1514aaabbd7932c648de0c4",
       "version_major": 2,
       "version_minor": 0
      },
      "text/plain": [
       "Validation: |          | 0/? [00:00<?, ?it/s]"
      ]
     },
     "metadata": {},
     "output_type": "display_data"
    },
    {
     "data": {
      "application/vnd.jupyter.widget-view+json": {
       "model_id": "447a24a5a9f6420daaba07a5bd94f537",
       "version_major": 2,
       "version_minor": 0
      },
      "text/plain": [
       "Validation: |          | 0/? [00:00<?, ?it/s]"
      ]
     },
     "metadata": {},
     "output_type": "display_data"
    },
    {
     "data": {
      "application/vnd.jupyter.widget-view+json": {
       "model_id": "a869913af1f5466abf6e0be364363845",
       "version_major": 2,
       "version_minor": 0
      },
      "text/plain": [
       "Validation: |          | 0/? [00:00<?, ?it/s]"
      ]
     },
     "metadata": {},
     "output_type": "display_data"
    },
    {
     "data": {
      "application/vnd.jupyter.widget-view+json": {
       "model_id": "c477492a4ad24c858ab507cee96284a5",
       "version_major": 2,
       "version_minor": 0
      },
      "text/plain": [
       "Validation: |          | 0/? [00:00<?, ?it/s]"
      ]
     },
     "metadata": {},
     "output_type": "display_data"
    },
    {
     "data": {
      "application/vnd.jupyter.widget-view+json": {
       "model_id": "47fa912dc92d42039cf996550ca5a02c",
       "version_major": 2,
       "version_minor": 0
      },
      "text/plain": [
       "Validation: |          | 0/? [00:00<?, ?it/s]"
      ]
     },
     "metadata": {},
     "output_type": "display_data"
    },
    {
     "data": {
      "application/vnd.jupyter.widget-view+json": {
       "model_id": "7e455abf91a14b7f9bb414fbfe0992e8",
       "version_major": 2,
       "version_minor": 0
      },
      "text/plain": [
       "Validation: |          | 0/? [00:00<?, ?it/s]"
      ]
     },
     "metadata": {},
     "output_type": "display_data"
    },
    {
     "data": {
      "application/vnd.jupyter.widget-view+json": {
       "model_id": "35fa78cda38241e4afbc9d066dcc986e",
       "version_major": 2,
       "version_minor": 0
      },
      "text/plain": [
       "Validation: |          | 0/? [00:00<?, ?it/s]"
      ]
     },
     "metadata": {},
     "output_type": "display_data"
    },
    {
     "data": {
      "application/vnd.jupyter.widget-view+json": {
       "model_id": "20413565ac244b1e93e8cc05c099428a",
       "version_major": 2,
       "version_minor": 0
      },
      "text/plain": [
       "Validation: |          | 0/? [00:00<?, ?it/s]"
      ]
     },
     "metadata": {},
     "output_type": "display_data"
    },
    {
     "data": {
      "application/vnd.jupyter.widget-view+json": {
       "model_id": "8fcb043dbc244266a90ee2fc73880fa5",
       "version_major": 2,
       "version_minor": 0
      },
      "text/plain": [
       "Validation: |          | 0/? [00:00<?, ?it/s]"
      ]
     },
     "metadata": {},
     "output_type": "display_data"
    }
   ],
   "source": [
    "trainer.fit(\n",
    "    lstm,\n",
    "    train_dataloaders=train_dataloader,\n",
    "    val_dataloaders=val_dataloader,\n",
    ")"
   ]
  },
  {
   "cell_type": "code",
   "execution_count": 31,
   "id": "d4961138ceb1642a",
   "metadata": {
    "ExecuteTime": {
     "end_time": "2024-01-05T04:10:06.251143260Z",
     "start_time": "2024-01-05T04:10:05.938438844Z"
    }
   },
   "outputs": [],
   "source": [
    "best_lstm_path = trainer.checkpoint_callback.best_model_path\n",
    "best_lstm = RecurrentNetwork.load_from_checkpoint(best_lstm_path)\n",
    "torch.save(best_lstm.state_dict(), \"../models/lstm.pt\")"
   ]
  },
  {
   "cell_type": "code",
   "execution_count": 32,
   "id": "e8c3e88f08cc58d6",
   "metadata": {
    "ExecuteTime": {
     "end_time": "2024-01-05T04:11:13.162498219Z",
     "start_time": "2024-01-05T04:11:12.858865238Z"
    }
   },
   "outputs": [
    {
     "name": "stderr",
     "output_type": "stream",
     "text": [
      "LOCAL_RANK: 0 - CUDA_VISIBLE_DEVICES: [0]\n"
     ]
    }
   ],
   "source": [
    "lstm_predictions = best_lstm.predict(val_dataloader, return_y=True)\n",
    "\n",
    "lstm_mae = mae(torch.cat(lstm_predictions.output), torch.cat(lstm_predictions.y[0]))\n",
    "lstm_mape = mape(torch.cat(lstm_predictions.output), torch.cat(lstm_predictions.y[0]))\n",
    "lstm_mse = mse(torch.cat(lstm_predictions.output), torch.cat(lstm_predictions.y[0]))"
   ]
  },
  {
   "cell_type": "code",
   "execution_count": 33,
   "id": "523a63ed7be55836",
   "metadata": {
    "ExecuteTime": {
     "end_time": "2024-01-05T04:11:43.122387747Z",
     "start_time": "2024-01-05T04:11:42.824184388Z"
    }
   },
   "outputs": [
    {
     "data": {
      "text/plain": [
       "(tensor(0.8404, device='cuda:0'),\n",
       " tensor(0.9311, device='cuda:0'),\n",
       " tensor(0.5884, device='cuda:0'))"
      ]
     },
     "execution_count": 33,
     "metadata": {},
     "output_type": "execute_result"
    }
   ],
   "source": [
    "lstm_mae / baseline_mae, lstm_mape / baseline_mape, lstm_mse / baseline_mse "
   ]
  },
  {
   "cell_type": "markdown",
   "id": "80053ae9ffd772fd",
   "metadata": {},
   "source": [
    "## GRU"
   ]
  },
  {
   "cell_type": "code",
   "execution_count": 34,
   "id": "c3da4eba10a5bbe4",
   "metadata": {
    "ExecuteTime": {
     "end_time": "2024-01-05T04:13:14.571357445Z",
     "start_time": "2024-01-05T04:13:14.256472667Z"
    }
   },
   "outputs": [
    {
     "name": "stdout",
     "output_type": "stream",
     "text": [
      "Number of parameters in network: 3.4k\n"
     ]
    }
   ],
   "source": [
    "early_stop_callback = EarlyStopping(monitor=\"val_loss\", min_delta=1e-4, patience=10, verbose=False, mode=\"min\")\n",
    "lr_logger = LearningRateMonitor()  # log the learning rate\n",
    "logger = TensorBoardLogger(\"lightning_logs\")  # logging results to a tensorboard\n",
    "\n",
    "trainer = pl.Trainer(\n",
    "    max_epochs=50,\n",
    "    accelerator=\"cuda\",\n",
    "    enable_model_summary=True,\n",
    "    gradient_clip_val=0.1,\n",
    "    limit_train_batches=50,\n",
    "    callbacks=[lr_logger, early_stop_callback],\n",
    "    logger=logger,\n",
    ")\n",
    "\n",
    "gru = RecurrentNetwork.from_dataset(\n",
    "    training,\n",
    "    cell_type=\"GRU\"\n",
    ")\n",
    "print(f\"Number of parameters in network: {gru.size()/1e3:.1f}k\")"
   ]
  },
  {
   "cell_type": "code",
   "execution_count": 35,
   "id": "d4f3672d58b13617",
   "metadata": {
    "ExecuteTime": {
     "end_time": "2024-01-05T04:25:13.949430210Z",
     "start_time": "2024-01-05T04:13:30.053794094Z"
    }
   },
   "outputs": [
    {
     "name": "stderr",
     "output_type": "stream",
     "text": [
      "LOCAL_RANK: 0 - CUDA_VISIBLE_DEVICES: [0]\n",
      "\n",
      "  | Name             | Type           | Params\n",
      "----------------------------------------------------\n",
      "0 | loss             | MultiLoss      | 0     \n",
      "1 | logging_metrics  | ModuleList     | 0     \n",
      "2 | embeddings       | MultiEmbedding | 0     \n",
      "3 | rnn              | GRU            | 3.1 K \n",
      "4 | output_projector | ModuleList     | 242   \n",
      "----------------------------------------------------\n",
      "3.4 K     Trainable params\n",
      "0         Non-trainable params\n",
      "3.4 K     Total params\n",
      "0.014     Total estimated model params size (MB)\n"
     ]
    },
    {
     "data": {
      "application/vnd.jupyter.widget-view+json": {
       "model_id": "1ab5241a27474b40865075db2acc9528",
       "version_major": 2,
       "version_minor": 0
      },
      "text/plain": [
       "Sanity Checking: |          | 0/? [00:00<?, ?it/s]"
      ]
     },
     "metadata": {},
     "output_type": "display_data"
    },
    {
     "data": {
      "application/vnd.jupyter.widget-view+json": {
       "model_id": "86bbead8720e4db2981fe204d3f023bb",
       "version_major": 2,
       "version_minor": 0
      },
      "text/plain": [
       "Training: |          | 0/? [00:00<?, ?it/s]"
      ]
     },
     "metadata": {},
     "output_type": "display_data"
    },
    {
     "data": {
      "application/vnd.jupyter.widget-view+json": {
       "model_id": "19a0ee2ff08c44cb945c8ca208204ce2",
       "version_major": 2,
       "version_minor": 0
      },
      "text/plain": [
       "Validation: |          | 0/? [00:00<?, ?it/s]"
      ]
     },
     "metadata": {},
     "output_type": "display_data"
    },
    {
     "data": {
      "application/vnd.jupyter.widget-view+json": {
       "model_id": "42b943affe5b43d5aff2c7a9a8056289",
       "version_major": 2,
       "version_minor": 0
      },
      "text/plain": [
       "Validation: |          | 0/? [00:00<?, ?it/s]"
      ]
     },
     "metadata": {},
     "output_type": "display_data"
    },
    {
     "data": {
      "application/vnd.jupyter.widget-view+json": {
       "model_id": "1028379e71ea44cf9bfbf2fe3748d9ee",
       "version_major": 2,
       "version_minor": 0
      },
      "text/plain": [
       "Validation: |          | 0/? [00:00<?, ?it/s]"
      ]
     },
     "metadata": {},
     "output_type": "display_data"
    },
    {
     "data": {
      "application/vnd.jupyter.widget-view+json": {
       "model_id": "9f20e11e581b45f0896b81c3419e79cd",
       "version_major": 2,
       "version_minor": 0
      },
      "text/plain": [
       "Validation: |          | 0/? [00:00<?, ?it/s]"
      ]
     },
     "metadata": {},
     "output_type": "display_data"
    },
    {
     "data": {
      "application/vnd.jupyter.widget-view+json": {
       "model_id": "16135cd4e02a4ee5a3d4e0fefa526fed",
       "version_major": 2,
       "version_minor": 0
      },
      "text/plain": [
       "Validation: |          | 0/? [00:00<?, ?it/s]"
      ]
     },
     "metadata": {},
     "output_type": "display_data"
    },
    {
     "data": {
      "application/vnd.jupyter.widget-view+json": {
       "model_id": "3b9c3b81478448d1a932703bb9c2adc8",
       "version_major": 2,
       "version_minor": 0
      },
      "text/plain": [
       "Validation: |          | 0/? [00:00<?, ?it/s]"
      ]
     },
     "metadata": {},
     "output_type": "display_data"
    },
    {
     "data": {
      "application/vnd.jupyter.widget-view+json": {
       "model_id": "ea52cb73809a44a3ad431d8f542f40a0",
       "version_major": 2,
       "version_minor": 0
      },
      "text/plain": [
       "Validation: |          | 0/? [00:00<?, ?it/s]"
      ]
     },
     "metadata": {},
     "output_type": "display_data"
    },
    {
     "data": {
      "application/vnd.jupyter.widget-view+json": {
       "model_id": "81a82d6120ae4784aea3911f508baca1",
       "version_major": 2,
       "version_minor": 0
      },
      "text/plain": [
       "Validation: |          | 0/? [00:00<?, ?it/s]"
      ]
     },
     "metadata": {},
     "output_type": "display_data"
    },
    {
     "data": {
      "application/vnd.jupyter.widget-view+json": {
       "model_id": "39fde99ff1be4440a61000553fb2b7b0",
       "version_major": 2,
       "version_minor": 0
      },
      "text/plain": [
       "Validation: |          | 0/? [00:00<?, ?it/s]"
      ]
     },
     "metadata": {},
     "output_type": "display_data"
    },
    {
     "data": {
      "application/vnd.jupyter.widget-view+json": {
       "model_id": "cebc8a9fb53c4582b56183b51d62311c",
       "version_major": 2,
       "version_minor": 0
      },
      "text/plain": [
       "Validation: |          | 0/? [00:00<?, ?it/s]"
      ]
     },
     "metadata": {},
     "output_type": "display_data"
    },
    {
     "data": {
      "application/vnd.jupyter.widget-view+json": {
       "model_id": "a489c46262a9434a9a7fa99d4f73ae8f",
       "version_major": 2,
       "version_minor": 0
      },
      "text/plain": [
       "Validation: |          | 0/? [00:00<?, ?it/s]"
      ]
     },
     "metadata": {},
     "output_type": "display_data"
    },
    {
     "data": {
      "application/vnd.jupyter.widget-view+json": {
       "model_id": "2566cbe0ac69459d8f21d2af67c08888",
       "version_major": 2,
       "version_minor": 0
      },
      "text/plain": [
       "Validation: |          | 0/? [00:00<?, ?it/s]"
      ]
     },
     "metadata": {},
     "output_type": "display_data"
    },
    {
     "data": {
      "application/vnd.jupyter.widget-view+json": {
       "model_id": "fc0ccf5a6a7e40ab9cb9f0163eeb1b2f",
       "version_major": 2,
       "version_minor": 0
      },
      "text/plain": [
       "Validation: |          | 0/? [00:00<?, ?it/s]"
      ]
     },
     "metadata": {},
     "output_type": "display_data"
    },
    {
     "data": {
      "application/vnd.jupyter.widget-view+json": {
       "model_id": "b90c970061de4e8db8d3e5b780dc6755",
       "version_major": 2,
       "version_minor": 0
      },
      "text/plain": [
       "Validation: |          | 0/? [00:00<?, ?it/s]"
      ]
     },
     "metadata": {},
     "output_type": "display_data"
    },
    {
     "data": {
      "application/vnd.jupyter.widget-view+json": {
       "model_id": "1fe33746188f47ac8c89b21d89fd8c24",
       "version_major": 2,
       "version_minor": 0
      },
      "text/plain": [
       "Validation: |          | 0/? [00:00<?, ?it/s]"
      ]
     },
     "metadata": {},
     "output_type": "display_data"
    },
    {
     "data": {
      "application/vnd.jupyter.widget-view+json": {
       "model_id": "aab3e17e684949dcbfb1577c13a845a5",
       "version_major": 2,
       "version_minor": 0
      },
      "text/plain": [
       "Validation: |          | 0/? [00:00<?, ?it/s]"
      ]
     },
     "metadata": {},
     "output_type": "display_data"
    },
    {
     "data": {
      "application/vnd.jupyter.widget-view+json": {
       "model_id": "51263e6c15bc429280a297b6a89c3151",
       "version_major": 2,
       "version_minor": 0
      },
      "text/plain": [
       "Validation: |          | 0/? [00:00<?, ?it/s]"
      ]
     },
     "metadata": {},
     "output_type": "display_data"
    },
    {
     "data": {
      "application/vnd.jupyter.widget-view+json": {
       "model_id": "afe840ae135842ffaf62afa37671faa8",
       "version_major": 2,
       "version_minor": 0
      },
      "text/plain": [
       "Validation: |          | 0/? [00:00<?, ?it/s]"
      ]
     },
     "metadata": {},
     "output_type": "display_data"
    },
    {
     "data": {
      "application/vnd.jupyter.widget-view+json": {
       "model_id": "5b4b7115c6464678a8f53f172404f52a",
       "version_major": 2,
       "version_minor": 0
      },
      "text/plain": [
       "Validation: |          | 0/? [00:00<?, ?it/s]"
      ]
     },
     "metadata": {},
     "output_type": "display_data"
    },
    {
     "data": {
      "application/vnd.jupyter.widget-view+json": {
       "model_id": "6db75787f8e943b9b2eef2f5d8bfd2d3",
       "version_major": 2,
       "version_minor": 0
      },
      "text/plain": [
       "Validation: |          | 0/? [00:00<?, ?it/s]"
      ]
     },
     "metadata": {},
     "output_type": "display_data"
    },
    {
     "data": {
      "application/vnd.jupyter.widget-view+json": {
       "model_id": "1b2afd0015de45bc8353c4486bf736b9",
       "version_major": 2,
       "version_minor": 0
      },
      "text/plain": [
       "Validation: |          | 0/? [00:00<?, ?it/s]"
      ]
     },
     "metadata": {},
     "output_type": "display_data"
    },
    {
     "data": {
      "application/vnd.jupyter.widget-view+json": {
       "model_id": "144f205bdfa347d1b0943845426db809",
       "version_major": 2,
       "version_minor": 0
      },
      "text/plain": [
       "Validation: |          | 0/? [00:00<?, ?it/s]"
      ]
     },
     "metadata": {},
     "output_type": "display_data"
    },
    {
     "data": {
      "application/vnd.jupyter.widget-view+json": {
       "model_id": "e95b0ca13dbb49c0b5bd96fb1c1158eb",
       "version_major": 2,
       "version_minor": 0
      },
      "text/plain": [
       "Validation: |          | 0/? [00:00<?, ?it/s]"
      ]
     },
     "metadata": {},
     "output_type": "display_data"
    },
    {
     "data": {
      "application/vnd.jupyter.widget-view+json": {
       "model_id": "df22c1ca5a544ce68e1fb02815a0aac9",
       "version_major": 2,
       "version_minor": 0
      },
      "text/plain": [
       "Validation: |          | 0/? [00:00<?, ?it/s]"
      ]
     },
     "metadata": {},
     "output_type": "display_data"
    },
    {
     "data": {
      "application/vnd.jupyter.widget-view+json": {
       "model_id": "205e8ddbff9349e49b1d57d719b7832a",
       "version_major": 2,
       "version_minor": 0
      },
      "text/plain": [
       "Validation: |          | 0/? [00:00<?, ?it/s]"
      ]
     },
     "metadata": {},
     "output_type": "display_data"
    },
    {
     "data": {
      "application/vnd.jupyter.widget-view+json": {
       "model_id": "dd8325d02b094e34a900dbed2a963821",
       "version_major": 2,
       "version_minor": 0
      },
      "text/plain": [
       "Validation: |          | 0/? [00:00<?, ?it/s]"
      ]
     },
     "metadata": {},
     "output_type": "display_data"
    },
    {
     "data": {
      "application/vnd.jupyter.widget-view+json": {
       "model_id": "4b5779159792462aab19cb8912f828af",
       "version_major": 2,
       "version_minor": 0
      },
      "text/plain": [
       "Validation: |          | 0/? [00:00<?, ?it/s]"
      ]
     },
     "metadata": {},
     "output_type": "display_data"
    },
    {
     "data": {
      "application/vnd.jupyter.widget-view+json": {
       "model_id": "80752fdf499b431d9a15dd8f9323bb22",
       "version_major": 2,
       "version_minor": 0
      },
      "text/plain": [
       "Validation: |          | 0/? [00:00<?, ?it/s]"
      ]
     },
     "metadata": {},
     "output_type": "display_data"
    },
    {
     "data": {
      "application/vnd.jupyter.widget-view+json": {
       "model_id": "614206254ec241f1b9e89f1894d0033c",
       "version_major": 2,
       "version_minor": 0
      },
      "text/plain": [
       "Validation: |          | 0/? [00:00<?, ?it/s]"
      ]
     },
     "metadata": {},
     "output_type": "display_data"
    },
    {
     "data": {
      "application/vnd.jupyter.widget-view+json": {
       "model_id": "1b378e2069664ef1a53220b8a75f3368",
       "version_major": 2,
       "version_minor": 0
      },
      "text/plain": [
       "Validation: |          | 0/? [00:00<?, ?it/s]"
      ]
     },
     "metadata": {},
     "output_type": "display_data"
    },
    {
     "data": {
      "application/vnd.jupyter.widget-view+json": {
       "model_id": "82af16e825504fd2b8fd1fd5735966f3",
       "version_major": 2,
       "version_minor": 0
      },
      "text/plain": [
       "Validation: |          | 0/? [00:00<?, ?it/s]"
      ]
     },
     "metadata": {},
     "output_type": "display_data"
    },
    {
     "data": {
      "application/vnd.jupyter.widget-view+json": {
       "model_id": "ec83c630549b4f7588996e98549dc81b",
       "version_major": 2,
       "version_minor": 0
      },
      "text/plain": [
       "Validation: |          | 0/? [00:00<?, ?it/s]"
      ]
     },
     "metadata": {},
     "output_type": "display_data"
    },
    {
     "data": {
      "application/vnd.jupyter.widget-view+json": {
       "model_id": "25db8f9a87364ca285576ea334c7ecf6",
       "version_major": 2,
       "version_minor": 0
      },
      "text/plain": [
       "Validation: |          | 0/? [00:00<?, ?it/s]"
      ]
     },
     "metadata": {},
     "output_type": "display_data"
    },
    {
     "data": {
      "application/vnd.jupyter.widget-view+json": {
       "model_id": "5255e246546a488fb1d173b2cbd7454c",
       "version_major": 2,
       "version_minor": 0
      },
      "text/plain": [
       "Validation: |          | 0/? [00:00<?, ?it/s]"
      ]
     },
     "metadata": {},
     "output_type": "display_data"
    },
    {
     "data": {
      "application/vnd.jupyter.widget-view+json": {
       "model_id": "9cba416572db4a998c9f1d20005c6af3",
       "version_major": 2,
       "version_minor": 0
      },
      "text/plain": [
       "Validation: |          | 0/? [00:00<?, ?it/s]"
      ]
     },
     "metadata": {},
     "output_type": "display_data"
    },
    {
     "data": {
      "application/vnd.jupyter.widget-view+json": {
       "model_id": "61fb59a07dac4fd9946aaa243bef4d1f",
       "version_major": 2,
       "version_minor": 0
      },
      "text/plain": [
       "Validation: |          | 0/? [00:00<?, ?it/s]"
      ]
     },
     "metadata": {},
     "output_type": "display_data"
    },
    {
     "data": {
      "application/vnd.jupyter.widget-view+json": {
       "model_id": "dac02799fbb54b86a3aae4ed245281ee",
       "version_major": 2,
       "version_minor": 0
      },
      "text/plain": [
       "Validation: |          | 0/? [00:00<?, ?it/s]"
      ]
     },
     "metadata": {},
     "output_type": "display_data"
    },
    {
     "data": {
      "application/vnd.jupyter.widget-view+json": {
       "model_id": "154e059fa0f3461a942e0b32559acee3",
       "version_major": 2,
       "version_minor": 0
      },
      "text/plain": [
       "Validation: |          | 0/? [00:00<?, ?it/s]"
      ]
     },
     "metadata": {},
     "output_type": "display_data"
    },
    {
     "data": {
      "application/vnd.jupyter.widget-view+json": {
       "model_id": "09d057a826554e4b9f925b61cc425f81",
       "version_major": 2,
       "version_minor": 0
      },
      "text/plain": [
       "Validation: |          | 0/? [00:00<?, ?it/s]"
      ]
     },
     "metadata": {},
     "output_type": "display_data"
    },
    {
     "data": {
      "application/vnd.jupyter.widget-view+json": {
       "model_id": "b054eb3f612945fdb6e7aeb7a4ec9edf",
       "version_major": 2,
       "version_minor": 0
      },
      "text/plain": [
       "Validation: |          | 0/? [00:00<?, ?it/s]"
      ]
     },
     "metadata": {},
     "output_type": "display_data"
    },
    {
     "data": {
      "application/vnd.jupyter.widget-view+json": {
       "model_id": "1eec6b7f625b4255a74da19684484cd7",
       "version_major": 2,
       "version_minor": 0
      },
      "text/plain": [
       "Validation: |          | 0/? [00:00<?, ?it/s]"
      ]
     },
     "metadata": {},
     "output_type": "display_data"
    },
    {
     "data": {
      "application/vnd.jupyter.widget-view+json": {
       "model_id": "7546e5bf57e3478ab1c9068d415d606d",
       "version_major": 2,
       "version_minor": 0
      },
      "text/plain": [
       "Validation: |          | 0/? [00:00<?, ?it/s]"
      ]
     },
     "metadata": {},
     "output_type": "display_data"
    },
    {
     "data": {
      "application/vnd.jupyter.widget-view+json": {
       "model_id": "097448df8e104c3fa1771bb96f874812",
       "version_major": 2,
       "version_minor": 0
      },
      "text/plain": [
       "Validation: |          | 0/? [00:00<?, ?it/s]"
      ]
     },
     "metadata": {},
     "output_type": "display_data"
    },
    {
     "data": {
      "application/vnd.jupyter.widget-view+json": {
       "model_id": "e255c89c758244468c94da7726542ab8",
       "version_major": 2,
       "version_minor": 0
      },
      "text/plain": [
       "Validation: |          | 0/? [00:00<?, ?it/s]"
      ]
     },
     "metadata": {},
     "output_type": "display_data"
    },
    {
     "data": {
      "application/vnd.jupyter.widget-view+json": {
       "model_id": "529d6ec8e142419683c03346a0e83f1a",
       "version_major": 2,
       "version_minor": 0
      },
      "text/plain": [
       "Validation: |          | 0/? [00:00<?, ?it/s]"
      ]
     },
     "metadata": {},
     "output_type": "display_data"
    },
    {
     "data": {
      "application/vnd.jupyter.widget-view+json": {
       "model_id": "66ee3a8a5e7440cf91ed1aef4791f9a7",
       "version_major": 2,
       "version_minor": 0
      },
      "text/plain": [
       "Validation: |          | 0/? [00:00<?, ?it/s]"
      ]
     },
     "metadata": {},
     "output_type": "display_data"
    },
    {
     "data": {
      "application/vnd.jupyter.widget-view+json": {
       "model_id": "20f3716b20864bd0a04d0dbb29f011b6",
       "version_major": 2,
       "version_minor": 0
      },
      "text/plain": [
       "Validation: |          | 0/? [00:00<?, ?it/s]"
      ]
     },
     "metadata": {},
     "output_type": "display_data"
    },
    {
     "data": {
      "application/vnd.jupyter.widget-view+json": {
       "model_id": "80d85ec606c14967be3d635aeccdfff8",
       "version_major": 2,
       "version_minor": 0
      },
      "text/plain": [
       "Validation: |          | 0/? [00:00<?, ?it/s]"
      ]
     },
     "metadata": {},
     "output_type": "display_data"
    },
    {
     "data": {
      "application/vnd.jupyter.widget-view+json": {
       "model_id": "b5825cda14ea40338eef8d92eb6f1794",
       "version_major": 2,
       "version_minor": 0
      },
      "text/plain": [
       "Validation: |          | 0/? [00:00<?, ?it/s]"
      ]
     },
     "metadata": {},
     "output_type": "display_data"
    },
    {
     "data": {
      "application/vnd.jupyter.widget-view+json": {
       "model_id": "caac70afee2441c7a6ce11025cd13d08",
       "version_major": 2,
       "version_minor": 0
      },
      "text/plain": [
       "Validation: |          | 0/? [00:00<?, ?it/s]"
      ]
     },
     "metadata": {},
     "output_type": "display_data"
    }
   ],
   "source": [
    "trainer.fit(\n",
    "    gru,\n",
    "    train_dataloaders=train_dataloader,\n",
    "    val_dataloaders=val_dataloader,\n",
    ")"
   ]
  },
  {
   "cell_type": "code",
   "execution_count": 36,
   "id": "6a08bcd6fee2e037",
   "metadata": {
    "ExecuteTime": {
     "end_time": "2024-01-05T04:25:14.089795127Z",
     "start_time": "2024-01-05T04:25:13.952070910Z"
    }
   },
   "outputs": [],
   "source": [
    "best_gru_path = trainer.checkpoint_callback.best_model_path\n",
    "best_gru = RecurrentNetwork.load_from_checkpoint(best_gru_path)\n",
    "torch.save(best_gru.state_dict(), \"../models/gru.pt\")"
   ]
  },
  {
   "cell_type": "code",
   "execution_count": 37,
   "id": "5a8288b02e9b2ca6",
   "metadata": {
    "ExecuteTime": {
     "end_time": "2024-01-05T04:25:14.496998611Z",
     "start_time": "2024-01-05T04:25:14.092070943Z"
    }
   },
   "outputs": [
    {
     "name": "stderr",
     "output_type": "stream",
     "text": [
      "LOCAL_RANK: 0 - CUDA_VISIBLE_DEVICES: [0]\n"
     ]
    }
   ],
   "source": [
    "gru_predictions = best_gru.predict(val_dataloader, return_y=True)\n",
    "\n",
    "gru_mae = mae(torch.cat(gru_predictions.output), torch.cat(gru_predictions.y[0]))\n",
    "gru_mape = mape(torch.cat(gru_predictions.output), torch.cat(gru_predictions.y[0]))\n",
    "gru_mse = mse(torch.cat(gru_predictions.output), torch.cat(gru_predictions.y[0]))"
   ]
  },
  {
   "cell_type": "code",
   "execution_count": 38,
   "id": "5d42629e8dca35e7",
   "metadata": {
    "ExecuteTime": {
     "end_time": "2024-01-05T04:25:14.624173642Z",
     "start_time": "2024-01-05T04:25:14.498430577Z"
    }
   },
   "outputs": [
    {
     "data": {
      "text/plain": [
       "(tensor(0.8480, device='cuda:0'),\n",
       " tensor(0.9148, device='cuda:0'),\n",
       " tensor(0.6004, device='cuda:0'))"
      ]
     },
     "execution_count": 38,
     "metadata": {},
     "output_type": "execute_result"
    }
   ],
   "source": [
    "gru_mae / baseline_mae, gru_mape / baseline_mape, gru_mse / baseline_mse "
   ]
  },
  {
   "cell_type": "code",
   "execution_count": null,
   "id": "68f9dfac3f246f20",
   "metadata": {},
   "outputs": [],
   "source": []
  }
 ],
 "metadata": {
  "kernelspec": {
   "display_name": "Python 3 (ipykernel)",
   "language": "python",
   "name": "python3"
  },
  "language_info": {
   "codemirror_mode": {
    "name": "ipython",
    "version": 3
   },
   "file_extension": ".py",
   "mimetype": "text/x-python",
   "name": "python",
   "nbconvert_exporter": "python",
   "pygments_lexer": "ipython3",
   "version": "3.9.13"
  }
 },
 "nbformat": 4,
 "nbformat_minor": 5
}
