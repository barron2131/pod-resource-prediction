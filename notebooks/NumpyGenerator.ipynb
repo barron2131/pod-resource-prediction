{
 "cells": [
  {
   "cell_type": "code",
   "execution_count": 130,
   "id": "initial_id",
   "metadata": {
    "collapsed": true,
    "ExecuteTime": {
     "end_time": "2023-12-23T19:12:17.025465799Z",
     "start_time": "2023-12-23T19:12:16.725786251Z"
    }
   },
   "outputs": [],
   "source": [
    "import pandas as pd\n",
    "import numpy as np"
   ]
  },
  {
   "cell_type": "code",
   "outputs": [],
   "source": [
    "nodes_path = \"./data/nodes.csv\"\n",
    "edges_path = \"./data/edges.csv\"\n",
    "\n",
    "pods = [\n",
    "    \"adservice\", \"cartservice\", \"checkoutservice\", \"currencyservice\", \"emailservice\", \"frontend\", \"paymentservice\", \"productcatalogservice\", \"recommendationservice\", \"redis\", \"shippingservice\",\n",
    "]\n",
    "\n",
    "window = 60\n",
    "horizont = 30\n",
    "steps = 10"
   ],
   "metadata": {
    "collapsed": false,
    "ExecuteTime": {
     "end_time": "2023-12-23T19:26:43.574479276Z",
     "start_time": "2023-12-23T19:26:43.532686751Z"
    }
   },
   "id": "bcf040f69e7cf53a",
   "execution_count": 145
  },
  {
   "cell_type": "code",
   "outputs": [],
   "source": [
    "nodes_df = pd.read_csv(nodes_path)\n",
    "edges_df = pd.read_csv(edges_path)"
   ],
   "metadata": {
    "collapsed": false,
    "ExecuteTime": {
     "end_time": "2023-12-23T18:30:54.639382856Z",
     "start_time": "2023-12-23T18:30:54.598033122Z"
    }
   },
   "id": "b5420f38f9cf150a",
   "execution_count": 70
  },
  {
   "cell_type": "code",
   "outputs": [
    {
     "data": {
      "text/plain": "1440"
     },
     "execution_count": 147,
     "metadata": {},
     "output_type": "execute_result"
    }
   ],
   "source": [
    "len(nodes_df)"
   ],
   "metadata": {
    "collapsed": false,
    "ExecuteTime": {
     "end_time": "2023-12-23T19:27:31.337251767Z",
     "start_time": "2023-12-23T19:27:31.326815830Z"
    }
   },
   "id": "4b7ee11230b7b368",
   "execution_count": 147
  },
  {
   "cell_type": "code",
   "outputs": [],
   "source": [
    "nodes_df = nodes_df.sort_values(\"timestamp\").sort_values(\"timestamp\")\n",
    "edges_df = edges_df.sort_values(\"timestamp\").sort_values(\"timestamp\")"
   ],
   "metadata": {
    "collapsed": false,
    "ExecuteTime": {
     "end_time": "2023-12-23T18:30:56.407860528Z",
     "start_time": "2023-12-23T18:30:56.396286027Z"
    }
   },
   "id": "94b77b9d3b10b92c",
   "execution_count": 71
  },
  {
   "cell_type": "code",
   "outputs": [],
   "source": [
    "X_nodes = []\n",
    "y_nodes = []\n",
    "\n",
    "for i in range(0, len(nodes_df) - window - horizont + 1, steps):\n",
    "    node_window = nodes_df.iloc[i : i + window]\n",
    "    node_horizont = nodes_df.iloc[i + window : i + window + horizont]\n",
    "    \n",
    "    x = []\n",
    "    y = []\n",
    "    for pod in pods:\n",
    "        x.append(node_window[[f\"{pod}_cpu\", f\"{pod}_ram\"]].to_numpy())\n",
    "        y.append(node_horizont[[f\"{pod}_cpu\", f\"{pod}_ram\"]].to_numpy())\n",
    "    X_nodes.append(np.array(node_x).swapaxes(0, 1))\n",
    "    y_nodes.append(np.array(node_y).swapaxes(0, 1))"
   ],
   "metadata": {
    "collapsed": false,
    "ExecuteTime": {
     "end_time": "2023-12-23T20:50:07.130752283Z",
     "start_time": "2023-12-23T20:50:06.484252478Z"
    }
   },
   "id": "aa51c7fa535f6ce1",
   "execution_count": 209
  },
  {
   "cell_type": "code",
   "outputs": [
    {
     "data": {
      "text/plain": "((136, 60, 11, 2), (136, 30, 11, 2))"
     },
     "execution_count": 211,
     "metadata": {},
     "output_type": "execute_result"
    }
   ],
   "source": [
    "np.array(X_nodes).shape, np.array(y_nodes).shape"
   ],
   "metadata": {
    "collapsed": false,
    "ExecuteTime": {
     "end_time": "2023-12-23T20:50:16.489374438Z",
     "start_time": "2023-12-23T20:50:16.441409774Z"
    }
   },
   "id": "be8d7b171885c2cc",
   "execution_count": 211
  },
  {
   "cell_type": "code",
   "outputs": [],
   "source": [
    "np.savez(\"./data/node_features.npz\", X=X_nodes, y=y_nodes)"
   ],
   "metadata": {
    "collapsed": false,
    "ExecuteTime": {
     "end_time": "2023-12-23T20:50:35.538292124Z",
     "start_time": "2023-12-23T20:50:35.526673360Z"
    }
   },
   "id": "4b546c3e051be2f9",
   "execution_count": 213
  },
  {
   "cell_type": "code",
   "outputs": [
    {
     "data": {
      "text/plain": "(136, 60, 11, 2)"
     },
     "execution_count": 214,
     "metadata": {},
     "output_type": "execute_result"
    }
   ],
   "source": [
    "np.load(\"./data/node_features.npz\")['X'].shape"
   ],
   "metadata": {
    "collapsed": false,
    "ExecuteTime": {
     "end_time": "2023-12-23T20:50:36.315055548Z",
     "start_time": "2023-12-23T20:50:36.304179913Z"
    }
   },
   "id": "3d532afc81e86c37",
   "execution_count": 214
  },
  {
   "cell_type": "markdown",
   "source": [
    "## Edges"
   ],
   "metadata": {
    "collapsed": false
   },
   "id": "8c99f4fef80b6bdc"
  },
  {
   "cell_type": "code",
   "outputs": [],
   "source": [
    "edges_timed = edges_df.groupby(\"timestamp\")"
   ],
   "metadata": {
    "collapsed": false,
    "ExecuteTime": {
     "end_time": "2023-12-23T20:51:57.106857952Z",
     "start_time": "2023-12-23T20:51:57.065527277Z"
    }
   },
   "id": "5afd88159a0be22e",
   "execution_count": 215
  },
  {
   "cell_type": "code",
   "outputs": [],
   "source": [
    "X_edges = []\n",
    "y_edges = []\n",
    "graph = []\n",
    "\n",
    "for k in range(0, len(nodes_df) - window - horizont + 1, steps):\n",
    "    edges = nodes_df.iloc[k : k + window + horizont]\n",
    "    if len(graph) == window + horizont:\n",
    "        edges = edges.iloc[-steps:]\n",
    "        graph = graph[steps:]\n",
    "\n",
    "    for t in edges[\"timestamp\"]:\n",
    "        edges_info = edges_timed.get_group(t)\n",
    "        A = np.zeros((len(pods), len(pods)))\n",
    "        for i in range(len(pods)):\n",
    "            for j in range(len(pods)):\n",
    "                from_pod = pods[i]\n",
    "                to_pod = pods[j]\n",
    "                \n",
    "                query = edges_info.query(\"`from` == @from_pod and `to` == @to_pod\")\n",
    "                if len(query) > 0:\n",
    "                    A[i, j] = query[\"value\"].item()\n",
    "        graph.append(A)\n",
    "    X_edges.append(graph[:window])\n",
    "    y_edges.append(graph[window:])"
   ],
   "metadata": {
    "collapsed": false,
    "ExecuteTime": {
     "end_time": "2023-12-23T21:40:37.332836765Z",
     "start_time": "2023-12-23T21:37:54.175861313Z"
    }
   },
   "id": "5c628dbfb2a2c4c4",
   "execution_count": 221
  },
  {
   "cell_type": "code",
   "outputs": [],
   "source": [
    "np.savez(\"./data/edges_features.npz\", X=X_edges, y=y_edges)"
   ],
   "metadata": {
    "collapsed": false,
    "ExecuteTime": {
     "end_time": "2023-12-23T21:42:02.048838373Z",
     "start_time": "2023-12-23T21:42:02.003096267Z"
    }
   },
   "id": "b3eb296e29b96e6d",
   "execution_count": 224
  },
  {
   "cell_type": "code",
   "outputs": [],
   "source": [],
   "metadata": {
    "collapsed": false
   },
   "id": "ff4277ec5981e0a8"
  }
 ],
 "metadata": {
  "kernelspec": {
   "display_name": "Python 3",
   "language": "python",
   "name": "python3"
  },
  "language_info": {
   "codemirror_mode": {
    "name": "ipython",
    "version": 2
   },
   "file_extension": ".py",
   "mimetype": "text/x-python",
   "name": "python",
   "nbconvert_exporter": "python",
   "pygments_lexer": "ipython2",
   "version": "2.7.6"
  }
 },
 "nbformat": 4,
 "nbformat_minor": 5
}
